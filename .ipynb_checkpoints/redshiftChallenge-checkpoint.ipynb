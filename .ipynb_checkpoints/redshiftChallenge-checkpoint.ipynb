{
 "cells": [
  {
   "cell_type": "code",
   "execution_count": 1,
   "metadata": {},
   "outputs": [
    {
     "name": "stdout",
     "output_type": "stream",
     "text": [
      "Populating the interactive namespace from numpy and matplotlib\n"
     ]
    },
    {
     "name": "stderr",
     "output_type": "stream",
     "text": [
      "/anaconda3/lib/python3.6/site-packages/h5py/__init__.py:34: FutureWarning: Conversion of the second argument of issubdtype from `float` to `np.floating` is deprecated. In future, it will be treated as `np.float64 == np.dtype(float).type`.\n",
      "  from ._conv import register_converters as _register_converters\n"
     ]
    }
   ],
   "source": [
    "%pylab inline\n",
    "import pandas as pd\n",
    "import tensorflow as tf\n",
    "\n",
    "train_data = pd.read_csv('train.csv')\n",
    "test_data = pd.read_csv('test.csv')"
   ]
  },
  {
   "cell_type": "code",
   "execution_count": 2,
   "metadata": {
    "collapsed": true
   },
   "outputs": [],
   "source": [
    "x1 = train_data.u\n",
    "x2 = train_data.g\n",
    "x3 = train_data.r\n",
    "x4 = train_data.i\n",
    "x5 = train_data.z"
   ]
  },
  {
   "cell_type": "code",
   "execution_count": 3,
   "metadata": {
    "collapsed": true
   },
   "outputs": [],
   "source": [
    "#hyperparameters\n",
    "num_features = 5\n",
    "num_h1 = 800\n",
    "num_h2 = 600\n",
    "delta = tf.constant(0.1)\n",
    "learningrate = 0.005\n",
    "\n",
    "epoch = 100000\n"
   ]
  },
  {
   "cell_type": "code",
   "execution_count": 4,
   "metadata": {
    "collapsed": true
   },
   "outputs": [],
   "source": [
    "xdata = tf.placeholder(dtype = tf.float32, shape = [num_features, 1])\n",
    "ydata = tf.placeholder(dtype = tf.float32, shape = [1])"
   ]
  },
  {
   "cell_type": "code",
   "execution_count": 5,
   "metadata": {
    "collapsed": true
   },
   "outputs": [],
   "source": [
    "weights = {'h1' : tf.Variable(tf.truncated_normal(shape = [num_features, num_h1]), dtype = tf.float32),\n",
    "          'h2' :tf.Variable(tf.truncated_normal(shape = [num_h1, num_h2]), dtype = tf.float32),\n",
    "          'out' : tf.Variable(tf.truncated_normal(shape = [num_h2, 1]), dtype = tf.float32)}\n",
    "biases = {'b1' :tf.Variable(tf.zeros(shape = [num_h1]), dtype = tf.float32),\n",
    "         'b2' :tf.Variable(tf.zeros(shape = [num_h2]), dtype = tf.float32),\n",
    "         'out' :tf.Variable(tf.zeros(shape = [1]), dtype = tf.float32), \n",
    "         }"
   ]
  },
  {
   "cell_type": "code",
   "execution_count": 6,
   "metadata": {
    "collapsed": true
   },
   "outputs": [],
   "source": [
    "layer_1 = tf.nn.sigmoid(tf.add(tf.matmul(tf.transpose(xdata),(weights['h1'])), biases['b1']))\n",
    "\n",
    "layer_2 = tf.nn.sigmoid(tf.add(tf.matmul(layer_1, weights['h2']), biases['b2']))\n",
    "output = tf.add(tf.matmul(layer_2, weights['out']), biases['out'])"
   ]
  },
  {
   "cell_type": "code",
   "execution_count": 7,
   "metadata": {
    "collapsed": true
   },
   "outputs": [],
   "source": [
    "loss = tf.multiply(tf.square(delta), tf.sqrt(1. +tf.square((ydata - output)/delta)) - 1.)#tf.sqrt(np.abs(tf.square(output)-tf.square((ydata))))\n",
    "rmse = tf.reduce_mean(tf.square(ydata - output))\n",
    "my_optimizer = tf.train.GradientDescentOptimizer(learning_rate = learningrate)\n",
    "train_step = my_optimizer.minimize(loss)"
   ]
  },
  {
   "cell_type": "code",
   "execution_count": 8,
   "metadata": {
    "collapsed": true
   },
   "outputs": [],
   "source": [
    "init_op = tf.global_variables_initializer()\n",
    "sess = tf.Session()\n",
    "sess.run(init_op)"
   ]
  },
  {
   "cell_type": "code",
   "execution_count": 9,
   "metadata": {},
   "outputs": [
    {
     "name": "stdout",
     "output_type": "stream",
     "text": [
      "[[0.22241177]] ,\n"
     ]
    }
   ],
   "source": [
    "for i in range(epoch):\n",
    "    rand_index = np.random.choice(len(train_data))\n",
    "    x1rand = [x1[rand_index]]\n",
    "    x2rand = [x2[rand_index]]\n",
    "    x3rand = [x3[rand_index]]\n",
    "    x4rand = [x4[rand_index]]\n",
    "    x5rand = [x5[rand_index]]\n",
    "    \n",
    "    yrand = [train_data.redshift[rand_index]]\n",
    "    sess.run(train_step, feed_dict = {xdata: [x1rand,x2rand, x3rand, x4rand, x5rand ], ydata : yrand})\n",
    "    if i % 100000 == 0 :\n",
    "        print((sess.run(loss,feed_dict = {xdata: [x1rand,x2rand, x3rand, x4rand, x5rand ], ydata : yrand}) ),',')"
   ]
  },
  {
   "cell_type": "code",
   "execution_count": 81,
   "metadata": {
    "collapsed": true
   },
   "outputs": [],
   "source": [
    "r = zeros(len(test_data))\n",
    "f1=open('./predicted.csv', 'w+')\n",
    "f1.write('id, redshift \\n')\n",
    "for i in range(len(r)):\n",
    "    r[i] = sess.run(output, feed_dict = {xdata : reshape([x1[i], x2[i], x3[i], x4[i], x5[i]], (5,1)), ydata : reshape(train_data.redshift[i], (1))})\n",
    "#plot(test_data.redshift, r, '.')\n",
    "    f1.write(str(test_data.id[i] ) + ', ' + str(r[i]) + '\\n')\n",
    "\n",
    "f1.close()"
   ]
  },
  {
   "cell_type": "code",
   "execution_count": 110,
   "metadata": {
    "collapsed": true
   },
   "outputs": [],
   "source": [
    "x1 = test_data.u\n",
    "x2 = test_data.g\n",
    "x3 = test_data.r\n",
    "x4 = test_data.i\n",
    "x5 = test_data.z"
   ]
  },
  {
   "cell_type": "code",
   "execution_count": 10,
   "metadata": {
    "collapsed": true
   },
   "outputs": [],
   "source": [
    "k =100000\n",
    "r = zeros(k)\n",
    "a = np.zeros(k)\n",
    "b = np.zeros(k)\n",
    "for i in range(k):\n",
    "    r[i] = sess.run(output, feed_dict = {xdata : reshape([x1[i], x2[i], x3[i], x4[i], x5[i]], (5,1)), ydata : reshape(train_data.redshift[i], (1))})\n",
    "#plot(test_data.redshift, r, '.')\n",
    "    a[i]=(r[i])\n",
    "    b[i] =(train_data.redshift[i])\n",
    "        "
   ]
  },
  {
   "cell_type": "code",
   "execution_count": 11,
   "metadata": {},
   "outputs": [
    {
     "data": {
      "text/plain": [
       "0.10789727245899919"
      ]
     },
     "execution_count": 11,
     "metadata": {},
     "output_type": "execute_result"
    }
   ],
   "source": [
    "sqrt(average((multiply(a-b, a-b))))"
   ]
  },
  {
   "cell_type": "code",
   "execution_count": 17,
   "metadata": {
    "collapsed": true
   },
   "outputs": [],
   "source": [
    "from sklearn import neighbors\n",
    "from sklearn.model_selection import cross_val_predict\n",
    "x = train_data.drop(['redshift'], axis = 1).values"
   ]
  },
  {
   "cell_type": "code",
   "execution_count": 18,
   "metadata": {
    "collapsed": true
   },
   "outputs": [],
   "source": [
    "y_pred = cross_val_predict(neighbors.KNeighborsRegressor(), x, train_data.redshift)"
   ]
  },
  {
   "cell_type": "code",
   "execution_count": null,
   "metadata": {
    "collapsed": true
   },
   "outputs": [],
   "source": [
    "plot(train_data.redshift, y_pred, '.')"
   ]
  },
  {
   "cell_type": "markdown",
   "metadata": {
    "collapsed": true
   },
   "source": [
    "## Other methods\n",
    "\n",
    "The KNeighbours regression"
   ]
  },
  {
   "cell_type": "code",
   "execution_count": 2,
   "metadata": {
    "collapsed": true
   },
   "outputs": [],
   "source": [
    "x = train_data.drop(['redshift'], axis = 1)\n",
    "y = train_data.redshift"
   ]
  },
  {
   "cell_type": "code",
   "execution_count": 10,
   "metadata": {},
   "outputs": [
    {
     "name": "stdout",
     "output_type": "stream",
     "text": [
      "[0.33143137 0.33143137 0.36631189 ... 0.32729982 0.37505134 0.32729982]\n"
     ]
    }
   ],
   "source": [
    "from sklearn.neighbors import KNeighborsRegressor\n",
    "neigh = KNeighborsRegressor(n_neighbors=10)\n",
    "neigh.fit(x, y) \n",
    "\n",
    "print(neigh.predict(x))\n",
    "\n"
   ]
  },
  {
   "cell_type": "code",
   "execution_count": 11,
   "metadata": {
    "collapsed": true
   },
   "outputs": [],
   "source": [
    "y_pred = neigh.predict(x)"
   ]
  },
  {
   "cell_type": "code",
   "execution_count": 12,
   "metadata": {},
   "outputs": [
    {
     "name": "stdout",
     "output_type": "stream",
     "text": [
      "RMSE:  0.14689761318337116\n"
     ]
    }
   ],
   "source": [
    "print('RMSE: ', sqrt(((y-y_pred)**2).mean()))"
   ]
  },
  {
   "cell_type": "code",
   "execution_count": null,
   "metadata": {
    "collapsed": true
   },
   "outputs": [],
   "source": []
  }
 ],
 "metadata": {
  "kernelspec": {
   "display_name": "Python 3",
   "language": "python",
   "name": "python3"
  },
  "language_info": {
   "codemirror_mode": {
    "name": "ipython",
    "version": 3
   },
   "file_extension": ".py",
   "mimetype": "text/x-python",
   "name": "python",
   "nbconvert_exporter": "python",
   "pygments_lexer": "ipython3",
   "version": "3.6.3"
  }
 },
 "nbformat": 4,
 "nbformat_minor": 2
}
