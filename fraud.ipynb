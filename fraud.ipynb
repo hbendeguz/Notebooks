{
  "nbformat": 4,
  "nbformat_minor": 0,
  "metadata": {
    "colab": {
      "name": "fraud.ipynb",
      "provenance": [],
      "collapsed_sections": [],
      "include_colab_link": true
    },
    "kernelspec": {
      "name": "python3",
      "display_name": "Python 3"
    }
  },
  "cells": [
    {
      "cell_type": "markdown",
      "metadata": {
        "id": "view-in-github",
        "colab_type": "text"
      },
      "source": [
        "<a href=\"https://colab.research.google.com/github/hbendeguz/Notebooks/blob/master/fraud.ipynb\" target=\"_parent\"><img src=\"https://colab.research.google.com/assets/colab-badge.svg\" alt=\"Open In Colab\"/></a>"
      ]
    },
    {
      "cell_type": "code",
      "metadata": {
        "id": "D4YMevyNxgo5",
        "colab_type": "code",
        "colab": {
          "base_uri": "https://localhost:8080/",
          "height": 34
        },
        "outputId": "d7234ec3-bb80-4775-986b-dc33456f2a10"
      },
      "source": [
        "%pylab inline\n",
        "import pandas as pd"
      ],
      "execution_count": 1,
      "outputs": [
        {
          "output_type": "stream",
          "text": [
            "Populating the interactive namespace from numpy and matplotlib\n"
          ],
          "name": "stdout"
        }
      ]
    },
    {
      "cell_type": "code",
      "metadata": {
        "id": "_jKEFm45xkpt",
        "colab_type": "code",
        "colab": {
          "base_uri": "https://localhost:8080/",
          "height": 34
        },
        "outputId": "c58c39b7-a20c-4670-93ea-111a78eefbe7"
      },
      "source": [
        "# Load the Drive helper and mount\n",
        "from google.colab import drive\n",
        "\n",
        "# This will prompt for authorization.\n",
        "drive.mount('/content/drive')"
      ],
      "execution_count": 20,
      "outputs": [
        {
          "output_type": "stream",
          "text": [
            "Mounted at /content/drive\n"
          ],
          "name": "stdout"
        }
      ]
    },
    {
      "cell_type": "code",
      "metadata": {
        "id": "NCQ3iLJnyJ3s",
        "colab_type": "code",
        "colab": {
          "base_uri": "https://localhost:8080/",
          "height": 122
        },
        "outputId": "124f93e2-25ee-41a3-c510-8f81a7a5336c"
      },
      "source": [
        "from google.colab import drive\n",
        "drive.mount('/content/drive')"
      ],
      "execution_count": 4,
      "outputs": [
        {
          "output_type": "stream",
          "text": [
            "Go to this URL in a browser: https://accounts.google.com/o/oauth2/auth?client_id=947318989803-6bn6qk8qdgf4n4g3pfee6491hc0brc4i.apps.googleusercontent.com&redirect_uri=urn%3aietf%3awg%3aoauth%3a2.0%3aoob&response_type=code&scope=email%20https%3a%2f%2fwww.googleapis.com%2fauth%2fdocs.test%20https%3a%2f%2fwww.googleapis.com%2fauth%2fdrive%20https%3a%2f%2fwww.googleapis.com%2fauth%2fdrive.photos.readonly%20https%3a%2f%2fwww.googleapis.com%2fauth%2fpeopleapi.readonly\n",
            "\n",
            "Enter your authorization code:\n",
            "··········\n",
            "Mounted at /content/drive\n"
          ],
          "name": "stdout"
        }
      ]
    },
    {
      "cell_type": "code",
      "metadata": {
        "id": "kiNh1D7Ry1Yt",
        "colab_type": "code",
        "colab": {}
      },
      "source": [
        ""
      ],
      "execution_count": 0,
      "outputs": []
    },
    {
      "cell_type": "code",
      "metadata": {
        "id": "sXDSKnrazzHM",
        "colab_type": "code",
        "colab": {
          "base_uri": "https://localhost:8080/",
          "height": 68
        },
        "outputId": "daf4827c-0a23-4f24-e952-34ff448ba0b0"
      },
      "source": [
        "# After executing the cell above, Drive\n",
        "# files will be present in \"/content/drive/My Drive\".\n",
        "!ls \"/content/drive/My Drive/Colab Notebooks\""
      ],
      "execution_count": 23,
      "outputs": [
        {
          "output_type": "stream",
          "text": [
            " data_0_31.npy\t 'Preproc (1).ipynb'   train.npy\t       Untitled0.ipynb\n",
            " data_32_63.npy   Preproc.ipynb        train_transaction.csv   Untitled1.ipynb\n",
            " fraud.ipynb\t  test.npy\t       tr_iv.csv\n"
          ],
          "name": "stdout"
        }
      ]
    },
    {
      "cell_type": "code",
      "metadata": {
        "id": "Bg3nhuDezgyO",
        "colab_type": "code",
        "colab": {}
      },
      "source": [
        "dt_iv = pd.read_csv('/content/drive/My Drive/Colab Notebooks/tr_iv.csv')"
      ],
      "execution_count": 0,
      "outputs": []
    },
    {
      "cell_type": "code",
      "metadata": {
        "id": "CwvbeYaM154j",
        "colab_type": "code",
        "colab": {}
      },
      "source": [
        "df = pd.read_csv('/content/drive/My Drive/Colab Notebooks/train_transaction.csv')"
      ],
      "execution_count": 0,
      "outputs": []
    },
    {
      "cell_type": "code",
      "metadata": {
        "id": "aszN6GuX1-k-",
        "colab_type": "code",
        "colab": {
          "base_uri": "https://localhost:8080/",
          "height": 428
        },
        "outputId": "6caf01d7-c5be-411f-f7c2-bdbb970eadd2"
      },
      "source": [
        "! pip install scorecardpy"
      ],
      "execution_count": 29,
      "outputs": [
        {
          "output_type": "stream",
          "text": [
            "Collecting scorecardpy\n",
            "\u001b[?25l  Downloading https://files.pythonhosted.org/packages/b3/fd/be6c15335e537d2360f85823cbb0b1c02cdd2ed9ff52539db78545db7115/scorecardpy-0.1.9.1.1.tar.gz (55kB)\n",
            "\u001b[K     |████████████████████████████████| 61kB 1.8MB/s \n",
            "\u001b[?25hRequirement already satisfied: numpy in /usr/local/lib/python3.6/dist-packages (from scorecardpy) (1.17.4)\n",
            "Requirement already satisfied: pandas>=0.25.0 in /usr/local/lib/python3.6/dist-packages (from scorecardpy) (0.25.3)\n",
            "Requirement already satisfied: matplotlib in /usr/local/lib/python3.6/dist-packages (from scorecardpy) (3.1.2)\n",
            "Requirement already satisfied: scikit-learn>=0.19.1 in /usr/local/lib/python3.6/dist-packages (from scorecardpy) (0.21.3)\n",
            "Requirement already satisfied: python-dateutil>=2.6.1 in /usr/local/lib/python3.6/dist-packages (from pandas>=0.25.0->scorecardpy) (2.6.1)\n",
            "Requirement already satisfied: pytz>=2017.2 in /usr/local/lib/python3.6/dist-packages (from pandas>=0.25.0->scorecardpy) (2018.9)\n",
            "Requirement already satisfied: cycler>=0.10 in /usr/local/lib/python3.6/dist-packages (from matplotlib->scorecardpy) (0.10.0)\n",
            "Requirement already satisfied: pyparsing!=2.0.4,!=2.1.2,!=2.1.6,>=2.0.1 in /usr/local/lib/python3.6/dist-packages (from matplotlib->scorecardpy) (2.4.5)\n",
            "Requirement already satisfied: kiwisolver>=1.0.1 in /usr/local/lib/python3.6/dist-packages (from matplotlib->scorecardpy) (1.1.0)\n",
            "Requirement already satisfied: scipy>=0.17.0 in /usr/local/lib/python3.6/dist-packages (from scikit-learn>=0.19.1->scorecardpy) (1.3.3)\n",
            "Requirement already satisfied: joblib>=0.11 in /usr/local/lib/python3.6/dist-packages (from scikit-learn>=0.19.1->scorecardpy) (0.14.0)\n",
            "Requirement already satisfied: six>=1.5 in /usr/local/lib/python3.6/dist-packages (from python-dateutil>=2.6.1->pandas>=0.25.0->scorecardpy) (1.12.0)\n",
            "Requirement already satisfied: setuptools in /usr/local/lib/python3.6/dist-packages (from kiwisolver>=1.0.1->matplotlib->scorecardpy) (42.0.2)\n",
            "Building wheels for collected packages: scorecardpy\n",
            "  Building wheel for scorecardpy (setup.py) ... \u001b[?25l\u001b[?25hdone\n",
            "  Created wheel for scorecardpy: filename=scorecardpy-0.1.9.1.1-cp36-none-any.whl size=58169 sha256=6114c3cd18452f0668b07605c08c2a434c8b064275cee4c51da4affabdb8c006\n",
            "  Stored in directory: /root/.cache/pip/wheels/8f/4c/98/567ff70984acd88ffae211d8fc209e34b98fb43ff27f09fdd3\n",
            "Successfully built scorecardpy\n",
            "Installing collected packages: scorecardpy\n",
            "Successfully installed scorecardpy-0.1.9.1.1\n"
          ],
          "name": "stdout"
        }
      ]
    },
    {
      "cell_type": "code",
      "metadata": {
        "id": "ggZ2da-o2U2C",
        "colab_type": "code",
        "colab": {
          "base_uri": "https://localhost:8080/",
          "height": 253
        },
        "outputId": "dd54c70e-61ef-483a-a236-efe9f475c121"
      },
      "source": [
        "df_reduced = df[dt_iv[dt_iv.info_value > 0.15].variable]\n",
        "df_reduced.head()"
      ],
      "execution_count": 30,
      "outputs": [
        {
          "output_type": "execute_result",
          "data": {
            "text/html": [
              "<div>\n",
              "<style scoped>\n",
              "    .dataframe tbody tr th:only-of-type {\n",
              "        vertical-align: middle;\n",
              "    }\n",
              "\n",
              "    .dataframe tbody tr th {\n",
              "        vertical-align: top;\n",
              "    }\n",
              "\n",
              "    .dataframe thead th {\n",
              "        text-align: right;\n",
              "    }\n",
              "</style>\n",
              "<table border=\"1\" class=\"dataframe\">\n",
              "  <thead>\n",
              "    <tr style=\"text-align: right;\">\n",
              "      <th></th>\n",
              "      <th>TransactionAmt</th>\n",
              "      <th>V307</th>\n",
              "      <th>V308</th>\n",
              "      <th>card1</th>\n",
              "      <th>V127</th>\n",
              "      <th>V317</th>\n",
              "      <th>V306</th>\n",
              "      <th>V128</th>\n",
              "      <th>V310</th>\n",
              "      <th>V318</th>\n",
              "      <th>V133</th>\n",
              "      <th>V126</th>\n",
              "      <th>V316</th>\n",
              "      <th>V314</th>\n",
              "      <th>V134</th>\n",
              "      <th>C4</th>\n",
              "      <th>V130</th>\n",
              "      <th>C12</th>\n",
              "      <th>C8</th>\n",
              "      <th>card2</th>\n",
              "      <th>C7</th>\n",
              "      <th>V132</th>\n",
              "      <th>V315</th>\n",
              "      <th>V312</th>\n",
              "      <th>C10</th>\n",
              "      <th>V313</th>\n",
              "      <th>V320</th>\n",
              "      <th>V45</th>\n",
              "      <th>V52</th>\n",
              "      <th>V321</th>\n",
              "      <th>V94</th>\n",
              "      <th>V79</th>\n",
              "      <th>addr1</th>\n",
              "      <th>V51</th>\n",
              "      <th>V34</th>\n",
              "      <th>V44</th>\n",
              "      <th>V74</th>\n",
              "      <th>V87</th>\n",
              "      <th>V33</th>\n",
              "      <th>V70</th>\n",
              "      <th>...</th>\n",
              "      <th>V95</th>\n",
              "      <th>V77</th>\n",
              "      <th>V5</th>\n",
              "      <th>M3</th>\n",
              "      <th>V3</th>\n",
              "      <th>V280</th>\n",
              "      <th>M2</th>\n",
              "      <th>V9</th>\n",
              "      <th>V293</th>\n",
              "      <th>V97</th>\n",
              "      <th>V4</th>\n",
              "      <th>V7</th>\n",
              "      <th>card6</th>\n",
              "      <th>V2</th>\n",
              "      <th>V8</th>\n",
              "      <th>V279</th>\n",
              "      <th>V6</th>\n",
              "      <th>M1</th>\n",
              "      <th>V1</th>\n",
              "      <th>V129</th>\n",
              "      <th>V54</th>\n",
              "      <th>V23</th>\n",
              "      <th>V47</th>\n",
              "      <th>V53</th>\n",
              "      <th>V67</th>\n",
              "      <th>V96</th>\n",
              "      <th>V123</th>\n",
              "      <th>V13</th>\n",
              "      <th>V62</th>\n",
              "      <th>V24</th>\n",
              "      <th>V56</th>\n",
              "      <th>M9</th>\n",
              "      <th>V76</th>\n",
              "      <th>V12</th>\n",
              "      <th>M8</th>\n",
              "      <th>P_emaildomain</th>\n",
              "      <th>M7</th>\n",
              "      <th>V75</th>\n",
              "      <th>V36</th>\n",
              "      <th>V125</th>\n",
              "    </tr>\n",
              "  </thead>\n",
              "  <tbody>\n",
              "    <tr>\n",
              "      <th>0</th>\n",
              "      <td>68.5</td>\n",
              "      <td>117.0</td>\n",
              "      <td>0.0</td>\n",
              "      <td>13926</td>\n",
              "      <td>117.0</td>\n",
              "      <td>117.0</td>\n",
              "      <td>0.0</td>\n",
              "      <td>0.0</td>\n",
              "      <td>0.0</td>\n",
              "      <td>0.0</td>\n",
              "      <td>117.0</td>\n",
              "      <td>0.0</td>\n",
              "      <td>0.0</td>\n",
              "      <td>0.0</td>\n",
              "      <td>0.0</td>\n",
              "      <td>0.0</td>\n",
              "      <td>0.0</td>\n",
              "      <td>0.0</td>\n",
              "      <td>0.0</td>\n",
              "      <td>NaN</td>\n",
              "      <td>0.0</td>\n",
              "      <td>0.0</td>\n",
              "      <td>0.0</td>\n",
              "      <td>0.0</td>\n",
              "      <td>0.0</td>\n",
              "      <td>0.0</td>\n",
              "      <td>0.0</td>\n",
              "      <td>NaN</td>\n",
              "      <td>NaN</td>\n",
              "      <td>0.0</td>\n",
              "      <td>0.0</td>\n",
              "      <td>0.0</td>\n",
              "      <td>315.0</td>\n",
              "      <td>NaN</td>\n",
              "      <td>0.0</td>\n",
              "      <td>NaN</td>\n",
              "      <td>0.0</td>\n",
              "      <td>1.0</td>\n",
              "      <td>0.0</td>\n",
              "      <td>0.0</td>\n",
              "      <td>...</td>\n",
              "      <td>0.0</td>\n",
              "      <td>1.0</td>\n",
              "      <td>1.0</td>\n",
              "      <td>T</td>\n",
              "      <td>1.0</td>\n",
              "      <td>0.0</td>\n",
              "      <td>T</td>\n",
              "      <td>1.0</td>\n",
              "      <td>0.0</td>\n",
              "      <td>0.0</td>\n",
              "      <td>1.0</td>\n",
              "      <td>1.0</td>\n",
              "      <td>credit</td>\n",
              "      <td>1.0</td>\n",
              "      <td>1.0</td>\n",
              "      <td>0.0</td>\n",
              "      <td>1.0</td>\n",
              "      <td>T</td>\n",
              "      <td>1.0</td>\n",
              "      <td>0.0</td>\n",
              "      <td>1.0</td>\n",
              "      <td>1.0</td>\n",
              "      <td>NaN</td>\n",
              "      <td>1.0</td>\n",
              "      <td>1.0</td>\n",
              "      <td>1.0</td>\n",
              "      <td>1.0</td>\n",
              "      <td>1.0</td>\n",
              "      <td>1.0</td>\n",
              "      <td>1.0</td>\n",
              "      <td>1.0</td>\n",
              "      <td>NaN</td>\n",
              "      <td>1.0</td>\n",
              "      <td>1.0</td>\n",
              "      <td>NaN</td>\n",
              "      <td>NaN</td>\n",
              "      <td>NaN</td>\n",
              "      <td>1.0</td>\n",
              "      <td>NaN</td>\n",
              "      <td>1.0</td>\n",
              "    </tr>\n",
              "    <tr>\n",
              "      <th>1</th>\n",
              "      <td>29.0</td>\n",
              "      <td>0.0</td>\n",
              "      <td>0.0</td>\n",
              "      <td>2755</td>\n",
              "      <td>0.0</td>\n",
              "      <td>0.0</td>\n",
              "      <td>0.0</td>\n",
              "      <td>0.0</td>\n",
              "      <td>0.0</td>\n",
              "      <td>0.0</td>\n",
              "      <td>0.0</td>\n",
              "      <td>0.0</td>\n",
              "      <td>0.0</td>\n",
              "      <td>0.0</td>\n",
              "      <td>0.0</td>\n",
              "      <td>0.0</td>\n",
              "      <td>0.0</td>\n",
              "      <td>0.0</td>\n",
              "      <td>0.0</td>\n",
              "      <td>404.0</td>\n",
              "      <td>0.0</td>\n",
              "      <td>0.0</td>\n",
              "      <td>0.0</td>\n",
              "      <td>0.0</td>\n",
              "      <td>0.0</td>\n",
              "      <td>0.0</td>\n",
              "      <td>0.0</td>\n",
              "      <td>1.0</td>\n",
              "      <td>0.0</td>\n",
              "      <td>0.0</td>\n",
              "      <td>0.0</td>\n",
              "      <td>0.0</td>\n",
              "      <td>325.0</td>\n",
              "      <td>0.0</td>\n",
              "      <td>0.0</td>\n",
              "      <td>1.0</td>\n",
              "      <td>0.0</td>\n",
              "      <td>1.0</td>\n",
              "      <td>0.0</td>\n",
              "      <td>0.0</td>\n",
              "      <td>...</td>\n",
              "      <td>0.0</td>\n",
              "      <td>1.0</td>\n",
              "      <td>NaN</td>\n",
              "      <td>NaN</td>\n",
              "      <td>NaN</td>\n",
              "      <td>0.0</td>\n",
              "      <td>NaN</td>\n",
              "      <td>NaN</td>\n",
              "      <td>0.0</td>\n",
              "      <td>0.0</td>\n",
              "      <td>NaN</td>\n",
              "      <td>NaN</td>\n",
              "      <td>credit</td>\n",
              "      <td>NaN</td>\n",
              "      <td>NaN</td>\n",
              "      <td>0.0</td>\n",
              "      <td>NaN</td>\n",
              "      <td>NaN</td>\n",
              "      <td>NaN</td>\n",
              "      <td>0.0</td>\n",
              "      <td>0.0</td>\n",
              "      <td>1.0</td>\n",
              "      <td>1.0</td>\n",
              "      <td>0.0</td>\n",
              "      <td>1.0</td>\n",
              "      <td>0.0</td>\n",
              "      <td>1.0</td>\n",
              "      <td>0.0</td>\n",
              "      <td>1.0</td>\n",
              "      <td>1.0</td>\n",
              "      <td>1.0</td>\n",
              "      <td>NaN</td>\n",
              "      <td>0.0</td>\n",
              "      <td>0.0</td>\n",
              "      <td>NaN</td>\n",
              "      <td>gmail.com</td>\n",
              "      <td>NaN</td>\n",
              "      <td>0.0</td>\n",
              "      <td>0.0</td>\n",
              "      <td>1.0</td>\n",
              "    </tr>\n",
              "    <tr>\n",
              "      <th>2</th>\n",
              "      <td>59.0</td>\n",
              "      <td>0.0</td>\n",
              "      <td>0.0</td>\n",
              "      <td>4663</td>\n",
              "      <td>0.0</td>\n",
              "      <td>0.0</td>\n",
              "      <td>0.0</td>\n",
              "      <td>0.0</td>\n",
              "      <td>0.0</td>\n",
              "      <td>0.0</td>\n",
              "      <td>0.0</td>\n",
              "      <td>0.0</td>\n",
              "      <td>0.0</td>\n",
              "      <td>0.0</td>\n",
              "      <td>0.0</td>\n",
              "      <td>0.0</td>\n",
              "      <td>0.0</td>\n",
              "      <td>0.0</td>\n",
              "      <td>0.0</td>\n",
              "      <td>490.0</td>\n",
              "      <td>0.0</td>\n",
              "      <td>0.0</td>\n",
              "      <td>0.0</td>\n",
              "      <td>0.0</td>\n",
              "      <td>0.0</td>\n",
              "      <td>0.0</td>\n",
              "      <td>0.0</td>\n",
              "      <td>1.0</td>\n",
              "      <td>0.0</td>\n",
              "      <td>0.0</td>\n",
              "      <td>0.0</td>\n",
              "      <td>0.0</td>\n",
              "      <td>330.0</td>\n",
              "      <td>0.0</td>\n",
              "      <td>0.0</td>\n",
              "      <td>1.0</td>\n",
              "      <td>0.0</td>\n",
              "      <td>1.0</td>\n",
              "      <td>0.0</td>\n",
              "      <td>0.0</td>\n",
              "      <td>...</td>\n",
              "      <td>0.0</td>\n",
              "      <td>1.0</td>\n",
              "      <td>1.0</td>\n",
              "      <td>T</td>\n",
              "      <td>1.0</td>\n",
              "      <td>0.0</td>\n",
              "      <td>T</td>\n",
              "      <td>1.0</td>\n",
              "      <td>0.0</td>\n",
              "      <td>0.0</td>\n",
              "      <td>1.0</td>\n",
              "      <td>1.0</td>\n",
              "      <td>debit</td>\n",
              "      <td>1.0</td>\n",
              "      <td>1.0</td>\n",
              "      <td>0.0</td>\n",
              "      <td>1.0</td>\n",
              "      <td>T</td>\n",
              "      <td>1.0</td>\n",
              "      <td>0.0</td>\n",
              "      <td>1.0</td>\n",
              "      <td>1.0</td>\n",
              "      <td>1.0</td>\n",
              "      <td>1.0</td>\n",
              "      <td>1.0</td>\n",
              "      <td>0.0</td>\n",
              "      <td>1.0</td>\n",
              "      <td>1.0</td>\n",
              "      <td>1.0</td>\n",
              "      <td>1.0</td>\n",
              "      <td>1.0</td>\n",
              "      <td>F</td>\n",
              "      <td>1.0</td>\n",
              "      <td>1.0</td>\n",
              "      <td>F</td>\n",
              "      <td>outlook.com</td>\n",
              "      <td>F</td>\n",
              "      <td>1.0</td>\n",
              "      <td>1.0</td>\n",
              "      <td>1.0</td>\n",
              "    </tr>\n",
              "    <tr>\n",
              "      <th>3</th>\n",
              "      <td>50.0</td>\n",
              "      <td>1758.0</td>\n",
              "      <td>925.0</td>\n",
              "      <td>18132</td>\n",
              "      <td>1758.0</td>\n",
              "      <td>1404.0</td>\n",
              "      <td>50.0</td>\n",
              "      <td>925.0</td>\n",
              "      <td>354.0</td>\n",
              "      <td>790.0</td>\n",
              "      <td>1404.0</td>\n",
              "      <td>50.0</td>\n",
              "      <td>50.0</td>\n",
              "      <td>0.0</td>\n",
              "      <td>790.0</td>\n",
              "      <td>0.0</td>\n",
              "      <td>354.0</td>\n",
              "      <td>0.0</td>\n",
              "      <td>0.0</td>\n",
              "      <td>567.0</td>\n",
              "      <td>0.0</td>\n",
              "      <td>50.0</td>\n",
              "      <td>0.0</td>\n",
              "      <td>135.0</td>\n",
              "      <td>0.0</td>\n",
              "      <td>0.0</td>\n",
              "      <td>0.0</td>\n",
              "      <td>1.0</td>\n",
              "      <td>0.0</td>\n",
              "      <td>0.0</td>\n",
              "      <td>0.0</td>\n",
              "      <td>0.0</td>\n",
              "      <td>476.0</td>\n",
              "      <td>0.0</td>\n",
              "      <td>0.0</td>\n",
              "      <td>1.0</td>\n",
              "      <td>0.0</td>\n",
              "      <td>1.0</td>\n",
              "      <td>0.0</td>\n",
              "      <td>0.0</td>\n",
              "      <td>...</td>\n",
              "      <td>1.0</td>\n",
              "      <td>1.0</td>\n",
              "      <td>NaN</td>\n",
              "      <td>NaN</td>\n",
              "      <td>NaN</td>\n",
              "      <td>28.0</td>\n",
              "      <td>NaN</td>\n",
              "      <td>NaN</td>\n",
              "      <td>1.0</td>\n",
              "      <td>28.0</td>\n",
              "      <td>NaN</td>\n",
              "      <td>NaN</td>\n",
              "      <td>debit</td>\n",
              "      <td>NaN</td>\n",
              "      <td>NaN</td>\n",
              "      <td>1.0</td>\n",
              "      <td>NaN</td>\n",
              "      <td>NaN</td>\n",
              "      <td>NaN</td>\n",
              "      <td>0.0</td>\n",
              "      <td>1.0</td>\n",
              "      <td>1.0</td>\n",
              "      <td>1.0</td>\n",
              "      <td>1.0</td>\n",
              "      <td>1.0</td>\n",
              "      <td>48.0</td>\n",
              "      <td>1.0</td>\n",
              "      <td>1.0</td>\n",
              "      <td>1.0</td>\n",
              "      <td>1.0</td>\n",
              "      <td>1.0</td>\n",
              "      <td>NaN</td>\n",
              "      <td>1.0</td>\n",
              "      <td>1.0</td>\n",
              "      <td>NaN</td>\n",
              "      <td>yahoo.com</td>\n",
              "      <td>NaN</td>\n",
              "      <td>1.0</td>\n",
              "      <td>1.0</td>\n",
              "      <td>1.0</td>\n",
              "    </tr>\n",
              "    <tr>\n",
              "      <th>4</th>\n",
              "      <td>50.0</td>\n",
              "      <td>0.0</td>\n",
              "      <td>0.0</td>\n",
              "      <td>4497</td>\n",
              "      <td>0.0</td>\n",
              "      <td>0.0</td>\n",
              "      <td>0.0</td>\n",
              "      <td>0.0</td>\n",
              "      <td>0.0</td>\n",
              "      <td>0.0</td>\n",
              "      <td>0.0</td>\n",
              "      <td>0.0</td>\n",
              "      <td>0.0</td>\n",
              "      <td>0.0</td>\n",
              "      <td>0.0</td>\n",
              "      <td>0.0</td>\n",
              "      <td>0.0</td>\n",
              "      <td>0.0</td>\n",
              "      <td>1.0</td>\n",
              "      <td>514.0</td>\n",
              "      <td>0.0</td>\n",
              "      <td>0.0</td>\n",
              "      <td>0.0</td>\n",
              "      <td>0.0</td>\n",
              "      <td>1.0</td>\n",
              "      <td>0.0</td>\n",
              "      <td>0.0</td>\n",
              "      <td>NaN</td>\n",
              "      <td>NaN</td>\n",
              "      <td>0.0</td>\n",
              "      <td>NaN</td>\n",
              "      <td>NaN</td>\n",
              "      <td>420.0</td>\n",
              "      <td>NaN</td>\n",
              "      <td>NaN</td>\n",
              "      <td>NaN</td>\n",
              "      <td>NaN</td>\n",
              "      <td>NaN</td>\n",
              "      <td>NaN</td>\n",
              "      <td>NaN</td>\n",
              "      <td>...</td>\n",
              "      <td>0.0</td>\n",
              "      <td>NaN</td>\n",
              "      <td>NaN</td>\n",
              "      <td>NaN</td>\n",
              "      <td>NaN</td>\n",
              "      <td>0.0</td>\n",
              "      <td>NaN</td>\n",
              "      <td>NaN</td>\n",
              "      <td>0.0</td>\n",
              "      <td>0.0</td>\n",
              "      <td>NaN</td>\n",
              "      <td>NaN</td>\n",
              "      <td>credit</td>\n",
              "      <td>NaN</td>\n",
              "      <td>NaN</td>\n",
              "      <td>0.0</td>\n",
              "      <td>NaN</td>\n",
              "      <td>NaN</td>\n",
              "      <td>NaN</td>\n",
              "      <td>0.0</td>\n",
              "      <td>NaN</td>\n",
              "      <td>NaN</td>\n",
              "      <td>NaN</td>\n",
              "      <td>NaN</td>\n",
              "      <td>NaN</td>\n",
              "      <td>0.0</td>\n",
              "      <td>1.0</td>\n",
              "      <td>NaN</td>\n",
              "      <td>NaN</td>\n",
              "      <td>NaN</td>\n",
              "      <td>NaN</td>\n",
              "      <td>NaN</td>\n",
              "      <td>NaN</td>\n",
              "      <td>NaN</td>\n",
              "      <td>NaN</td>\n",
              "      <td>gmail.com</td>\n",
              "      <td>NaN</td>\n",
              "      <td>NaN</td>\n",
              "      <td>NaN</td>\n",
              "      <td>1.0</td>\n",
              "    </tr>\n",
              "  </tbody>\n",
              "</table>\n",
              "<p>5 rows × 161 columns</p>\n",
              "</div>"
            ],
            "text/plain": [
              "   TransactionAmt    V307   V308  card1  ...   M7  V75  V36  V125\n",
              "0            68.5   117.0    0.0  13926  ...  NaN  1.0  NaN   1.0\n",
              "1            29.0     0.0    0.0   2755  ...  NaN  0.0  0.0   1.0\n",
              "2            59.0     0.0    0.0   4663  ...    F  1.0  1.0   1.0\n",
              "3            50.0  1758.0  925.0  18132  ...  NaN  1.0  1.0   1.0\n",
              "4            50.0     0.0    0.0   4497  ...  NaN  NaN  NaN   1.0\n",
              "\n",
              "[5 rows x 161 columns]"
            ]
          },
          "metadata": {
            "tags": []
          },
          "execution_count": 30
        }
      ]
    },
    {
      "cell_type": "code",
      "metadata": {
        "id": "cDefR5bU4TBj",
        "colab_type": "code",
        "colab": {}
      },
      "source": [
        "import scorecardpy as sc\n",
        "\n",
        "df = df.dropna(axis = 1,thresh= int(0.3 *len(df)))\n"
      ],
      "execution_count": 0,
      "outputs": []
    },
    {
      "cell_type": "code",
      "metadata": {
        "id": "7Cy3qhrl4nwk",
        "colab_type": "code",
        "colab": {
          "base_uri": "https://localhost:8080/",
          "height": 34
        },
        "outputId": "3ca31274-8560-4ed4-c374-26d282abb774"
      },
      "source": [
        "shape(df)"
      ],
      "execution_count": 38,
      "outputs": [
        {
          "output_type": "execute_result",
          "data": {
            "text/plain": [
              "(590540, 226)"
            ]
          },
          "metadata": {
            "tags": []
          },
          "execution_count": 38
        }
      ]
    },
    {
      "cell_type": "code",
      "metadata": {
        "id": "hvvjUt5y4qoS",
        "colab_type": "code",
        "colab": {}
      },
      "source": [
        "info_values = sc.iv(df, y=\"isFraud\")\n",
        "\n"
      ],
      "execution_count": 0,
      "outputs": []
    },
    {
      "cell_type": "code",
      "metadata": {
        "id": "2e1sjXHlAGK0",
        "colab_type": "code",
        "colab": {
          "base_uri": "https://localhost:8080/",
          "height": 297
        },
        "outputId": "3c223280-1868-4b65-d64f-a2259e1a272d"
      },
      "source": [
        "import seaborn as sn\n",
        "\n",
        "sn.distplot(info_values.info_value)"
      ],
      "execution_count": 40,
      "outputs": [
        {
          "output_type": "execute_result",
          "data": {
            "text/plain": [
              "<matplotlib.axes._subplots.AxesSubplot at 0x7fb3f251d0b8>"
            ]
          },
          "metadata": {
            "tags": []
          },
          "execution_count": 40
        },
        {
          "output_type": "display_data",
          "data": {
            "image/png": "[encoded data removed]",
            "text/plain": [
              "<Figure size 432x288 with 1 Axes>"
            ]
          },
          "metadata": {
            "tags": []
          }
        }
      ]
    },
    {
      "cell_type": "code",
      "metadata": {
        "id": "6jUofi-kATb1",
        "colab_type": "code",
        "colab": {
          "base_uri": "https://localhost:8080/",
          "height": 34
        },
        "outputId": "53cbc10a-94ac-419b-ff40-876ab751d325"
      },
      "source": [
        "len(info_values[info_values.info_value > 0.15])"
      ],
      "execution_count": 44,
      "outputs": [
        {
          "output_type": "execute_result",
          "data": {
            "text/plain": [
              "161"
            ]
          },
          "metadata": {
            "tags": []
          },
          "execution_count": 44
        }
      ]
    },
    {
      "cell_type": "code",
      "metadata": {
        "id": "wzJoayWbAjDN",
        "colab_type": "code",
        "colab": {}
      },
      "source": [
        "info_values.to_csv('/content/drive/My Drive/Colab Notebooks/info_values.csv')"
      ],
      "execution_count": 0,
      "outputs": []
    },
    {
      "cell_type": "code",
      "metadata": {
        "id": "Hq2b7tyPAwXl",
        "colab_type": "code",
        "colab": {}
      },
      "source": [
        "df_reduced = df[info_values[info_values.info_value > 0.15].variable]"
      ],
      "execution_count": 0,
      "outputs": []
    },
    {
      "cell_type": "code",
      "metadata": {
        "id": "oyk_rOTZB0y-",
        "colab_type": "code",
        "colab": {
          "base_uri": "https://localhost:8080/",
          "height": 34
        },
        "outputId": "8c0a4e89-03f6-481d-f618-59b3d91dfdd7"
      },
      "source": [
        "shape(df_reduced)"
      ],
      "execution_count": 50,
      "outputs": [
        {
          "output_type": "execute_result",
          "data": {
            "text/plain": [
              "(590540, 162)"
            ]
          },
          "metadata": {
            "tags": []
          },
          "execution_count": 50
        }
      ]
    },
    {
      "cell_type": "code",
      "metadata": {
        "id": "osX785ed2nNK",
        "colab_type": "code",
        "colab": {
          "base_uri": "https://localhost:8080/",
          "height": 411
        },
        "outputId": "9643c38f-f7e2-4409-e3cc-0ba1d94d68d9"
      },
      "source": [
        "import scorecardpy as sc\n",
        "df_reduced['isFraud'] = df['isFraud']\n",
        "\n",
        "bins = sc.woebin(df_reduced, y=\"isFraud\", bin_num_limit = 4, print_step=1)\n",
        "\n"
      ],
      "execution_count": 49,
      "outputs": [
        {
          "output_type": "stream",
          "text": [
            "/usr/local/lib/python3.6/dist-packages/ipykernel_launcher.py:2: SettingWithCopyWarning: \n",
            "A value is trying to be set on a copy of a slice from a DataFrame.\n",
            "Try using .loc[row_indexer,col_indexer] = value instead\n",
            "\n",
            "See the caveats in the documentation: http://pandas.pydata.org/pandas-docs/stable/user_guide/indexing.html#returning-a-view-versus-a-copy\n",
            "  \n"
          ],
          "name": "stderr"
        },
        {
          "output_type": "stream",
          "text": [
            "[INFO] creating woe binning ...\n",
            ">>> There are 1 variables have too many unique non-numberic values, which might cause the binning process slow. Please double check the following variables: \n",
            "P_emaildomain\n",
            ">>> Continue the binning process?\n",
            "1: yes \n",
            "2: no\n",
            "Selection: 1\n"
          ],
          "name": "stdout"
        },
        {
          "output_type": "stream",
          "text": [
            "/usr/local/lib/python3.6/dist-packages/scorecardpy/woebin.py:725: FutureWarning: Sorting because non-concatenation axis is not aligned. A future version\n",
            "of pandas will change to not sort by default.\n",
            "\n",
            "To accept the future behavior, pass 'sort=False'.\n",
            "\n",
            "To retain the current behavior and silence the warning, pass 'sort=True'.\n",
            "\n",
            "  binning = pd.concat(bin_list, keys=bin_list.keys()).reset_index()\\\n"
          ],
          "name": "stderr"
        },
        {
          "output_type": "stream",
          "text": [
            "Binning on 590540 rows and 162 columns in 00:07:52\n"
          ],
          "name": "stdout"
        }
      ]
    },
    {
      "cell_type": "code",
      "metadata": {
        "id": "THoYfjvz29kT",
        "colab_type": "code",
        "colab": {}
      },
      "source": [
        "ivs = pd.DataFrame({'var': ['init'], 'iv': [0] })\n",
        "for i in bins.keys():\n",
        "  ivs = ivs.append(pd.DataFrame({'var': [i], 'iv': [bins[i].total_iv[0]] }))\n",
        " # bins[i].total_iv"
      ],
      "execution_count": 0,
      "outputs": []
    },
    {
      "cell_type": "code",
      "metadata": {
        "id": "yAZf4cwVD80g",
        "colab_type": "code",
        "colab": {
          "base_uri": "https://localhost:8080/",
          "height": 204
        },
        "outputId": "a306cd56-1034-45b5-f62b-dc06e7cb3b74"
      },
      "source": [
        "ivs.head()"
      ],
      "execution_count": 72,
      "outputs": [
        {
          "output_type": "execute_result",
          "data": {
            "text/html": [
              "<div>\n",
              "<style scoped>\n",
              "    .dataframe tbody tr th:only-of-type {\n",
              "        vertical-align: middle;\n",
              "    }\n",
              "\n",
              "    .dataframe tbody tr th {\n",
              "        vertical-align: top;\n",
              "    }\n",
              "\n",
              "    .dataframe thead th {\n",
              "        text-align: right;\n",
              "    }\n",
              "</style>\n",
              "<table border=\"1\" class=\"dataframe\">\n",
              "  <thead>\n",
              "    <tr style=\"text-align: right;\">\n",
              "      <th></th>\n",
              "      <th>var</th>\n",
              "      <th>iv</th>\n",
              "    </tr>\n",
              "  </thead>\n",
              "  <tbody>\n",
              "    <tr>\n",
              "      <th>0</th>\n",
              "      <td>init</td>\n",
              "      <td>0.000000</td>\n",
              "    </tr>\n",
              "    <tr>\n",
              "      <th>0</th>\n",
              "      <td>V308</td>\n",
              "      <td>0.147391</td>\n",
              "    </tr>\n",
              "    <tr>\n",
              "      <th>0</th>\n",
              "      <td>V56</td>\n",
              "      <td>0.172573</td>\n",
              "    </tr>\n",
              "    <tr>\n",
              "      <th>0</th>\n",
              "      <td>V321</td>\n",
              "      <td>0.000135</td>\n",
              "    </tr>\n",
              "    <tr>\n",
              "      <th>0</th>\n",
              "      <td>V92</td>\n",
              "      <td>0.510250</td>\n",
              "    </tr>\n",
              "  </tbody>\n",
              "</table>\n",
              "</div>"
            ],
            "text/plain": [
              "    var        iv\n",
              "0  init  0.000000\n",
              "0  V308  0.147391\n",
              "0   V56  0.172573\n",
              "0  V321  0.000135\n",
              "0   V92  0.510250"
            ]
          },
          "metadata": {
            "tags": []
          },
          "execution_count": 72
        }
      ]
    },
    {
      "cell_type": "code",
      "metadata": {
        "id": "qU1EEmjiGAND",
        "colab_type": "code",
        "colab": {
          "base_uri": "https://localhost:8080/",
          "height": 296
        },
        "outputId": "99a0b97e-88f2-474f-8f62-f50bd1e2b3b4"
      },
      "source": [
        "sn.distplot(ivs.iv)"
      ],
      "execution_count": 73,
      "outputs": [
        {
          "output_type": "execute_result",
          "data": {
            "text/plain": [
              "<matplotlib.axes._subplots.AxesSubplot at 0x7fb3dbb39908>"
            ]
          },
          "metadata": {
            "tags": []
          },
          "execution_count": 73
        },
        {
          "output_type": "display_data",
          "data": {
            "image/png": "[encoded data removed]",
            "text/plain": [
              "<Figure size 432x288 with 1 Axes>"
            ]
          },
          "metadata": {
            "tags": []
          }
        }
      ]
    },
    {
      "cell_type": "code",
      "metadata": {
        "id": "ri5_C94XGwFn",
        "colab_type": "code",
        "colab": {}
      },
      "source": [
        "ivs.to_csv('/content/drive/My Drive/Colab Notebooks/info_values_binning.csv')"
      ],
      "execution_count": 0,
      "outputs": []
    },
    {
      "cell_type": "code",
      "metadata": {
        "id": "SWLFRO_iHTNZ",
        "colab_type": "code",
        "colab": {
          "base_uri": "https://localhost:8080/",
          "height": 221
        },
        "outputId": "4d06f790-7068-4dae-8f6c-bede883cd20a"
      },
      "source": [
        "ivs[ivs.iv > 0.1]['var']"
      ],
      "execution_count": 78,
      "outputs": [
        {
          "output_type": "execute_result",
          "data": {
            "text/plain": [
              "0     V308\n",
              "0      V56\n",
              "0      V92\n",
              "0       M7\n",
              "0    addr1\n",
              "     ...  \n",
              "0       V7\n",
              "0      V53\n",
              "0      D15\n",
              "0       M3\n",
              "0      V58\n",
              "Name: var, Length: 104, dtype: object"
            ]
          },
          "metadata": {
            "tags": []
          },
          "execution_count": 78
        }
      ]
    },
    {
      "cell_type": "code",
      "metadata": {
        "id": "nG2EyZQ0G6h2",
        "colab_type": "code",
        "colab": {
          "base_uri": "https://localhost:8080/",
          "height": 34
        },
        "outputId": "c84484fe-189f-47de-b495-72f4e2b36da0"
      },
      "source": [
        "df_to_woe = df_reduced[ivs[ivs.iv > 0.1]['var']]\n",
        "shape(df_to_woe)"
      ],
      "execution_count": 91,
      "outputs": [
        {
          "output_type": "execute_result",
          "data": {
            "text/plain": [
              "(590540, 104)"
            ]
          },
          "metadata": {
            "tags": []
          },
          "execution_count": 91
        }
      ]
    },
    {
      "cell_type": "code",
      "metadata": {
        "id": "SwQ1R-PzHN0l",
        "colab_type": "code",
        "colab": {
          "base_uri": "https://localhost:8080/",
          "height": 139
        },
        "outputId": "15eb39b7-2265-46af-cbd9-1038b6218b36"
      },
      "source": [
        "df_to_woe['isFraud'] = df_reduced['isFraud']"
      ],
      "execution_count": 92,
      "outputs": [
        {
          "output_type": "stream",
          "text": [
            "/usr/local/lib/python3.6/dist-packages/ipykernel_launcher.py:1: SettingWithCopyWarning: \n",
            "A value is trying to be set on a copy of a slice from a DataFrame.\n",
            "Try using .loc[row_indexer,col_indexer] = value instead\n",
            "\n",
            "See the caveats in the documentation: http://pandas.pydata.org/pandas-docs/stable/user_guide/indexing.html#returning-a-view-versus-a-copy\n",
            "  \"\"\"Entry point for launching an IPython kernel.\n"
          ],
          "name": "stderr"
        }
      ]
    },
    {
      "cell_type": "code",
      "metadata": {
        "id": "7_iUCmObHy0q",
        "colab_type": "code",
        "colab": {}
      },
      "source": [
        "import pickle\n",
        "f = open(\"/content/drive/My Drive/Colab Notebooks/bins.pkl\",\"wb\")\n",
        "pickle.dump(bins,f)\n",
        "f.close()"
      ],
      "execution_count": 0,
      "outputs": []
    },
    {
      "cell_type": "code",
      "metadata": {
        "id": "D-9bXwj6I6Cj",
        "colab_type": "code",
        "colab": {
          "base_uri": "https://localhost:8080/",
          "height": 34
        },
        "outputId": "29a505ba-259b-44bb-b68d-4e85af42b96b"
      },
      "source": [
        "shape(df_to_woe)"
      ],
      "execution_count": 90,
      "outputs": [
        {
          "output_type": "execute_result",
          "data": {
            "text/plain": [
              "(590540,)"
            ]
          },
          "metadata": {
            "tags": []
          },
          "execution_count": 90
        }
      ]
    },
    {
      "cell_type": "code",
      "metadata": {
        "id": "1Z5imrcdIpr1",
        "colab_type": "code",
        "colab": {}
      },
      "source": [
        "df_to_woe = df_to_woe.drop('isFraud', axis = 1)"
      ],
      "execution_count": 0,
      "outputs": []
    },
    {
      "cell_type": "code",
      "metadata": {
        "id": "ywHF0xwuHlW5",
        "colab_type": "code",
        "colab": {
          "base_uri": "https://localhost:8080/",
          "height": 51
        },
        "outputId": "bdd58a4d-f8d0-433e-fa60-ef0f0d340b32"
      },
      "source": [
        "df_woe = sc.woebin_ply(df_to_woe, bins)"
      ],
      "execution_count": 94,
      "outputs": [
        {
          "output_type": "stream",
          "text": [
            "[INFO] converting into woe values ...\n",
            "Woe transformating on 590540 rows and 104 columns in 00:03:25\n"
          ],
          "name": "stdout"
        }
      ]
    },
    {
      "cell_type": "code",
      "metadata": {
        "id": "G26y-GqgILqF",
        "colab_type": "code",
        "colab": {}
      },
      "source": [
        "c = df_woe.corr().abs()"
      ],
      "execution_count": 0,
      "outputs": []
    },
    {
      "cell_type": "code",
      "metadata": {
        "id": "l8pXLiV1KLN5",
        "colab_type": "code",
        "colab": {
          "base_uri": "https://localhost:8080/",
          "height": 439
        },
        "outputId": "0140bb82-1077-4f4e-8fbd-15216f36e62b"
      },
      "source": [
        "c"
      ],
      "execution_count": 96,
      "outputs": [
        {
          "output_type": "execute_result",
          "data": {
            "text/html": [
              "<div>\n",
              "<style scoped>\n",
              "    .dataframe tbody tr th:only-of-type {\n",
              "        vertical-align: middle;\n",
              "    }\n",
              "\n",
              "    .dataframe tbody tr th {\n",
              "        vertical-align: top;\n",
              "    }\n",
              "\n",
              "    .dataframe thead th {\n",
              "        text-align: right;\n",
              "    }\n",
              "</style>\n",
              "<table border=\"1\" class=\"dataframe\">\n",
              "  <thead>\n",
              "    <tr style=\"text-align: right;\">\n",
              "      <th></th>\n",
              "      <th>V308_woe</th>\n",
              "      <th>V56_woe</th>\n",
              "      <th>V92_woe</th>\n",
              "      <th>M7_woe</th>\n",
              "      <th>addr1_woe</th>\n",
              "      <th>V64_woe</th>\n",
              "      <th>C1_woe</th>\n",
              "      <th>V42_woe</th>\n",
              "      <th>M4_woe</th>\n",
              "      <th>V2_woe</th>\n",
              "      <th>V43_woe</th>\n",
              "      <th>V13_woe</th>\n",
              "      <th>V10_woe</th>\n",
              "      <th>V71_woe</th>\n",
              "      <th>C2_woe</th>\n",
              "      <th>V1_woe</th>\n",
              "      <th>V40_woe</th>\n",
              "      <th>V9_woe</th>\n",
              "      <th>V15_woe</th>\n",
              "      <th>V29_woe</th>\n",
              "      <th>C11_woe</th>\n",
              "      <th>V4_woe</th>\n",
              "      <th>D2_woe</th>\n",
              "      <th>V72_woe</th>\n",
              "      <th>V74_woe</th>\n",
              "      <th>V16_woe</th>\n",
              "      <th>D4_woe</th>\n",
              "      <th>V93_woe</th>\n",
              "      <th>V59_woe</th>\n",
              "      <th>V78_woe</th>\n",
              "      <th>V50_woe</th>\n",
              "      <th>V60_woe</th>\n",
              "      <th>V81_woe</th>\n",
              "      <th>ProductCD_woe</th>\n",
              "      <th>V38_woe</th>\n",
              "      <th>V70_woe</th>\n",
              "      <th>V57_woe</th>\n",
              "      <th>V6_woe</th>\n",
              "      <th>V282_woe</th>\n",
              "      <th>V49_woe</th>\n",
              "      <th>...</th>\n",
              "      <th>V79_woe</th>\n",
              "      <th>V39_woe</th>\n",
              "      <th>M8_woe</th>\n",
              "      <th>V69_woe</th>\n",
              "      <th>P_emaildomain_woe</th>\n",
              "      <th>M9_woe</th>\n",
              "      <th>V94_woe</th>\n",
              "      <th>V303_woe</th>\n",
              "      <th>C5_woe</th>\n",
              "      <th>V5_woe</th>\n",
              "      <th>V90_woe</th>\n",
              "      <th>V8_woe</th>\n",
              "      <th>V73_woe</th>\n",
              "      <th>V32_woe</th>\n",
              "      <th>D3_woe</th>\n",
              "      <th>dist1_woe</th>\n",
              "      <th>V87_woe</th>\n",
              "      <th>V54_woe</th>\n",
              "      <th>V304_woe</th>\n",
              "      <th>V283_woe</th>\n",
              "      <th>V36_woe</th>\n",
              "      <th>V18_woe</th>\n",
              "      <th>V48_woe</th>\n",
              "      <th>M2_woe</th>\n",
              "      <th>V51_woe</th>\n",
              "      <th>V302_woe</th>\n",
              "      <th>C13_woe</th>\n",
              "      <th>V63_woe</th>\n",
              "      <th>V280_woe</th>\n",
              "      <th>V12_woe</th>\n",
              "      <th>V52_woe</th>\n",
              "      <th>D11_woe</th>\n",
              "      <th>D1_woe</th>\n",
              "      <th>card3_woe</th>\n",
              "      <th>M6_woe</th>\n",
              "      <th>V7_woe</th>\n",
              "      <th>V53_woe</th>\n",
              "      <th>D15_woe</th>\n",
              "      <th>M3_woe</th>\n",
              "      <th>V58_woe</th>\n",
              "    </tr>\n",
              "  </thead>\n",
              "  <tbody>\n",
              "    <tr>\n",
              "      <th>V308_woe</th>\n",
              "      <td>1.000000</td>\n",
              "      <td>0.164795</td>\n",
              "      <td>0.057348</td>\n",
              "      <td>0.004760</td>\n",
              "      <td>0.033834</td>\n",
              "      <td>0.048660</td>\n",
              "      <td>0.088834</td>\n",
              "      <td>0.039204</td>\n",
              "      <td>0.074615</td>\n",
              "      <td>0.027450</td>\n",
              "      <td>0.038930</td>\n",
              "      <td>0.098074</td>\n",
              "      <td>0.070637</td>\n",
              "      <td>0.056648</td>\n",
              "      <td>0.153400</td>\n",
              "      <td>0.027450</td>\n",
              "      <td>0.038772</td>\n",
              "      <td>0.027450</td>\n",
              "      <td>0.071328</td>\n",
              "      <td>0.139003</td>\n",
              "      <td>0.107583</td>\n",
              "      <td>0.027442</td>\n",
              "      <td>0.011991</td>\n",
              "      <td>0.055646</td>\n",
              "      <td>0.024665</td>\n",
              "      <td>0.071370</td>\n",
              "      <td>0.024765</td>\n",
              "      <td>0.057346</td>\n",
              "      <td>0.049989</td>\n",
              "      <td>0.136771</td>\n",
              "      <td>0.044013</td>\n",
              "      <td>0.048876</td>\n",
              "      <td>0.052725</td>\n",
              "      <td>0.046812</td>\n",
              "      <td>0.146981</td>\n",
              "      <td>0.129412</td>\n",
              "      <td>0.074592</td>\n",
              "      <td>0.027450</td>\n",
              "      <td>0.162118</td>\n",
              "      <td>0.128968</td>\n",
              "      <td>...</td>\n",
              "      <td>0.064836</td>\n",
              "      <td>0.039025</td>\n",
              "      <td>0.001474</td>\n",
              "      <td>0.131514</td>\n",
              "      <td>0.026447</td>\n",
              "      <td>0.001317</td>\n",
              "      <td>0.046914</td>\n",
              "      <td>0.055940</td>\n",
              "      <td>0.114490</td>\n",
              "      <td>0.027515</td>\n",
              "      <td>0.141159</td>\n",
              "      <td>0.027450</td>\n",
              "      <td>0.050851</td>\n",
              "      <td>0.051714</td>\n",
              "      <td>0.396027</td>\n",
              "      <td>0.070572</td>\n",
              "      <td>0.027162</td>\n",
              "      <td>0.115598</td>\n",
              "      <td>0.056488</td>\n",
              "      <td>0.247315</td>\n",
              "      <td>0.068924</td>\n",
              "      <td>0.049948</td>\n",
              "      <td>0.129457</td>\n",
              "      <td>0.019237</td>\n",
              "      <td>0.027344</td>\n",
              "      <td>0.058561</td>\n",
              "      <td>0.046612</td>\n",
              "      <td>0.049942</td>\n",
              "      <td>0.885216</td>\n",
              "      <td>0.071082</td>\n",
              "      <td>0.010828</td>\n",
              "      <td>0.036453</td>\n",
              "      <td>0.077686</td>\n",
              "      <td>0.051406</td>\n",
              "      <td>0.056946</td>\n",
              "      <td>0.027450</td>\n",
              "      <td>0.083406</td>\n",
              "      <td>0.065763</td>\n",
              "      <td>0.017026</td>\n",
              "      <td>0.073538</td>\n",
              "    </tr>\n",
              "    <tr>\n",
              "      <th>V56_woe</th>\n",
              "      <td>0.164795</td>\n",
              "      <td>1.000000</td>\n",
              "      <td>0.389751</td>\n",
              "      <td>0.264727</td>\n",
              "      <td>0.099963</td>\n",
              "      <td>0.456831</td>\n",
              "      <td>0.114189</td>\n",
              "      <td>0.266443</td>\n",
              "      <td>0.037819</td>\n",
              "      <td>0.337876</td>\n",
              "      <td>0.267977</td>\n",
              "      <td>0.351080</td>\n",
              "      <td>0.288790</td>\n",
              "      <td>0.451411</td>\n",
              "      <td>0.028938</td>\n",
              "      <td>0.337876</td>\n",
              "      <td>0.269466</td>\n",
              "      <td>0.337876</td>\n",
              "      <td>0.388149</td>\n",
              "      <td>0.285852</td>\n",
              "      <td>0.073738</td>\n",
              "      <td>0.337875</td>\n",
              "      <td>0.233155</td>\n",
              "      <td>0.453504</td>\n",
              "      <td>0.454007</td>\n",
              "      <td>0.388133</td>\n",
              "      <td>0.113364</td>\n",
              "      <td>0.389763</td>\n",
              "      <td>0.453378</td>\n",
              "      <td>0.611024</td>\n",
              "      <td>0.267925</td>\n",
              "      <td>0.455753</td>\n",
              "      <td>0.390700</td>\n",
              "      <td>0.376224</td>\n",
              "      <td>0.424218</td>\n",
              "      <td>0.320682</td>\n",
              "      <td>0.456495</td>\n",
              "      <td>0.337876</td>\n",
              "      <td>0.315915</td>\n",
              "      <td>0.182346</td>\n",
              "      <td>...</td>\n",
              "      <td>0.361017</td>\n",
              "      <td>0.268126</td>\n",
              "      <td>0.261790</td>\n",
              "      <td>0.322604</td>\n",
              "      <td>0.017179</td>\n",
              "      <td>0.259412</td>\n",
              "      <td>0.357537</td>\n",
              "      <td>0.549339</td>\n",
              "      <td>0.287604</td>\n",
              "      <td>0.337425</td>\n",
              "      <td>0.269996</td>\n",
              "      <td>0.337876</td>\n",
              "      <td>0.452575</td>\n",
              "      <td>0.416724</td>\n",
              "      <td>0.235697</td>\n",
              "      <td>0.247888</td>\n",
              "      <td>0.282343</td>\n",
              "      <td>0.410663</td>\n",
              "      <td>0.548655</td>\n",
              "      <td>0.336060</td>\n",
              "      <td>0.125896</td>\n",
              "      <td>0.416342</td>\n",
              "      <td>0.182109</td>\n",
              "      <td>0.337836</td>\n",
              "      <td>0.248339</td>\n",
              "      <td>0.546662</td>\n",
              "      <td>0.182148</td>\n",
              "      <td>0.454128</td>\n",
              "      <td>0.188149</td>\n",
              "      <td>0.350854</td>\n",
              "      <td>0.249311</td>\n",
              "      <td>0.305642</td>\n",
              "      <td>0.220618</td>\n",
              "      <td>0.068603</td>\n",
              "      <td>0.502943</td>\n",
              "      <td>0.337876</td>\n",
              "      <td>0.425086</td>\n",
              "      <td>0.258980</td>\n",
              "      <td>0.333848</td>\n",
              "      <td>0.458712</td>\n",
              "    </tr>\n",
              "    <tr>\n",
              "      <th>V92_woe</th>\n",
              "      <td>0.057348</td>\n",
              "      <td>0.389751</td>\n",
              "      <td>1.000000</td>\n",
              "      <td>0.450517</td>\n",
              "      <td>0.761304</td>\n",
              "      <td>0.902047</td>\n",
              "      <td>0.137125</td>\n",
              "      <td>0.840472</td>\n",
              "      <td>0.501971</td>\n",
              "      <td>0.601861</td>\n",
              "      <td>0.841785</td>\n",
              "      <td>0.568810</td>\n",
              "      <td>0.466367</td>\n",
              "      <td>0.945993</td>\n",
              "      <td>0.018053</td>\n",
              "      <td>0.601861</td>\n",
              "      <td>0.844758</td>\n",
              "      <td>0.601861</td>\n",
              "      <td>0.915265</td>\n",
              "      <td>0.388803</td>\n",
              "      <td>0.082826</td>\n",
              "      <td>0.601861</td>\n",
              "      <td>0.261100</td>\n",
              "      <td>0.947434</td>\n",
              "      <td>0.865596</td>\n",
              "      <td>0.915429</td>\n",
              "      <td>0.211284</td>\n",
              "      <td>0.999965</td>\n",
              "      <td>0.902271</td>\n",
              "      <td>0.375239</td>\n",
              "      <td>0.896751</td>\n",
              "      <td>0.904063</td>\n",
              "      <td>0.944223</td>\n",
              "      <td>0.934809</td>\n",
              "      <td>0.282763</td>\n",
              "      <td>0.408485</td>\n",
              "      <td>0.918819</td>\n",
              "      <td>0.601861</td>\n",
              "      <td>0.251198</td>\n",
              "      <td>0.332898</td>\n",
              "      <td>...</td>\n",
              "      <td>0.938711</td>\n",
              "      <td>0.843610</td>\n",
              "      <td>0.441891</td>\n",
              "      <td>0.407073</td>\n",
              "      <td>0.224720</td>\n",
              "      <td>0.434339</td>\n",
              "      <td>0.909527</td>\n",
              "      <td>0.856493</td>\n",
              "      <td>0.405763</td>\n",
              "      <td>0.600036</td>\n",
              "      <td>0.400105</td>\n",
              "      <td>0.601861</td>\n",
              "      <td>0.886238</td>\n",
              "      <td>0.955051</td>\n",
              "      <td>0.234794</td>\n",
              "      <td>0.406115</td>\n",
              "      <td>0.257457</td>\n",
              "      <td>0.594490</td>\n",
              "      <td>0.854827</td>\n",
              "      <td>0.212539</td>\n",
              "      <td>0.462857</td>\n",
              "      <td>0.905121</td>\n",
              "      <td>0.332052</td>\n",
              "      <td>0.558133</td>\n",
              "      <td>0.836836</td>\n",
              "      <td>0.853230</td>\n",
              "      <td>0.237020</td>\n",
              "      <td>0.900027</td>\n",
              "      <td>0.026843</td>\n",
              "      <td>0.549163</td>\n",
              "      <td>0.820817</td>\n",
              "      <td>0.525946</td>\n",
              "      <td>0.270532</td>\n",
              "      <td>0.722832</td>\n",
              "      <td>0.823038</td>\n",
              "      <td>0.601861</td>\n",
              "      <td>0.574436</td>\n",
              "      <td>0.368538</td>\n",
              "      <td>0.551237</td>\n",
              "      <td>0.920268</td>\n",
              "    </tr>\n",
              "    <tr>\n",
              "      <th>M7_woe</th>\n",
              "      <td>0.004760</td>\n",
              "      <td>0.264727</td>\n",
              "      <td>0.450517</td>\n",
              "      <td>1.000000</td>\n",
              "      <td>0.296110</td>\n",
              "      <td>0.455970</td>\n",
              "      <td>0.077218</td>\n",
              "      <td>0.379149</td>\n",
              "      <td>0.176610</td>\n",
              "      <td>0.747880</td>\n",
              "      <td>0.379767</td>\n",
              "      <td>0.470690</td>\n",
              "      <td>0.633205</td>\n",
              "      <td>0.468177</td>\n",
              "      <td>0.042151</td>\n",
              "      <td>0.747880</td>\n",
              "      <td>0.381375</td>\n",
              "      <td>0.747880</td>\n",
              "      <td>0.432540</td>\n",
              "      <td>0.263695</td>\n",
              "      <td>0.059141</td>\n",
              "      <td>0.747891</td>\n",
              "      <td>0.090911</td>\n",
              "      <td>0.468625</td>\n",
              "      <td>0.429450</td>\n",
              "      <td>0.432604</td>\n",
              "      <td>0.078068</td>\n",
              "      <td>0.450528</td>\n",
              "      <td>0.456032</td>\n",
              "      <td>0.211490</td>\n",
              "      <td>0.397569</td>\n",
              "      <td>0.456515</td>\n",
              "      <td>0.434784</td>\n",
              "      <td>0.445460</td>\n",
              "      <td>0.148816</td>\n",
              "      <td>0.280601</td>\n",
              "      <td>0.452191</td>\n",
              "      <td>0.747880</td>\n",
              "      <td>0.092109</td>\n",
              "      <td>0.214255</td>\n",
              "      <td>...</td>\n",
              "      <td>0.428669</td>\n",
              "      <td>0.380830</td>\n",
              "      <td>0.968357</td>\n",
              "      <td>0.279492</td>\n",
              "      <td>0.072484</td>\n",
              "      <td>0.955562</td>\n",
              "      <td>0.418742</td>\n",
              "      <td>0.469306</td>\n",
              "      <td>0.267018</td>\n",
              "      <td>0.744205</td>\n",
              "      <td>0.262131</td>\n",
              "      <td>0.747880</td>\n",
              "      <td>0.439413</td>\n",
              "      <td>0.456871</td>\n",
              "      <td>0.102845</td>\n",
              "      <td>0.452529</td>\n",
              "      <td>0.170608</td>\n",
              "      <td>0.493861</td>\n",
              "      <td>0.468582</td>\n",
              "      <td>0.076006</td>\n",
              "      <td>0.379795</td>\n",
              "      <td>0.444350</td>\n",
              "      <td>0.214058</td>\n",
              "      <td>0.731839</td>\n",
              "      <td>0.376868</td>\n",
              "      <td>0.467801</td>\n",
              "      <td>0.117723</td>\n",
              "      <td>0.455412</td>\n",
              "      <td>0.012609</td>\n",
              "      <td>0.463383</td>\n",
              "      <td>0.370641</td>\n",
              "      <td>0.644202</td>\n",
              "      <td>0.096706</td>\n",
              "      <td>0.276350</td>\n",
              "      <td>0.450189</td>\n",
              "      <td>0.747880</td>\n",
              "      <td>0.485767</td>\n",
              "      <td>0.155429</td>\n",
              "      <td>0.726834</td>\n",
              "      <td>0.452646</td>\n",
              "    </tr>\n",
              "    <tr>\n",
              "      <th>addr1_woe</th>\n",
              "      <td>0.033834</td>\n",
              "      <td>0.099963</td>\n",
              "      <td>0.761304</td>\n",
              "      <td>0.296110</td>\n",
              "      <td>1.000000</td>\n",
              "      <td>0.674357</td>\n",
              "      <td>0.061722</td>\n",
              "      <td>0.746594</td>\n",
              "      <td>0.726468</td>\n",
              "      <td>0.369436</td>\n",
              "      <td>0.747675</td>\n",
              "      <td>0.331347</td>\n",
              "      <td>0.293449</td>\n",
              "      <td>0.703158</td>\n",
              "      <td>0.089943</td>\n",
              "      <td>0.369436</td>\n",
              "      <td>0.748602</td>\n",
              "      <td>0.369436</td>\n",
              "      <td>0.802280</td>\n",
              "      <td>0.254459</td>\n",
              "      <td>0.007857</td>\n",
              "      <td>0.369435</td>\n",
              "      <td>0.175173</td>\n",
              "      <td>0.704941</td>\n",
              "      <td>0.698680</td>\n",
              "      <td>0.802110</td>\n",
              "      <td>0.166113</td>\n",
              "      <td>0.761282</td>\n",
              "      <td>0.674331</td>\n",
              "      <td>0.188622</td>\n",
              "      <td>0.788711</td>\n",
              "      <td>0.676811</td>\n",
              "      <td>0.718138</td>\n",
              "      <td>0.808128</td>\n",
              "      <td>0.231030</td>\n",
              "      <td>0.242115</td>\n",
              "      <td>0.745261</td>\n",
              "      <td>0.369436</td>\n",
              "      <td>0.160255</td>\n",
              "      <td>0.263743</td>\n",
              "      <td>...</td>\n",
              "      <td>0.816828</td>\n",
              "      <td>0.747612</td>\n",
              "      <td>0.290087</td>\n",
              "      <td>0.240534</td>\n",
              "      <td>0.286095</td>\n",
              "      <td>0.285586</td>\n",
              "      <td>0.789126</td>\n",
              "      <td>0.544036</td>\n",
              "      <td>0.277509</td>\n",
              "      <td>0.368485</td>\n",
              "      <td>0.259409</td>\n",
              "      <td>0.369436</td>\n",
              "      <td>0.716467</td>\n",
              "      <td>0.743447</td>\n",
              "      <td>0.137095</td>\n",
              "      <td>0.263798</td>\n",
              "      <td>0.069722</td>\n",
              "      <td>0.288472</td>\n",
              "      <td>0.541559</td>\n",
              "      <td>0.145051</td>\n",
              "      <td>0.395978</td>\n",
              "      <td>0.709584</td>\n",
              "      <td>0.262979</td>\n",
              "      <td>0.364451</td>\n",
              "      <td>0.801099</td>\n",
              "      <td>0.538754</td>\n",
              "      <td>0.132468</td>\n",
              "      <td>0.671622</td>\n",
              "      <td>0.002596</td>\n",
              "      <td>0.312462</td>\n",
              "      <td>0.784850</td>\n",
              "      <td>0.323724</td>\n",
              "      <td>0.166443</td>\n",
              "      <td>0.860432</td>\n",
              "      <td>0.538967</td>\n",
              "      <td>0.369436</td>\n",
              "      <td>0.270724</td>\n",
              "      <td>0.220493</td>\n",
              "      <td>0.360147</td>\n",
              "      <td>0.746965</td>\n",
              "    </tr>\n",
              "    <tr>\n",
              "      <th>...</th>\n",
              "      <td>...</td>\n",
              "      <td>...</td>\n",
              "      <td>...</td>\n",
              "      <td>...</td>\n",
              "      <td>...</td>\n",
              "      <td>...</td>\n",
              "      <td>...</td>\n",
              "      <td>...</td>\n",
              "      <td>...</td>\n",
              "      <td>...</td>\n",
              "      <td>...</td>\n",
              "      <td>...</td>\n",
              "      <td>...</td>\n",
              "      <td>...</td>\n",
              "      <td>...</td>\n",
              "      <td>...</td>\n",
              "      <td>...</td>\n",
              "      <td>...</td>\n",
              "      <td>...</td>\n",
              "      <td>...</td>\n",
              "      <td>...</td>\n",
              "      <td>...</td>\n",
              "      <td>...</td>\n",
              "      <td>...</td>\n",
              "      <td>...</td>\n",
              "      <td>...</td>\n",
              "      <td>...</td>\n",
              "      <td>...</td>\n",
              "      <td>...</td>\n",
              "      <td>...</td>\n",
              "      <td>...</td>\n",
              "      <td>...</td>\n",
              "      <td>...</td>\n",
              "      <td>...</td>\n",
              "      <td>...</td>\n",
              "      <td>...</td>\n",
              "      <td>...</td>\n",
              "      <td>...</td>\n",
              "      <td>...</td>\n",
              "      <td>...</td>\n",
              "      <td>...</td>\n",
              "      <td>...</td>\n",
              "      <td>...</td>\n",
              "      <td>...</td>\n",
              "      <td>...</td>\n",
              "      <td>...</td>\n",
              "      <td>...</td>\n",
              "      <td>...</td>\n",
              "      <td>...</td>\n",
              "      <td>...</td>\n",
              "      <td>...</td>\n",
              "      <td>...</td>\n",
              "      <td>...</td>\n",
              "      <td>...</td>\n",
              "      <td>...</td>\n",
              "      <td>...</td>\n",
              "      <td>...</td>\n",
              "      <td>...</td>\n",
              "      <td>...</td>\n",
              "      <td>...</td>\n",
              "      <td>...</td>\n",
              "      <td>...</td>\n",
              "      <td>...</td>\n",
              "      <td>...</td>\n",
              "      <td>...</td>\n",
              "      <td>...</td>\n",
              "      <td>...</td>\n",
              "      <td>...</td>\n",
              "      <td>...</td>\n",
              "      <td>...</td>\n",
              "      <td>...</td>\n",
              "      <td>...</td>\n",
              "      <td>...</td>\n",
              "      <td>...</td>\n",
              "      <td>...</td>\n",
              "      <td>...</td>\n",
              "      <td>...</td>\n",
              "      <td>...</td>\n",
              "      <td>...</td>\n",
              "      <td>...</td>\n",
              "      <td>...</td>\n",
              "    </tr>\n",
              "    <tr>\n",
              "      <th>V7_woe</th>\n",
              "      <td>0.027450</td>\n",
              "      <td>0.337876</td>\n",
              "      <td>0.601861</td>\n",
              "      <td>0.747880</td>\n",
              "      <td>0.369436</td>\n",
              "      <td>0.574525</td>\n",
              "      <td>0.102794</td>\n",
              "      <td>0.478646</td>\n",
              "      <td>0.180096</td>\n",
              "      <td>1.000000</td>\n",
              "      <td>0.479427</td>\n",
              "      <td>0.600317</td>\n",
              "      <td>0.775094</td>\n",
              "      <td>0.589906</td>\n",
              "      <td>0.052162</td>\n",
              "      <td>1.000000</td>\n",
              "      <td>0.481460</td>\n",
              "      <td>1.000000</td>\n",
              "      <td>0.544181</td>\n",
              "      <td>0.262136</td>\n",
              "      <td>0.072883</td>\n",
              "      <td>1.000000</td>\n",
              "      <td>0.167581</td>\n",
              "      <td>0.590470</td>\n",
              "      <td>0.523477</td>\n",
              "      <td>0.544261</td>\n",
              "      <td>0.125066</td>\n",
              "      <td>0.601874</td>\n",
              "      <td>0.574603</td>\n",
              "      <td>0.302409</td>\n",
              "      <td>0.501884</td>\n",
              "      <td>0.575212</td>\n",
              "      <td>0.581836</td>\n",
              "      <td>0.561276</td>\n",
              "      <td>0.185371</td>\n",
              "      <td>0.285444</td>\n",
              "      <td>0.569764</td>\n",
              "      <td>1.000000</td>\n",
              "      <td>0.167335</td>\n",
              "      <td>0.203981</td>\n",
              "      <td>...</td>\n",
              "      <td>0.573918</td>\n",
              "      <td>0.480772</td>\n",
              "      <td>0.734130</td>\n",
              "      <td>0.284672</td>\n",
              "      <td>0.102651</td>\n",
              "      <td>0.723112</td>\n",
              "      <td>0.550107</td>\n",
              "      <td>0.591298</td>\n",
              "      <td>0.264313</td>\n",
              "      <td>0.996977</td>\n",
              "      <td>0.270073</td>\n",
              "      <td>1.000000</td>\n",
              "      <td>0.541811</td>\n",
              "      <td>0.574827</td>\n",
              "      <td>0.165832</td>\n",
              "      <td>0.676713</td>\n",
              "      <td>0.240345</td>\n",
              "      <td>0.630650</td>\n",
              "      <td>0.590386</td>\n",
              "      <td>0.137442</td>\n",
              "      <td>0.464796</td>\n",
              "      <td>0.559054</td>\n",
              "      <td>0.203721</td>\n",
              "      <td>0.932378</td>\n",
              "      <td>0.463439</td>\n",
              "      <td>0.589399</td>\n",
              "      <td>0.175474</td>\n",
              "      <td>0.573822</td>\n",
              "      <td>0.011311</td>\n",
              "      <td>0.585270</td>\n",
              "      <td>0.451323</td>\n",
              "      <td>0.874140</td>\n",
              "      <td>0.178445</td>\n",
              "      <td>0.348208</td>\n",
              "      <td>0.566030</td>\n",
              "      <td>1.000000</td>\n",
              "      <td>0.616293</td>\n",
              "      <td>0.260549</td>\n",
              "      <td>0.920780</td>\n",
              "      <td>0.570337</td>\n",
              "    </tr>\n",
              "    <tr>\n",
              "      <th>V53_woe</th>\n",
              "      <td>0.083406</td>\n",
              "      <td>0.425086</td>\n",
              "      <td>0.574436</td>\n",
              "      <td>0.485767</td>\n",
              "      <td>0.270724</td>\n",
              "      <td>0.596942</td>\n",
              "      <td>0.103234</td>\n",
              "      <td>0.433022</td>\n",
              "      <td>0.038976</td>\n",
              "      <td>0.616293</td>\n",
              "      <td>0.433762</td>\n",
              "      <td>0.723184</td>\n",
              "      <td>0.443942</td>\n",
              "      <td>0.608485</td>\n",
              "      <td>0.052771</td>\n",
              "      <td>0.616293</td>\n",
              "      <td>0.436017</td>\n",
              "      <td>0.616293</td>\n",
              "      <td>0.539296</td>\n",
              "      <td>0.245973</td>\n",
              "      <td>0.066822</td>\n",
              "      <td>0.616301</td>\n",
              "      <td>0.064473</td>\n",
              "      <td>0.608738</td>\n",
              "      <td>0.546323</td>\n",
              "      <td>0.539363</td>\n",
              "      <td>0.042004</td>\n",
              "      <td>0.574454</td>\n",
              "      <td>0.596993</td>\n",
              "      <td>0.316230</td>\n",
              "      <td>0.451075</td>\n",
              "      <td>0.597044</td>\n",
              "      <td>0.560716</td>\n",
              "      <td>0.548038</td>\n",
              "      <td>0.165932</td>\n",
              "      <td>0.287889</td>\n",
              "      <td>0.591617</td>\n",
              "      <td>0.616293</td>\n",
              "      <td>0.083405</td>\n",
              "      <td>0.152450</td>\n",
              "      <td>...</td>\n",
              "      <td>0.536847</td>\n",
              "      <td>0.435372</td>\n",
              "      <td>0.472938</td>\n",
              "      <td>0.290198</td>\n",
              "      <td>0.059532</td>\n",
              "      <td>0.465502</td>\n",
              "      <td>0.514702</td>\n",
              "      <td>0.659740</td>\n",
              "      <td>0.243496</td>\n",
              "      <td>0.613323</td>\n",
              "      <td>0.228769</td>\n",
              "      <td>0.616293</td>\n",
              "      <td>0.560988</td>\n",
              "      <td>0.579803</td>\n",
              "      <td>0.108762</td>\n",
              "      <td>0.380875</td>\n",
              "      <td>0.279880</td>\n",
              "      <td>0.965008</td>\n",
              "      <td>0.658930</td>\n",
              "      <td>0.049218</td>\n",
              "      <td>0.515509</td>\n",
              "      <td>0.569016</td>\n",
              "      <td>0.152163</td>\n",
              "      <td>0.587151</td>\n",
              "      <td>0.408169</td>\n",
              "      <td>0.658019</td>\n",
              "      <td>0.174367</td>\n",
              "      <td>0.596837</td>\n",
              "      <td>0.075857</td>\n",
              "      <td>0.734784</td>\n",
              "      <td>0.399617</td>\n",
              "      <td>0.479422</td>\n",
              "      <td>0.085317</td>\n",
              "      <td>0.253623</td>\n",
              "      <td>0.613003</td>\n",
              "      <td>0.616293</td>\n",
              "      <td>1.000000</td>\n",
              "      <td>0.204033</td>\n",
              "      <td>0.580998</td>\n",
              "      <td>0.591895</td>\n",
              "    </tr>\n",
              "    <tr>\n",
              "      <th>D15_woe</th>\n",
              "      <td>0.065763</td>\n",
              "      <td>0.258980</td>\n",
              "      <td>0.368538</td>\n",
              "      <td>0.155429</td>\n",
              "      <td>0.220493</td>\n",
              "      <td>0.358662</td>\n",
              "      <td>0.392544</td>\n",
              "      <td>0.274987</td>\n",
              "      <td>0.150669</td>\n",
              "      <td>0.260549</td>\n",
              "      <td>0.275235</td>\n",
              "      <td>0.154121</td>\n",
              "      <td>0.251420</td>\n",
              "      <td>0.366459</td>\n",
              "      <td>0.347258</td>\n",
              "      <td>0.260549</td>\n",
              "      <td>0.275721</td>\n",
              "      <td>0.260549</td>\n",
              "      <td>0.352815</td>\n",
              "      <td>0.256193</td>\n",
              "      <td>0.278268</td>\n",
              "      <td>0.260517</td>\n",
              "      <td>0.643703</td>\n",
              "      <td>0.366849</td>\n",
              "      <td>0.374088</td>\n",
              "      <td>0.352830</td>\n",
              "      <td>0.649432</td>\n",
              "      <td>0.368552</td>\n",
              "      <td>0.359069</td>\n",
              "      <td>0.230528</td>\n",
              "      <td>0.289143</td>\n",
              "      <td>0.358911</td>\n",
              "      <td>0.355040</td>\n",
              "      <td>0.342082</td>\n",
              "      <td>0.105186</td>\n",
              "      <td>0.270375</td>\n",
              "      <td>0.370234</td>\n",
              "      <td>0.260549</td>\n",
              "      <td>0.583824</td>\n",
              "      <td>0.203513</td>\n",
              "      <td>...</td>\n",
              "      <td>0.383194</td>\n",
              "      <td>0.275524</td>\n",
              "      <td>0.159763</td>\n",
              "      <td>0.270156</td>\n",
              "      <td>0.109137</td>\n",
              "      <td>0.154836</td>\n",
              "      <td>0.394805</td>\n",
              "      <td>0.379677</td>\n",
              "      <td>0.274031</td>\n",
              "      <td>0.263896</td>\n",
              "      <td>0.264514</td>\n",
              "      <td>0.260549</td>\n",
              "      <td>0.373254</td>\n",
              "      <td>0.349091</td>\n",
              "      <td>0.430070</td>\n",
              "      <td>0.323605</td>\n",
              "      <td>0.167847</td>\n",
              "      <td>0.217698</td>\n",
              "      <td>0.379439</td>\n",
              "      <td>0.545844</td>\n",
              "      <td>0.005338</td>\n",
              "      <td>0.341894</td>\n",
              "      <td>0.202282</td>\n",
              "      <td>0.234643</td>\n",
              "      <td>0.294669</td>\n",
              "      <td>0.378922</td>\n",
              "      <td>0.389370</td>\n",
              "      <td>0.358836</td>\n",
              "      <td>0.067492</td>\n",
              "      <td>0.141171</td>\n",
              "      <td>0.297794</td>\n",
              "      <td>0.475561</td>\n",
              "      <td>0.673502</td>\n",
              "      <td>0.199330</td>\n",
              "      <td>0.375307</td>\n",
              "      <td>0.260549</td>\n",
              "      <td>0.204033</td>\n",
              "      <td>1.000000</td>\n",
              "      <td>0.232117</td>\n",
              "      <td>0.370630</td>\n",
              "    </tr>\n",
              "    <tr>\n",
              "      <th>M3_woe</th>\n",
              "      <td>0.017026</td>\n",
              "      <td>0.333848</td>\n",
              "      <td>0.551237</td>\n",
              "      <td>0.726834</td>\n",
              "      <td>0.360147</td>\n",
              "      <td>0.559425</td>\n",
              "      <td>0.090490</td>\n",
              "      <td>0.443807</td>\n",
              "      <td>0.174765</td>\n",
              "      <td>0.920780</td>\n",
              "      <td>0.444521</td>\n",
              "      <td>0.563629</td>\n",
              "      <td>0.713731</td>\n",
              "      <td>0.574401</td>\n",
              "      <td>0.039774</td>\n",
              "      <td>0.920780</td>\n",
              "      <td>0.446334</td>\n",
              "      <td>0.920780</td>\n",
              "      <td>0.529822</td>\n",
              "      <td>0.245476</td>\n",
              "      <td>0.048075</td>\n",
              "      <td>0.920773</td>\n",
              "      <td>0.153488</td>\n",
              "      <td>0.574950</td>\n",
              "      <td>0.511161</td>\n",
              "      <td>0.529900</td>\n",
              "      <td>0.109559</td>\n",
              "      <td>0.551250</td>\n",
              "      <td>0.559501</td>\n",
              "      <td>0.262806</td>\n",
              "      <td>0.465752</td>\n",
              "      <td>0.560094</td>\n",
              "      <td>0.531944</td>\n",
              "      <td>0.546509</td>\n",
              "      <td>0.169512</td>\n",
              "      <td>0.267101</td>\n",
              "      <td>0.554789</td>\n",
              "      <td>0.920780</td>\n",
              "      <td>0.156809</td>\n",
              "      <td>0.186132</td>\n",
              "      <td>...</td>\n",
              "      <td>0.524451</td>\n",
              "      <td>0.445704</td>\n",
              "      <td>0.720121</td>\n",
              "      <td>0.266307</td>\n",
              "      <td>0.094428</td>\n",
              "      <td>0.721291</td>\n",
              "      <td>0.502565</td>\n",
              "      <td>0.575739</td>\n",
              "      <td>0.254373</td>\n",
              "      <td>0.918855</td>\n",
              "      <td>0.242707</td>\n",
              "      <td>0.920780</td>\n",
              "      <td>0.528938</td>\n",
              "      <td>0.559661</td>\n",
              "      <td>0.161475</td>\n",
              "      <td>0.683301</td>\n",
              "      <td>0.204827</td>\n",
              "      <td>0.593435</td>\n",
              "      <td>0.574851</td>\n",
              "      <td>0.128699</td>\n",
              "      <td>0.435343</td>\n",
              "      <td>0.544303</td>\n",
              "      <td>0.185816</td>\n",
              "      <td>0.968691</td>\n",
              "      <td>0.429514</td>\n",
              "      <td>0.573891</td>\n",
              "      <td>0.174414</td>\n",
              "      <td>0.558741</td>\n",
              "      <td>0.000365</td>\n",
              "      <td>0.550640</td>\n",
              "      <td>0.417896</td>\n",
              "      <td>0.821712</td>\n",
              "      <td>0.163688</td>\n",
              "      <td>0.339089</td>\n",
              "      <td>0.553686</td>\n",
              "      <td>0.920780</td>\n",
              "      <td>0.580998</td>\n",
              "      <td>0.232117</td>\n",
              "      <td>1.000000</td>\n",
              "      <td>0.555347</td>\n",
              "    </tr>\n",
              "    <tr>\n",
              "      <th>V58_woe</th>\n",
              "      <td>0.073538</td>\n",
              "      <td>0.458712</td>\n",
              "      <td>0.920268</td>\n",
              "      <td>0.452646</td>\n",
              "      <td>0.746965</td>\n",
              "      <td>0.904905</td>\n",
              "      <td>0.155165</td>\n",
              "      <td>0.794429</td>\n",
              "      <td>0.490785</td>\n",
              "      <td>0.570337</td>\n",
              "      <td>0.795689</td>\n",
              "      <td>0.568164</td>\n",
              "      <td>0.442079</td>\n",
              "      <td>0.957609</td>\n",
              "      <td>0.030746</td>\n",
              "      <td>0.570337</td>\n",
              "      <td>0.797911</td>\n",
              "      <td>0.570337</td>\n",
              "      <td>0.962886</td>\n",
              "      <td>0.386262</td>\n",
              "      <td>0.102802</td>\n",
              "      <td>0.570337</td>\n",
              "      <td>0.279870</td>\n",
              "      <td>0.959066</td>\n",
              "      <td>0.944463</td>\n",
              "      <td>0.963048</td>\n",
              "      <td>0.206154</td>\n",
              "      <td>0.920262</td>\n",
              "      <td>0.904347</td>\n",
              "      <td>0.371597</td>\n",
              "      <td>0.844032</td>\n",
              "      <td>0.906021</td>\n",
              "      <td>0.872371</td>\n",
              "      <td>0.921451</td>\n",
              "      <td>0.278293</td>\n",
              "      <td>0.411647</td>\n",
              "      <td>0.998572</td>\n",
              "      <td>0.570337</td>\n",
              "      <td>0.264865</td>\n",
              "      <td>0.315981</td>\n",
              "      <td>...</td>\n",
              "      <td>0.941641</td>\n",
              "      <td>0.796769</td>\n",
              "      <td>0.443815</td>\n",
              "      <td>0.410439</td>\n",
              "      <td>0.227204</td>\n",
              "      <td>0.436216</td>\n",
              "      <td>0.913144</td>\n",
              "      <td>0.876810</td>\n",
              "      <td>0.411143</td>\n",
              "      <td>0.568613</td>\n",
              "      <td>0.377671</td>\n",
              "      <td>0.570337</td>\n",
              "      <td>0.965472</td>\n",
              "      <td>0.940499</td>\n",
              "      <td>0.241159</td>\n",
              "      <td>0.404352</td>\n",
              "      <td>0.256973</td>\n",
              "      <td>0.610343</td>\n",
              "      <td>0.875097</td>\n",
              "      <td>0.224097</td>\n",
              "      <td>0.439035</td>\n",
              "      <td>0.888383</td>\n",
              "      <td>0.315171</td>\n",
              "      <td>0.562384</td>\n",
              "      <td>0.832058</td>\n",
              "      <td>0.873185</td>\n",
              "      <td>0.256080</td>\n",
              "      <td>0.903048</td>\n",
              "      <td>0.047967</td>\n",
              "      <td>0.550813</td>\n",
              "      <td>0.816358</td>\n",
              "      <td>0.498558</td>\n",
              "      <td>0.292768</td>\n",
              "      <td>0.711195</td>\n",
              "      <td>0.828244</td>\n",
              "      <td>0.570337</td>\n",
              "      <td>0.591895</td>\n",
              "      <td>0.370630</td>\n",
              "      <td>0.555347</td>\n",
              "      <td>1.000000</td>\n",
              "    </tr>\n",
              "  </tbody>\n",
              "</table>\n",
              "<p>104 rows × 104 columns</p>\n",
              "</div>"
            ],
            "text/plain": [
              "           V308_woe   V56_woe   V92_woe  ...   D15_woe    M3_woe   V58_woe\n",
              "V308_woe   1.000000  0.164795  0.057348  ...  0.065763  0.017026  0.073538\n",
              "V56_woe    0.164795  1.000000  0.389751  ...  0.258980  0.333848  0.458712\n",
              "V92_woe    0.057348  0.389751  1.000000  ...  0.368538  0.551237  0.920268\n",
              "M7_woe     0.004760  0.264727  0.450517  ...  0.155429  0.726834  0.452646\n",
              "addr1_woe  0.033834  0.099963  0.761304  ...  0.220493  0.360147  0.746965\n",
              "...             ...       ...       ...  ...       ...       ...       ...\n",
              "V7_woe     0.027450  0.337876  0.601861  ...  0.260549  0.920780  0.570337\n",
              "V53_woe    0.083406  0.425086  0.574436  ...  0.204033  0.580998  0.591895\n",
              "D15_woe    0.065763  0.258980  0.368538  ...  1.000000  0.232117  0.370630\n",
              "M3_woe     0.017026  0.333848  0.551237  ...  0.232117  1.000000  0.555347\n",
              "V58_woe    0.073538  0.458712  0.920268  ...  0.370630  0.555347  1.000000\n",
              "\n",
              "[104 rows x 104 columns]"
            ]
          },
          "metadata": {
            "tags": []
          },
          "execution_count": 96
        }
      ]
    },
    {
      "cell_type": "code",
      "metadata": {
        "id": "RkPROZN7KPpP",
        "colab_type": "code",
        "colab": {}
      },
      "source": [
        "c.to_csv('/content/drive/My Drive/Colab Notebooks/correlation.csv')"
      ],
      "execution_count": 0,
      "outputs": []
    },
    {
      "cell_type": "code",
      "metadata": {
        "id": "tnIJbjgEKh4Y",
        "colab_type": "code",
        "colab": {
          "base_uri": "https://localhost:8080/",
          "height": 221
        },
        "outputId": "38628471-acc1-4f08-d83b-005599476372"
      },
      "source": [
        "s = c.unstack()\n",
        "so = s.sort_values(kind=\"quicksort\")\n",
        "so"
      ],
      "execution_count": 99,
      "outputs": [
        {
          "output_type": "execute_result",
          "data": {
            "text/plain": [
              "V36_woe   D3_woe      0.000205\n",
              "D3_woe    V36_woe     0.000205\n",
              "V280_woe  M3_woe      0.000365\n",
              "M3_woe    V280_woe    0.000365\n",
              "V76_woe   C2_woe      0.000782\n",
              "                        ...   \n",
              "V17_woe   V17_woe     1.000000\n",
              "V3_woe    V7_woe      1.000000\n",
              "          V8_woe      1.000000\n",
              "D15_woe   D15_woe     1.000000\n",
              "V58_woe   V58_woe     1.000000\n",
              "Length: 10816, dtype: float64"
            ]
          },
          "metadata": {
            "tags": []
          },
          "execution_count": 99
        }
      ]
    },
    {
      "cell_type": "code",
      "metadata": {
        "id": "hUGQJTc3K41D",
        "colab_type": "code",
        "colab": {
          "base_uri": "https://localhost:8080/",
          "height": 330
        },
        "outputId": "3fef437e-4df7-449a-9dfe-527c346464e8"
      },
      "source": [
        "sn.heatmap(c)"
      ],
      "execution_count": 100,
      "outputs": [
        {
          "output_type": "execute_result",
          "data": {
            "text/plain": [
              "<matplotlib.axes._subplots.AxesSubplot at 0x7fb3f0365a58>"
            ]
          },
          "metadata": {
            "tags": []
          },
          "execution_count": 100
        },
        {
          "output_type": "display_data",
          "data": {
            "image/png": "[encoded data removed]",
            "text/plain": [
              "<Figure size 432x288 with 2 Axes>"
            ]
          },
          "metadata": {
            "tags": []
          }
        }
      ]
    },
    {
      "cell_type": "code",
      "metadata": {
        "id": "hzmj9LtTLcDu",
        "colab_type": "code",
        "colab": {
          "base_uri": "https://localhost:8080/",
          "height": 156
        },
        "outputId": "e1a2a403-30b3-41f8-8def-b402316bf148"
      },
      "source": [
        "from sklearn.linear_model import LogisticRegression\n",
        "lr = LogisticRegression(penalty='l1', C=0.9, solver='saga', n_jobs=-1)\n",
        "lr.fit(df_woe[:280_000], df.isFraud[:280000])"
      ],
      "execution_count": 119,
      "outputs": [
        {
          "output_type": "stream",
          "text": [
            "/usr/local/lib/python3.6/dist-packages/sklearn/linear_model/sag.py:337: ConvergenceWarning: The max_iter was reached which means the coef_ did not converge\n",
            "  \"the coef_ did not converge\", ConvergenceWarning)\n"
          ],
          "name": "stderr"
        },
        {
          "output_type": "execute_result",
          "data": {
            "text/plain": [
              "LogisticRegression(C=0.9, class_weight=None, dual=False, fit_intercept=True,\n",
              "                   intercept_scaling=1, l1_ratio=None, max_iter=100,\n",
              "                   multi_class='warn', n_jobs=-1, penalty='l1',\n",
              "                   random_state=None, solver='saga', tol=0.0001, verbose=0,\n",
              "                   warm_start=False)"
            ]
          },
          "metadata": {
            "tags": []
          },
          "execution_count": 119
        }
      ]
    },
    {
      "cell_type": "code",
      "metadata": {
        "id": "-nhVXIGcLu8j",
        "colab_type": "code",
        "colab": {}
      },
      "source": [
        "train_pred = lr.predict_proba(df_woe[280000:])[:,1]\n"
      ],
      "execution_count": 0,
      "outputs": []
    },
    {
      "cell_type": "code",
      "metadata": {
        "id": "UJh29HvKL4VO",
        "colab_type": "code",
        "colab": {}
      },
      "source": [
        "from sklearn.metrics import roc_auc_score, confusion_matrix\n",
        "\n",
        "auc = roc_auc_score(df.isFraud[280000:], train_pred)\n",
        "#conf = confusion_matrix(df.isFraud, np.where(train_pred > 0.5,1,0) )"
      ],
      "execution_count": 0,
      "outputs": []
    },
    {
      "cell_type": "code",
      "metadata": {
        "id": "NQVsogfWMVWE",
        "colab_type": "code",
        "colab": {
          "base_uri": "https://localhost:8080/",
          "height": 34
        },
        "outputId": "c51b3121-42f0-43cc-9dba-8bd773d9bbed"
      },
      "source": [
        "auc"
      ],
      "execution_count": 123,
      "outputs": [
        {
          "output_type": "execute_result",
          "data": {
            "text/plain": [
              "0.8337943274718083"
            ]
          },
          "metadata": {
            "tags": []
          },
          "execution_count": 123
        }
      ]
    },
    {
      "cell_type": "code",
      "metadata": {
        "id": "EOJqk2j1MWb_",
        "colab_type": "code",
        "colab": {
          "base_uri": "https://localhost:8080/",
          "height": 51
        },
        "outputId": "4356b792-ceff-4a0c-c1a4-0403d1f266a2"
      },
      "source": [
        "conf"
      ],
      "execution_count": 108,
      "outputs": [
        {
          "output_type": "execute_result",
          "data": {
            "text/plain": [
              "array([[568900,    977],\n",
              "       [ 17209,   3454]])"
            ]
          },
          "metadata": {
            "tags": []
          },
          "execution_count": 108
        }
      ]
    },
    {
      "cell_type": "code",
      "metadata": {
        "id": "YqBC8YydMy_v",
        "colab_type": "code",
        "colab": {
          "base_uri": "https://localhost:8080/",
          "height": 51
        },
        "outputId": "ac189036-fe8e-4951-e152-c6f34aaf9fcd"
      },
      "source": [
        "conf = confusion_matrix(df.isFraud, np.where(train_pred > 0.75,1,0) )\n",
        "conf"
      ],
      "execution_count": 111,
      "outputs": [
        {
          "output_type": "execute_result",
          "data": {
            "text/plain": [
              "array([[569784,     93],\n",
              "       [ 19773,    890]])"
            ]
          },
          "metadata": {
            "tags": []
          },
          "execution_count": 111
        }
      ]
    },
    {
      "cell_type": "code",
      "metadata": {
        "id": "mlWJWPrXM4G4",
        "colab_type": "code",
        "colab": {}
      },
      "source": [
        "from sklearn.metrics import precision_recall_curve\n",
        "p, r, th = precision_recall_curve(df.isFraud, train_pred)"
      ],
      "execution_count": 0,
      "outputs": []
    },
    {
      "cell_type": "code",
      "metadata": {
        "id": "2sA5I25iNLs9",
        "colab_type": "code",
        "colab": {
          "base_uri": "https://localhost:8080/",
          "height": 282
        },
        "outputId": "2f603a1c-5c68-4185-c274-7c4706c11bb7"
      },
      "source": [
        "plot(r, p)"
      ],
      "execution_count": 116,
      "outputs": [
        {
          "output_type": "execute_result",
          "data": {
            "text/plain": [
              "[<matplotlib.lines.Line2D at 0x7fb3dafa12e8>]"
            ]
          },
          "metadata": {
            "tags": []
          },
          "execution_count": 116
        },
        {
          "output_type": "display_data",
          "data": {
            "image/png": "[encoded data removed]",
            "text/plain": [
              "<Figure size 432x288 with 1 Axes>"
            ]
          },
          "metadata": {
            "tags": []
          }
        }
      ]
    },
    {
      "cell_type": "code",
      "metadata": {
        "id": "XLzpQ6OXNWXH",
        "colab_type": "code",
        "colab": {
          "base_uri": "https://localhost:8080/",
          "height": 698
        },
        "outputId": "abda5cfa-f35a-411d-b1f7-8464d2339240"
      },
      "source": [
        "df_test = pd.read_csv('/content/drive/My Drive/Colab Notebooks/test_transaction.csv')\n",
        "y_test = df_test['isFraud']\n",
        "df_woe_test = sc.woebin_ply(df_test[ivs[ivs.iv > 0.1]['var']], bins)\n",
        "\n",
        "test_pred = lr.predict_proba(df_woe_test)[:,1]\n",
        "\n",
        "auc = roc_auc_score(y_test, test_pred)\n"
      ],
      "execution_count": 117,
      "outputs": [
        {
          "output_type": "error",
          "ename": "KeyError",
          "evalue": "ignored",
          "traceback": [
            "\u001b[0;31m---------------------------------------------------------------------------\u001b[0m",
            "\u001b[0;31mKeyError\u001b[0m                                  Traceback (most recent call last)",
            "\u001b[0;32m/usr/local/lib/python3.6/dist-packages/pandas/core/indexes/base.py\u001b[0m in \u001b[0;36mget_loc\u001b[0;34m(self, key, method, tolerance)\u001b[0m\n\u001b[1;32m   2896\u001b[0m             \u001b[0;32mtry\u001b[0m\u001b[0;34m:\u001b[0m\u001b[0;34m\u001b[0m\u001b[0;34m\u001b[0m\u001b[0m\n\u001b[0;32m-> 2897\u001b[0;31m                 \u001b[0;32mreturn\u001b[0m \u001b[0mself\u001b[0m\u001b[0;34m.\u001b[0m\u001b[0m_engine\u001b[0m\u001b[0;34m.\u001b[0m\u001b[0mget_loc\u001b[0m\u001b[0;34m(\u001b[0m\u001b[0mkey\u001b[0m\u001b[0;34m)\u001b[0m\u001b[0;34m\u001b[0m\u001b[0;34m\u001b[0m\u001b[0m\n\u001b[0m\u001b[1;32m   2898\u001b[0m             \u001b[0;32mexcept\u001b[0m \u001b[0mKeyError\u001b[0m\u001b[0;34m:\u001b[0m\u001b[0;34m\u001b[0m\u001b[0;34m\u001b[0m\u001b[0m\n",
            "\u001b[0;32mpandas/_libs/index.pyx\u001b[0m in \u001b[0;36mpandas._libs.index.IndexEngine.get_loc\u001b[0;34m()\u001b[0m\n",
            "\u001b[0;32mpandas/_libs/index.pyx\u001b[0m in \u001b[0;36mpandas._libs.index.IndexEngine.get_loc\u001b[0;34m()\u001b[0m\n",
            "\u001b[0;32mpandas/_libs/hashtable_class_helper.pxi\u001b[0m in \u001b[0;36mpandas._libs.hashtable.PyObjectHashTable.get_item\u001b[0;34m()\u001b[0m\n",
            "\u001b[0;32mpandas/_libs/hashtable_class_helper.pxi\u001b[0m in \u001b[0;36mpandas._libs.hashtable.PyObjectHashTable.get_item\u001b[0;34m()\u001b[0m\n",
            "\u001b[0;31mKeyError\u001b[0m: 'isFraud'",
            "\nDuring handling of the above exception, another exception occurred:\n",
            "\u001b[0;31mKeyError\u001b[0m                                  Traceback (most recent call last)",
            "\u001b[0;32m<ipython-input-117-36ab74c022d5>\u001b[0m in \u001b[0;36m<module>\u001b[0;34m()\u001b[0m\n\u001b[1;32m      1\u001b[0m \u001b[0mdf_test\u001b[0m \u001b[0;34m=\u001b[0m \u001b[0mpd\u001b[0m\u001b[0;34m.\u001b[0m\u001b[0mread_csv\u001b[0m\u001b[0;34m(\u001b[0m\u001b[0;34m'/content/drive/My Drive/Colab Notebooks/test_transaction.csv'\u001b[0m\u001b[0;34m)\u001b[0m\u001b[0;34m\u001b[0m\u001b[0;34m\u001b[0m\u001b[0m\n\u001b[0;32m----> 2\u001b[0;31m \u001b[0my_test\u001b[0m \u001b[0;34m=\u001b[0m \u001b[0mdf_test\u001b[0m\u001b[0;34m[\u001b[0m\u001b[0;34m'isFraud'\u001b[0m\u001b[0;34m]\u001b[0m\u001b[0;34m\u001b[0m\u001b[0;34m\u001b[0m\u001b[0m\n\u001b[0m\u001b[1;32m      3\u001b[0m \u001b[0mdf_woe_test\u001b[0m \u001b[0;34m=\u001b[0m \u001b[0msc\u001b[0m\u001b[0;34m.\u001b[0m\u001b[0mwoebin_ply\u001b[0m\u001b[0;34m(\u001b[0m\u001b[0mdf_test\u001b[0m\u001b[0;34m[\u001b[0m\u001b[0mivs\u001b[0m\u001b[0;34m[\u001b[0m\u001b[0mivs\u001b[0m\u001b[0;34m.\u001b[0m\u001b[0miv\u001b[0m \u001b[0;34m>\u001b[0m \u001b[0;36m0.1\u001b[0m\u001b[0;34m]\u001b[0m\u001b[0;34m[\u001b[0m\u001b[0;34m'var'\u001b[0m\u001b[0;34m]\u001b[0m\u001b[0;34m]\u001b[0m\u001b[0;34m,\u001b[0m \u001b[0mbins\u001b[0m\u001b[0;34m)\u001b[0m\u001b[0;34m\u001b[0m\u001b[0;34m\u001b[0m\u001b[0m\n\u001b[1;32m      4\u001b[0m \u001b[0;34m\u001b[0m\u001b[0m\n\u001b[1;32m      5\u001b[0m \u001b[0mtest_pred\u001b[0m \u001b[0;34m=\u001b[0m \u001b[0mlr\u001b[0m\u001b[0;34m.\u001b[0m\u001b[0mpredict_proba\u001b[0m\u001b[0;34m(\u001b[0m\u001b[0mdf_woe_test\u001b[0m\u001b[0;34m)\u001b[0m\u001b[0;34m[\u001b[0m\u001b[0;34m:\u001b[0m\u001b[0;34m,\u001b[0m\u001b[0;36m1\u001b[0m\u001b[0;34m]\u001b[0m\u001b[0;34m\u001b[0m\u001b[0;34m\u001b[0m\u001b[0m\n",
            "\u001b[0;32m/usr/local/lib/python3.6/dist-packages/pandas/core/frame.py\u001b[0m in \u001b[0;36m__getitem__\u001b[0;34m(self, key)\u001b[0m\n\u001b[1;32m   2993\u001b[0m             \u001b[0;32mif\u001b[0m \u001b[0mself\u001b[0m\u001b[0;34m.\u001b[0m\u001b[0mcolumns\u001b[0m\u001b[0;34m.\u001b[0m\u001b[0mnlevels\u001b[0m \u001b[0;34m>\u001b[0m \u001b[0;36m1\u001b[0m\u001b[0;34m:\u001b[0m\u001b[0;34m\u001b[0m\u001b[0;34m\u001b[0m\u001b[0m\n\u001b[1;32m   2994\u001b[0m                 \u001b[0;32mreturn\u001b[0m \u001b[0mself\u001b[0m\u001b[0;34m.\u001b[0m\u001b[0m_getitem_multilevel\u001b[0m\u001b[0;34m(\u001b[0m\u001b[0mkey\u001b[0m\u001b[0;34m)\u001b[0m\u001b[0;34m\u001b[0m\u001b[0;34m\u001b[0m\u001b[0m\n\u001b[0;32m-> 2995\u001b[0;31m             \u001b[0mindexer\u001b[0m \u001b[0;34m=\u001b[0m \u001b[0mself\u001b[0m\u001b[0;34m.\u001b[0m\u001b[0mcolumns\u001b[0m\u001b[0;34m.\u001b[0m\u001b[0mget_loc\u001b[0m\u001b[0;34m(\u001b[0m\u001b[0mkey\u001b[0m\u001b[0;34m)\u001b[0m\u001b[0;34m\u001b[0m\u001b[0;34m\u001b[0m\u001b[0m\n\u001b[0m\u001b[1;32m   2996\u001b[0m             \u001b[0;32mif\u001b[0m \u001b[0mis_integer\u001b[0m\u001b[0;34m(\u001b[0m\u001b[0mindexer\u001b[0m\u001b[0;34m)\u001b[0m\u001b[0;34m:\u001b[0m\u001b[0;34m\u001b[0m\u001b[0;34m\u001b[0m\u001b[0m\n\u001b[1;32m   2997\u001b[0m                 \u001b[0mindexer\u001b[0m \u001b[0;34m=\u001b[0m \u001b[0;34m[\u001b[0m\u001b[0mindexer\u001b[0m\u001b[0;34m]\u001b[0m\u001b[0;34m\u001b[0m\u001b[0;34m\u001b[0m\u001b[0m\n",
            "\u001b[0;32m/usr/local/lib/python3.6/dist-packages/pandas/core/indexes/base.py\u001b[0m in \u001b[0;36mget_loc\u001b[0;34m(self, key, method, tolerance)\u001b[0m\n\u001b[1;32m   2897\u001b[0m                 \u001b[0;32mreturn\u001b[0m \u001b[0mself\u001b[0m\u001b[0;34m.\u001b[0m\u001b[0m_engine\u001b[0m\u001b[0;34m.\u001b[0m\u001b[0mget_loc\u001b[0m\u001b[0;34m(\u001b[0m\u001b[0mkey\u001b[0m\u001b[0;34m)\u001b[0m\u001b[0;34m\u001b[0m\u001b[0;34m\u001b[0m\u001b[0m\n\u001b[1;32m   2898\u001b[0m             \u001b[0;32mexcept\u001b[0m \u001b[0mKeyError\u001b[0m\u001b[0;34m:\u001b[0m\u001b[0;34m\u001b[0m\u001b[0;34m\u001b[0m\u001b[0m\n\u001b[0;32m-> 2899\u001b[0;31m                 \u001b[0;32mreturn\u001b[0m \u001b[0mself\u001b[0m\u001b[0;34m.\u001b[0m\u001b[0m_engine\u001b[0m\u001b[0;34m.\u001b[0m\u001b[0mget_loc\u001b[0m\u001b[0;34m(\u001b[0m\u001b[0mself\u001b[0m\u001b[0;34m.\u001b[0m\u001b[0m_maybe_cast_indexer\u001b[0m\u001b[0;34m(\u001b[0m\u001b[0mkey\u001b[0m\u001b[0;34m)\u001b[0m\u001b[0;34m)\u001b[0m\u001b[0;34m\u001b[0m\u001b[0;34m\u001b[0m\u001b[0m\n\u001b[0m\u001b[1;32m   2900\u001b[0m         \u001b[0mindexer\u001b[0m \u001b[0;34m=\u001b[0m \u001b[0mself\u001b[0m\u001b[0;34m.\u001b[0m\u001b[0mget_indexer\u001b[0m\u001b[0;34m(\u001b[0m\u001b[0;34m[\u001b[0m\u001b[0mkey\u001b[0m\u001b[0;34m]\u001b[0m\u001b[0;34m,\u001b[0m \u001b[0mmethod\u001b[0m\u001b[0;34m=\u001b[0m\u001b[0mmethod\u001b[0m\u001b[0;34m,\u001b[0m \u001b[0mtolerance\u001b[0m\u001b[0;34m=\u001b[0m\u001b[0mtolerance\u001b[0m\u001b[0;34m)\u001b[0m\u001b[0;34m\u001b[0m\u001b[0;34m\u001b[0m\u001b[0m\n\u001b[1;32m   2901\u001b[0m         \u001b[0;32mif\u001b[0m \u001b[0mindexer\u001b[0m\u001b[0;34m.\u001b[0m\u001b[0mndim\u001b[0m \u001b[0;34m>\u001b[0m \u001b[0;36m1\u001b[0m \u001b[0;32mor\u001b[0m \u001b[0mindexer\u001b[0m\u001b[0;34m.\u001b[0m\u001b[0msize\u001b[0m \u001b[0;34m>\u001b[0m \u001b[0;36m1\u001b[0m\u001b[0;34m:\u001b[0m\u001b[0;34m\u001b[0m\u001b[0;34m\u001b[0m\u001b[0m\n",
            "\u001b[0;32mpandas/_libs/index.pyx\u001b[0m in \u001b[0;36mpandas._libs.index.IndexEngine.get_loc\u001b[0;34m()\u001b[0m\n",
            "\u001b[0;32mpandas/_libs/index.pyx\u001b[0m in \u001b[0;36mpandas._libs.index.IndexEngine.get_loc\u001b[0;34m()\u001b[0m\n",
            "\u001b[0;32mpandas/_libs/hashtable_class_helper.pxi\u001b[0m in \u001b[0;36mpandas._libs.hashtable.PyObjectHashTable.get_item\u001b[0;34m()\u001b[0m\n",
            "\u001b[0;32mpandas/_libs/hashtable_class_helper.pxi\u001b[0m in \u001b[0;36mpandas._libs.hashtable.PyObjectHashTable.get_item\u001b[0;34m()\u001b[0m\n",
            "\u001b[0;31mKeyError\u001b[0m: 'isFraud'"
          ]
        }
      ]
    },
    {
      "cell_type": "code",
      "metadata": {
        "id": "CeR_8FsVP3IE",
        "colab_type": "code",
        "colab": {}
      },
      "source": [
        ""
      ],
      "execution_count": 0,
      "outputs": []
    }
  ]
}