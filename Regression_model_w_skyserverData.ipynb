{
 "cells": [
  {
   "cell_type": "code",
   "execution_count": 1,
   "metadata": {},
   "outputs": [
    {
     "name": "stdout",
     "output_type": "stream",
     "text": [
      "Populating the interactive namespace from numpy and matplotlib\n"
     ]
    },
    {
     "name": "stderr",
     "output_type": "stream",
     "text": [
      "/anaconda3/lib/python3.6/site-packages/h5py/__init__.py:34: FutureWarning: Conversion of the second argument of issubdtype from `float` to `np.floating` is deprecated. In future, it will be treated as `np.float64 == np.dtype(float).type`.\n",
      "  from ._conv import register_converters as _register_converters\n"
     ]
    }
   ],
   "source": [
    "%pylab inline\n",
    "import pandas as pd\n",
    "import tensorflow as tf"
   ]
  },
  {
   "cell_type": "code",
   "execution_count": 2,
   "metadata": {
    "collapsed": true
   },
   "outputs": [],
   "source": [
    "data = pd.read_csv('cjDatag.csv')"
   ]
  },
  {
   "cell_type": "code",
   "execution_count": 3,
   "metadata": {},
   "outputs": [
    {
     "data": {
      "text/html": [
       "<div>\n",
       "<style>\n",
       "    .dataframe thead tr:only-child th {\n",
       "        text-align: right;\n",
       "    }\n",
       "\n",
       "    .dataframe thead th {\n",
       "        text-align: left;\n",
       "    }\n",
       "\n",
       "    .dataframe tbody tr th {\n",
       "        vertical-align: top;\n",
       "    }\n",
       "</style>\n",
       "<table border=\"1\" class=\"dataframe\">\n",
       "  <thead>\n",
       "    <tr style=\"text-align: right;\">\n",
       "      <th></th>\n",
       "      <th>SpecObjID</th>\n",
       "      <th>z</th>\n",
       "      <th>zErr</th>\n",
       "      <th>modelMag_u</th>\n",
       "      <th>modelMag_g</th>\n",
       "      <th>modelMag_r</th>\n",
       "      <th>modelMag_i</th>\n",
       "      <th>modelMag_z</th>\n",
       "    </tr>\n",
       "  </thead>\n",
       "  <tbody>\n",
       "    <tr>\n",
       "      <th>0</th>\n",
       "      <td>299489676975171584</td>\n",
       "      <td>0.021275</td>\n",
       "      <td>0.000009</td>\n",
       "      <td>17.15042</td>\n",
       "      <td>15.49709</td>\n",
       "      <td>14.67401</td>\n",
       "      <td>14.23429</td>\n",
       "      <td>13.90754</td>\n",
       "    </tr>\n",
       "    <tr>\n",
       "      <th>1</th>\n",
       "      <td>299489677444933632</td>\n",
       "      <td>0.021222</td>\n",
       "      <td>0.000009</td>\n",
       "      <td>17.15042</td>\n",
       "      <td>15.49709</td>\n",
       "      <td>14.67401</td>\n",
       "      <td>14.23429</td>\n",
       "      <td>13.90754</td>\n",
       "    </tr>\n",
       "    <tr>\n",
       "      <th>2</th>\n",
       "      <td>299489951853078528</td>\n",
       "      <td>0.213925</td>\n",
       "      <td>0.000052</td>\n",
       "      <td>20.43201</td>\n",
       "      <td>18.64892</td>\n",
       "      <td>17.46552</td>\n",
       "      <td>16.99866</td>\n",
       "      <td>16.67051</td>\n",
       "    </tr>\n",
       "    <tr>\n",
       "      <th>3</th>\n",
       "      <td>299489952322840576</td>\n",
       "      <td>0.203783</td>\n",
       "      <td>0.000039</td>\n",
       "      <td>21.33477</td>\n",
       "      <td>19.1311</td>\n",
       "      <td>17.71072</td>\n",
       "      <td>17.14913</td>\n",
       "      <td>16.75609</td>\n",
       "    </tr>\n",
       "    <tr>\n",
       "      <th>4</th>\n",
       "      <td>299490501608892416</td>\n",
       "      <td>0.126554</td>\n",
       "      <td>0.000062</td>\n",
       "      <td>20.77302</td>\n",
       "      <td>18.64713</td>\n",
       "      <td>17.30827</td>\n",
       "      <td>16.71435</td>\n",
       "      <td>16.21529</td>\n",
       "    </tr>\n",
       "    <tr>\n",
       "      <th>5</th>\n",
       "      <td>299490502078654464</td>\n",
       "      <td>0.064656</td>\n",
       "      <td>0.000021</td>\n",
       "      <td>19.50913</td>\n",
       "      <td>17.59275</td>\n",
       "      <td>16.67357</td>\n",
       "      <td>16.20524</td>\n",
       "      <td>15.83744</td>\n",
       "    </tr>\n",
       "    <tr>\n",
       "      <th>6</th>\n",
       "      <td>299490776486799360</td>\n",
       "      <td>0.448645</td>\n",
       "      <td>0.000168</td>\n",
       "      <td>25.34187</td>\n",
       "      <td>21.41487</td>\n",
       "      <td>19.63125</td>\n",
       "      <td>18.82388</td>\n",
       "      <td>18.31009</td>\n",
       "    </tr>\n",
       "    <tr>\n",
       "      <th>7</th>\n",
       "      <td>299491051364706304</td>\n",
       "      <td>0.055988</td>\n",
       "      <td>0.000011</td>\n",
       "      <td>null</td>\n",
       "      <td>null</td>\n",
       "      <td>null</td>\n",
       "      <td>null</td>\n",
       "      <td>null</td>\n",
       "    </tr>\n",
       "    <tr>\n",
       "      <th>8</th>\n",
       "      <td>299491051834468352</td>\n",
       "      <td>0.052654</td>\n",
       "      <td>0.000009</td>\n",
       "      <td>19.48928</td>\n",
       "      <td>18.32375</td>\n",
       "      <td>17.8396</td>\n",
       "      <td>17.52613</td>\n",
       "      <td>17.42273</td>\n",
       "    </tr>\n",
       "    <tr>\n",
       "      <th>9</th>\n",
       "      <td>299491326712375296</td>\n",
       "      <td>0.213861</td>\n",
       "      <td>0.000040</td>\n",
       "      <td>20.43201</td>\n",
       "      <td>18.64892</td>\n",
       "      <td>17.46552</td>\n",
       "      <td>16.99866</td>\n",
       "      <td>16.67051</td>\n",
       "    </tr>\n",
       "    <tr>\n",
       "      <th>10</th>\n",
       "      <td>299491601120520192</td>\n",
       "      <td>0.090633</td>\n",
       "      <td>0.000027</td>\n",
       "      <td>19.06631</td>\n",
       "      <td>17.28672</td>\n",
       "      <td>16.36084</td>\n",
       "      <td>15.93414</td>\n",
       "      <td>15.64183</td>\n",
       "    </tr>\n",
       "    <tr>\n",
       "      <th>11</th>\n",
       "      <td>299491876468189184</td>\n",
       "      <td>0.448220</td>\n",
       "      <td>0.000107</td>\n",
       "      <td>25.34187</td>\n",
       "      <td>21.41487</td>\n",
       "      <td>19.63125</td>\n",
       "      <td>18.82388</td>\n",
       "      <td>18.31009</td>\n",
       "    </tr>\n",
       "    <tr>\n",
       "      <th>12</th>\n",
       "      <td>299492150876334080</td>\n",
       "      <td>0.089337</td>\n",
       "      <td>0.000036</td>\n",
       "      <td>20.72383</td>\n",
       "      <td>18.48659</td>\n",
       "      <td>17.46213</td>\n",
       "      <td>19.39146</td>\n",
       "      <td>16.40343</td>\n",
       "    </tr>\n",
       "    <tr>\n",
       "      <th>13</th>\n",
       "      <td>299492151346096128</td>\n",
       "      <td>0.371128</td>\n",
       "      <td>0.000069</td>\n",
       "      <td>22.20296</td>\n",
       "      <td>20.35373</td>\n",
       "      <td>18.53101</td>\n",
       "      <td>17.95463</td>\n",
       "      <td>17.54962</td>\n",
       "    </tr>\n",
       "    <tr>\n",
       "      <th>14</th>\n",
       "      <td>299492425754241024</td>\n",
       "      <td>0.203769</td>\n",
       "      <td>0.000051</td>\n",
       "      <td>21.33477</td>\n",
       "      <td>19.1311</td>\n",
       "      <td>17.71072</td>\n",
       "      <td>17.14913</td>\n",
       "      <td>16.75609</td>\n",
       "    </tr>\n",
       "    <tr>\n",
       "      <th>15</th>\n",
       "      <td>299492426224003072</td>\n",
       "      <td>0.121270</td>\n",
       "      <td>0.000028</td>\n",
       "      <td>19.96076</td>\n",
       "      <td>17.99332</td>\n",
       "      <td>16.84476</td>\n",
       "      <td>16.36045</td>\n",
       "      <td>15.93532</td>\n",
       "    </tr>\n",
       "    <tr>\n",
       "      <th>16</th>\n",
       "      <td>299492700632147968</td>\n",
       "      <td>0.065024</td>\n",
       "      <td>0.000011</td>\n",
       "      <td>19.06883</td>\n",
       "      <td>17.61594</td>\n",
       "      <td>16.96992</td>\n",
       "      <td>16.57557</td>\n",
       "      <td>16.34017</td>\n",
       "    </tr>\n",
       "    <tr>\n",
       "      <th>17</th>\n",
       "      <td>299492701101910016</td>\n",
       "      <td>0.055981</td>\n",
       "      <td>0.000010</td>\n",
       "      <td>null</td>\n",
       "      <td>null</td>\n",
       "      <td>null</td>\n",
       "      <td>null</td>\n",
       "      <td>null</td>\n",
       "    </tr>\n",
       "    <tr>\n",
       "      <th>18</th>\n",
       "      <td>299492975510054912</td>\n",
       "      <td>0.121316</td>\n",
       "      <td>0.000032</td>\n",
       "      <td>19.96076</td>\n",
       "      <td>17.99332</td>\n",
       "      <td>16.84476</td>\n",
       "      <td>16.36045</td>\n",
       "      <td>15.93532</td>\n",
       "    </tr>\n",
       "    <tr>\n",
       "      <th>19</th>\n",
       "      <td>299492975979816960</td>\n",
       "      <td>0.097086</td>\n",
       "      <td>0.000029</td>\n",
       "      <td>20.31863</td>\n",
       "      <td>18.5103</td>\n",
       "      <td>17.61213</td>\n",
       "      <td>17.2037</td>\n",
       "      <td>16.89944</td>\n",
       "    </tr>\n",
       "    <tr>\n",
       "      <th>20</th>\n",
       "      <td>299493250857723904</td>\n",
       "      <td>0.064779</td>\n",
       "      <td>0.000008</td>\n",
       "      <td>null</td>\n",
       "      <td>null</td>\n",
       "      <td>null</td>\n",
       "      <td>null</td>\n",
       "      <td>null</td>\n",
       "    </tr>\n",
       "    <tr>\n",
       "      <th>21</th>\n",
       "      <td>299493525265868800</td>\n",
       "      <td>0.064777</td>\n",
       "      <td>0.000008</td>\n",
       "      <td>null</td>\n",
       "      <td>null</td>\n",
       "      <td>null</td>\n",
       "      <td>null</td>\n",
       "      <td>null</td>\n",
       "    </tr>\n",
       "    <tr>\n",
       "      <th>22</th>\n",
       "      <td>299493800143775744</td>\n",
       "      <td>0.052659</td>\n",
       "      <td>0.000009</td>\n",
       "      <td>19.48928</td>\n",
       "      <td>18.32375</td>\n",
       "      <td>17.8396</td>\n",
       "      <td>17.52613</td>\n",
       "      <td>17.42273</td>\n",
       "    </tr>\n",
       "    <tr>\n",
       "      <th>23</th>\n",
       "      <td>299493800613537792</td>\n",
       "      <td>0.126590</td>\n",
       "      <td>0.000049</td>\n",
       "      <td>20.77302</td>\n",
       "      <td>18.64713</td>\n",
       "      <td>17.30827</td>\n",
       "      <td>16.71435</td>\n",
       "      <td>16.21529</td>\n",
       "    </tr>\n",
       "    <tr>\n",
       "      <th>24</th>\n",
       "      <td>299494075021682688</td>\n",
       "      <td>0.064589</td>\n",
       "      <td>0.000016</td>\n",
       "      <td>19.50913</td>\n",
       "      <td>17.59275</td>\n",
       "      <td>16.67357</td>\n",
       "      <td>16.20524</td>\n",
       "      <td>15.83744</td>\n",
       "    </tr>\n",
       "    <tr>\n",
       "      <th>25</th>\n",
       "      <td>299494075491444736</td>\n",
       "      <td>0.064959</td>\n",
       "      <td>0.000009</td>\n",
       "      <td>19.06883</td>\n",
       "      <td>17.61594</td>\n",
       "      <td>16.96992</td>\n",
       "      <td>16.57557</td>\n",
       "      <td>16.34017</td>\n",
       "    </tr>\n",
       "    <tr>\n",
       "      <th>26</th>\n",
       "      <td>299494349899589632</td>\n",
       "      <td>0.371249</td>\n",
       "      <td>0.000088</td>\n",
       "      <td>22.20296</td>\n",
       "      <td>20.35373</td>\n",
       "      <td>18.53101</td>\n",
       "      <td>17.95463</td>\n",
       "      <td>17.54962</td>\n",
       "    </tr>\n",
       "    <tr>\n",
       "      <th>27</th>\n",
       "      <td>299494350369351680</td>\n",
       "      <td>0.084292</td>\n",
       "      <td>0.000026</td>\n",
       "      <td>19.9029</td>\n",
       "      <td>18.33512</td>\n",
       "      <td>17.60977</td>\n",
       "      <td>17.20725</td>\n",
       "      <td>17.14689</td>\n",
       "    </tr>\n",
       "    <tr>\n",
       "      <th>28</th>\n",
       "      <td>299494624777496576</td>\n",
       "      <td>0.084396</td>\n",
       "      <td>0.000028</td>\n",
       "      <td>19.9029</td>\n",
       "      <td>18.33512</td>\n",
       "      <td>17.60977</td>\n",
       "      <td>17.20725</td>\n",
       "      <td>17.14689</td>\n",
       "    </tr>\n",
       "    <tr>\n",
       "      <th>29</th>\n",
       "      <td>299494625247258624</td>\n",
       "      <td>0.089312</td>\n",
       "      <td>0.000028</td>\n",
       "      <td>20.72383</td>\n",
       "      <td>18.48659</td>\n",
       "      <td>17.46213</td>\n",
       "      <td>19.39146</td>\n",
       "      <td>16.40343</td>\n",
       "    </tr>\n",
       "    <tr>\n",
       "      <th>...</th>\n",
       "      <td>...</td>\n",
       "      <td>...</td>\n",
       "      <td>...</td>\n",
       "      <td>...</td>\n",
       "      <td>...</td>\n",
       "      <td>...</td>\n",
       "      <td>...</td>\n",
       "      <td>...</td>\n",
       "    </tr>\n",
       "    <tr>\n",
       "      <th>1970</th>\n",
       "      <td>301873143826376704</td>\n",
       "      <td>0.081902</td>\n",
       "      <td>0.000011</td>\n",
       "      <td>19.82655</td>\n",
       "      <td>18.26493</td>\n",
       "      <td>17.41296</td>\n",
       "      <td>16.96146</td>\n",
       "      <td>16.65476</td>\n",
       "    </tr>\n",
       "    <tr>\n",
       "      <th>1971</th>\n",
       "      <td>301873418704283648</td>\n",
       "      <td>0.090345</td>\n",
       "      <td>0.000016</td>\n",
       "      <td>19.14646</td>\n",
       "      <td>17.20663</td>\n",
       "      <td>16.24115</td>\n",
       "      <td>15.81905</td>\n",
       "      <td>15.46948</td>\n",
       "    </tr>\n",
       "    <tr>\n",
       "      <th>1972</th>\n",
       "      <td>301873693582190592</td>\n",
       "      <td>0.169247</td>\n",
       "      <td>0.000029</td>\n",
       "      <td>20.53472</td>\n",
       "      <td>18.34488</td>\n",
       "      <td>17.13918</td>\n",
       "      <td>16.66674</td>\n",
       "      <td>16.3278</td>\n",
       "    </tr>\n",
       "    <tr>\n",
       "      <th>1973</th>\n",
       "      <td>301873968460097536</td>\n",
       "      <td>0.045772</td>\n",
       "      <td>0.000014</td>\n",
       "      <td>19.08747</td>\n",
       "      <td>17.59223</td>\n",
       "      <td>16.59731</td>\n",
       "      <td>16.15837</td>\n",
       "      <td>15.80311</td>\n",
       "    </tr>\n",
       "    <tr>\n",
       "      <th>1974</th>\n",
       "      <td>301874518215911424</td>\n",
       "      <td>0.077439</td>\n",
       "      <td>0.000018</td>\n",
       "      <td>19.38962</td>\n",
       "      <td>18.11589</td>\n",
       "      <td>17.59585</td>\n",
       "      <td>17.26856</td>\n",
       "      <td>17.03682</td>\n",
       "    </tr>\n",
       "    <tr>\n",
       "      <th>1975</th>\n",
       "      <td>301874793093818368</td>\n",
       "      <td>0.092592</td>\n",
       "      <td>0.000020</td>\n",
       "      <td>19.3824</td>\n",
       "      <td>17.81743</td>\n",
       "      <td>17.24421</td>\n",
       "      <td>16.97999</td>\n",
       "      <td>16.73932</td>\n",
       "    </tr>\n",
       "    <tr>\n",
       "      <th>1976</th>\n",
       "      <td>301875342849632256</td>\n",
       "      <td>0.200706</td>\n",
       "      <td>0.000037</td>\n",
       "      <td>21.50749</td>\n",
       "      <td>19.26019</td>\n",
       "      <td>17.96152</td>\n",
       "      <td>17.46728</td>\n",
       "      <td>17.08267</td>\n",
       "    </tr>\n",
       "    <tr>\n",
       "      <th>1977</th>\n",
       "      <td>301875617727539200</td>\n",
       "      <td>0.064825</td>\n",
       "      <td>0.000004</td>\n",
       "      <td>17.63496</td>\n",
       "      <td>16.28238</td>\n",
       "      <td>15.63926</td>\n",
       "      <td>15.17294</td>\n",
       "      <td>14.92673</td>\n",
       "    </tr>\n",
       "    <tr>\n",
       "      <th>1978</th>\n",
       "      <td>301875892605446144</td>\n",
       "      <td>0.080548</td>\n",
       "      <td>0.000018</td>\n",
       "      <td>18.94049</td>\n",
       "      <td>17.05787</td>\n",
       "      <td>16.12683</td>\n",
       "      <td>15.71725</td>\n",
       "      <td>15.36048</td>\n",
       "    </tr>\n",
       "    <tr>\n",
       "      <th>1979</th>\n",
       "      <td>301876167483353088</td>\n",
       "      <td>0.047310</td>\n",
       "      <td>0.000015</td>\n",
       "      <td>19.23683</td>\n",
       "      <td>17.53239</td>\n",
       "      <td>16.65579</td>\n",
       "      <td>16.19401</td>\n",
       "      <td>15.81507</td>\n",
       "    </tr>\n",
       "    <tr>\n",
       "      <th>1980</th>\n",
       "      <td>301876442361260032</td>\n",
       "      <td>0.092810</td>\n",
       "      <td>0.000016</td>\n",
       "      <td>19.13611</td>\n",
       "      <td>17.13307</td>\n",
       "      <td>16.15467</td>\n",
       "      <td>15.72316</td>\n",
       "      <td>15.36087</td>\n",
       "    </tr>\n",
       "    <tr>\n",
       "      <th>1981</th>\n",
       "      <td>301876717239166976</td>\n",
       "      <td>0.193295</td>\n",
       "      <td>0.000046</td>\n",
       "      <td>20.6156</td>\n",
       "      <td>18.96371</td>\n",
       "      <td>17.65038</td>\n",
       "      <td>17.14089</td>\n",
       "      <td>16.731</td>\n",
       "    </tr>\n",
       "    <tr>\n",
       "      <th>1982</th>\n",
       "      <td>301876992117073920</td>\n",
       "      <td>0.311795</td>\n",
       "      <td>0.000060</td>\n",
       "      <td>22.34599</td>\n",
       "      <td>19.73191</td>\n",
       "      <td>18.12682</td>\n",
       "      <td>17.5287</td>\n",
       "      <td>17.13712</td>\n",
       "    </tr>\n",
       "    <tr>\n",
       "      <th>1983</th>\n",
       "      <td>301877266994980864</td>\n",
       "      <td>0.056478</td>\n",
       "      <td>0.000011</td>\n",
       "      <td>18.24126</td>\n",
       "      <td>16.35715</td>\n",
       "      <td>15.50788</td>\n",
       "      <td>15.08795</td>\n",
       "      <td>14.76713</td>\n",
       "    </tr>\n",
       "    <tr>\n",
       "      <th>1984</th>\n",
       "      <td>301877541872887808</td>\n",
       "      <td>0.202720</td>\n",
       "      <td>0.000010</td>\n",
       "      <td>19.28498</td>\n",
       "      <td>18.26913</td>\n",
       "      <td>17.56581</td>\n",
       "      <td>17.1694</td>\n",
       "      <td>16.91188</td>\n",
       "    </tr>\n",
       "    <tr>\n",
       "      <th>1985</th>\n",
       "      <td>301877816750794752</td>\n",
       "      <td>0.092007</td>\n",
       "      <td>0.000017</td>\n",
       "      <td>19.80788</td>\n",
       "      <td>17.91154</td>\n",
       "      <td>17.00562</td>\n",
       "      <td>16.61553</td>\n",
       "      <td>16.31289</td>\n",
       "    </tr>\n",
       "    <tr>\n",
       "      <th>1986</th>\n",
       "      <td>301878091628701696</td>\n",
       "      <td>0.200093</td>\n",
       "      <td>0.000028</td>\n",
       "      <td>20.68685</td>\n",
       "      <td>18.75606</td>\n",
       "      <td>17.49601</td>\n",
       "      <td>16.95911</td>\n",
       "      <td>16.63282</td>\n",
       "    </tr>\n",
       "    <tr>\n",
       "      <th>1987</th>\n",
       "      <td>301878366506608640</td>\n",
       "      <td>0.140001</td>\n",
       "      <td>0.000009</td>\n",
       "      <td>19.24116</td>\n",
       "      <td>18.21097</td>\n",
       "      <td>17.6187</td>\n",
       "      <td>17.29213</td>\n",
       "      <td>17.10987</td>\n",
       "    </tr>\n",
       "    <tr>\n",
       "      <th>1988</th>\n",
       "      <td>301878641384515584</td>\n",
       "      <td>0.168816</td>\n",
       "      <td>0.000025</td>\n",
       "      <td>19.56976</td>\n",
       "      <td>18.05537</td>\n",
       "      <td>17.0743</td>\n",
       "      <td>16.64312</td>\n",
       "      <td>16.31248</td>\n",
       "    </tr>\n",
       "    <tr>\n",
       "      <th>1989</th>\n",
       "      <td>301878916262422528</td>\n",
       "      <td>0.087147</td>\n",
       "      <td>0.000036</td>\n",
       "      <td>20.23092</td>\n",
       "      <td>18.42286</td>\n",
       "      <td>17.5577</td>\n",
       "      <td>17.14909</td>\n",
       "      <td>16.8349</td>\n",
       "    </tr>\n",
       "    <tr>\n",
       "      <th>1990</th>\n",
       "      <td>301879191140329472</td>\n",
       "      <td>0.159765</td>\n",
       "      <td>0.000035</td>\n",
       "      <td>20.95228</td>\n",
       "      <td>18.8164</td>\n",
       "      <td>17.6451</td>\n",
       "      <td>17.15571</td>\n",
       "      <td>16.82502</td>\n",
       "    </tr>\n",
       "    <tr>\n",
       "      <th>1991</th>\n",
       "      <td>301880015774050304</td>\n",
       "      <td>0.044834</td>\n",
       "      <td>0.000014</td>\n",
       "      <td>17.52606</td>\n",
       "      <td>15.85473</td>\n",
       "      <td>15.10012</td>\n",
       "      <td>14.74038</td>\n",
       "      <td>14.44261</td>\n",
       "    </tr>\n",
       "    <tr>\n",
       "      <th>1992</th>\n",
       "      <td>301880290651957248</td>\n",
       "      <td>0.087654</td>\n",
       "      <td>0.000025</td>\n",
       "      <td>20.67507</td>\n",
       "      <td>18.73854</td>\n",
       "      <td>17.7736</td>\n",
       "      <td>17.35561</td>\n",
       "      <td>16.97374</td>\n",
       "    </tr>\n",
       "    <tr>\n",
       "      <th>1993</th>\n",
       "      <td>301880840407771136</td>\n",
       "      <td>0.124675</td>\n",
       "      <td>0.000008</td>\n",
       "      <td>20.1242</td>\n",
       "      <td>18.74868</td>\n",
       "      <td>17.95619</td>\n",
       "      <td>17.51089</td>\n",
       "      <td>17.18803</td>\n",
       "    </tr>\n",
       "    <tr>\n",
       "      <th>1994</th>\n",
       "      <td>301881115285678080</td>\n",
       "      <td>0.091498</td>\n",
       "      <td>0.000022</td>\n",
       "      <td>20.07271</td>\n",
       "      <td>18.07217</td>\n",
       "      <td>17.08549</td>\n",
       "      <td>16.6485</td>\n",
       "      <td>16.28031</td>\n",
       "    </tr>\n",
       "    <tr>\n",
       "      <th>1995</th>\n",
       "      <td>301881390163585024</td>\n",
       "      <td>0.092464</td>\n",
       "      <td>0.000020</td>\n",
       "      <td>19.55867</td>\n",
       "      <td>17.65646</td>\n",
       "      <td>16.74422</td>\n",
       "      <td>16.336</td>\n",
       "      <td>16.0367</td>\n",
       "    </tr>\n",
       "    <tr>\n",
       "      <th>1996</th>\n",
       "      <td>301881665041491968</td>\n",
       "      <td>0.065155</td>\n",
       "      <td>0.000017</td>\n",
       "      <td>19.87674</td>\n",
       "      <td>18.00967</td>\n",
       "      <td>17.13327</td>\n",
       "      <td>16.70855</td>\n",
       "      <td>16.42297</td>\n",
       "    </tr>\n",
       "    <tr>\n",
       "      <th>1997</th>\n",
       "      <td>301881939919398912</td>\n",
       "      <td>0.171811</td>\n",
       "      <td>0.000031</td>\n",
       "      <td>20.5569</td>\n",
       "      <td>18.50233</td>\n",
       "      <td>17.2457</td>\n",
       "      <td>16.74503</td>\n",
       "      <td>16.36036</td>\n",
       "    </tr>\n",
       "    <tr>\n",
       "      <th>1998</th>\n",
       "      <td>301882214797305856</td>\n",
       "      <td>0.062150</td>\n",
       "      <td>0.000013</td>\n",
       "      <td>19.10498</td>\n",
       "      <td>17.66437</td>\n",
       "      <td>17.12715</td>\n",
       "      <td>16.81515</td>\n",
       "      <td>16.61157</td>\n",
       "    </tr>\n",
       "    <tr>\n",
       "      <th>1999</th>\n",
       "      <td>301882489675212800</td>\n",
       "      <td>0.172407</td>\n",
       "      <td>0.000038</td>\n",
       "      <td>21.17658</td>\n",
       "      <td>18.95518</td>\n",
       "      <td>17.72259</td>\n",
       "      <td>17.24442</td>\n",
       "      <td>16.88841</td>\n",
       "    </tr>\n",
       "  </tbody>\n",
       "</table>\n",
       "<p>2000 rows × 8 columns</p>\n",
       "</div>"
      ],
      "text/plain": [
       "               SpecObjID         z      zErr modelMag_u modelMag_g modelMag_r  \\\n",
       "0     299489676975171584  0.021275  0.000009   17.15042   15.49709   14.67401   \n",
       "1     299489677444933632  0.021222  0.000009   17.15042   15.49709   14.67401   \n",
       "2     299489951853078528  0.213925  0.000052   20.43201   18.64892   17.46552   \n",
       "3     299489952322840576  0.203783  0.000039   21.33477    19.1311   17.71072   \n",
       "4     299490501608892416  0.126554  0.000062   20.77302   18.64713   17.30827   \n",
       "5     299490502078654464  0.064656  0.000021   19.50913   17.59275   16.67357   \n",
       "6     299490776486799360  0.448645  0.000168   25.34187   21.41487   19.63125   \n",
       "7     299491051364706304  0.055988  0.000011       null       null       null   \n",
       "8     299491051834468352  0.052654  0.000009   19.48928   18.32375    17.8396   \n",
       "9     299491326712375296  0.213861  0.000040   20.43201   18.64892   17.46552   \n",
       "10    299491601120520192  0.090633  0.000027   19.06631   17.28672   16.36084   \n",
       "11    299491876468189184  0.448220  0.000107   25.34187   21.41487   19.63125   \n",
       "12    299492150876334080  0.089337  0.000036   20.72383   18.48659   17.46213   \n",
       "13    299492151346096128  0.371128  0.000069   22.20296   20.35373   18.53101   \n",
       "14    299492425754241024  0.203769  0.000051   21.33477    19.1311   17.71072   \n",
       "15    299492426224003072  0.121270  0.000028   19.96076   17.99332   16.84476   \n",
       "16    299492700632147968  0.065024  0.000011   19.06883   17.61594   16.96992   \n",
       "17    299492701101910016  0.055981  0.000010       null       null       null   \n",
       "18    299492975510054912  0.121316  0.000032   19.96076   17.99332   16.84476   \n",
       "19    299492975979816960  0.097086  0.000029   20.31863    18.5103   17.61213   \n",
       "20    299493250857723904  0.064779  0.000008       null       null       null   \n",
       "21    299493525265868800  0.064777  0.000008       null       null       null   \n",
       "22    299493800143775744  0.052659  0.000009   19.48928   18.32375    17.8396   \n",
       "23    299493800613537792  0.126590  0.000049   20.77302   18.64713   17.30827   \n",
       "24    299494075021682688  0.064589  0.000016   19.50913   17.59275   16.67357   \n",
       "25    299494075491444736  0.064959  0.000009   19.06883   17.61594   16.96992   \n",
       "26    299494349899589632  0.371249  0.000088   22.20296   20.35373   18.53101   \n",
       "27    299494350369351680  0.084292  0.000026    19.9029   18.33512   17.60977   \n",
       "28    299494624777496576  0.084396  0.000028    19.9029   18.33512   17.60977   \n",
       "29    299494625247258624  0.089312  0.000028   20.72383   18.48659   17.46213   \n",
       "...                  ...       ...       ...        ...        ...        ...   \n",
       "1970  301873143826376704  0.081902  0.000011   19.82655   18.26493   17.41296   \n",
       "1971  301873418704283648  0.090345  0.000016   19.14646   17.20663   16.24115   \n",
       "1972  301873693582190592  0.169247  0.000029   20.53472   18.34488   17.13918   \n",
       "1973  301873968460097536  0.045772  0.000014   19.08747   17.59223   16.59731   \n",
       "1974  301874518215911424  0.077439  0.000018   19.38962   18.11589   17.59585   \n",
       "1975  301874793093818368  0.092592  0.000020    19.3824   17.81743   17.24421   \n",
       "1976  301875342849632256  0.200706  0.000037   21.50749   19.26019   17.96152   \n",
       "1977  301875617727539200  0.064825  0.000004   17.63496   16.28238   15.63926   \n",
       "1978  301875892605446144  0.080548  0.000018   18.94049   17.05787   16.12683   \n",
       "1979  301876167483353088  0.047310  0.000015   19.23683   17.53239   16.65579   \n",
       "1980  301876442361260032  0.092810  0.000016   19.13611   17.13307   16.15467   \n",
       "1981  301876717239166976  0.193295  0.000046    20.6156   18.96371   17.65038   \n",
       "1982  301876992117073920  0.311795  0.000060   22.34599   19.73191   18.12682   \n",
       "1983  301877266994980864  0.056478  0.000011   18.24126   16.35715   15.50788   \n",
       "1984  301877541872887808  0.202720  0.000010   19.28498   18.26913   17.56581   \n",
       "1985  301877816750794752  0.092007  0.000017   19.80788   17.91154   17.00562   \n",
       "1986  301878091628701696  0.200093  0.000028   20.68685   18.75606   17.49601   \n",
       "1987  301878366506608640  0.140001  0.000009   19.24116   18.21097    17.6187   \n",
       "1988  301878641384515584  0.168816  0.000025   19.56976   18.05537    17.0743   \n",
       "1989  301878916262422528  0.087147  0.000036   20.23092   18.42286    17.5577   \n",
       "1990  301879191140329472  0.159765  0.000035   20.95228    18.8164    17.6451   \n",
       "1991  301880015774050304  0.044834  0.000014   17.52606   15.85473   15.10012   \n",
       "1992  301880290651957248  0.087654  0.000025   20.67507   18.73854    17.7736   \n",
       "1993  301880840407771136  0.124675  0.000008    20.1242   18.74868   17.95619   \n",
       "1994  301881115285678080  0.091498  0.000022   20.07271   18.07217   17.08549   \n",
       "1995  301881390163585024  0.092464  0.000020   19.55867   17.65646   16.74422   \n",
       "1996  301881665041491968  0.065155  0.000017   19.87674   18.00967   17.13327   \n",
       "1997  301881939919398912  0.171811  0.000031    20.5569   18.50233    17.2457   \n",
       "1998  301882214797305856  0.062150  0.000013   19.10498   17.66437   17.12715   \n",
       "1999  301882489675212800  0.172407  0.000038   21.17658   18.95518   17.72259   \n",
       "\n",
       "     modelMag_i modelMag_z  \n",
       "0      14.23429   13.90754  \n",
       "1      14.23429   13.90754  \n",
       "2      16.99866   16.67051  \n",
       "3      17.14913   16.75609  \n",
       "4      16.71435   16.21529  \n",
       "5      16.20524   15.83744  \n",
       "6      18.82388   18.31009  \n",
       "7          null       null  \n",
       "8      17.52613   17.42273  \n",
       "9      16.99866   16.67051  \n",
       "10     15.93414   15.64183  \n",
       "11     18.82388   18.31009  \n",
       "12     19.39146   16.40343  \n",
       "13     17.95463   17.54962  \n",
       "14     17.14913   16.75609  \n",
       "15     16.36045   15.93532  \n",
       "16     16.57557   16.34017  \n",
       "17         null       null  \n",
       "18     16.36045   15.93532  \n",
       "19      17.2037   16.89944  \n",
       "20         null       null  \n",
       "21         null       null  \n",
       "22     17.52613   17.42273  \n",
       "23     16.71435   16.21529  \n",
       "24     16.20524   15.83744  \n",
       "25     16.57557   16.34017  \n",
       "26     17.95463   17.54962  \n",
       "27     17.20725   17.14689  \n",
       "28     17.20725   17.14689  \n",
       "29     19.39146   16.40343  \n",
       "...         ...        ...  \n",
       "1970   16.96146   16.65476  \n",
       "1971   15.81905   15.46948  \n",
       "1972   16.66674    16.3278  \n",
       "1973   16.15837   15.80311  \n",
       "1974   17.26856   17.03682  \n",
       "1975   16.97999   16.73932  \n",
       "1976   17.46728   17.08267  \n",
       "1977   15.17294   14.92673  \n",
       "1978   15.71725   15.36048  \n",
       "1979   16.19401   15.81507  \n",
       "1980   15.72316   15.36087  \n",
       "1981   17.14089     16.731  \n",
       "1982    17.5287   17.13712  \n",
       "1983   15.08795   14.76713  \n",
       "1984    17.1694   16.91188  \n",
       "1985   16.61553   16.31289  \n",
       "1986   16.95911   16.63282  \n",
       "1987   17.29213   17.10987  \n",
       "1988   16.64312   16.31248  \n",
       "1989   17.14909    16.8349  \n",
       "1990   17.15571   16.82502  \n",
       "1991   14.74038   14.44261  \n",
       "1992   17.35561   16.97374  \n",
       "1993   17.51089   17.18803  \n",
       "1994    16.6485   16.28031  \n",
       "1995     16.336    16.0367  \n",
       "1996   16.70855   16.42297  \n",
       "1997   16.74503   16.36036  \n",
       "1998   16.81515   16.61157  \n",
       "1999   17.24442   16.88841  \n",
       "\n",
       "[2000 rows x 8 columns]"
      ]
     },
     "execution_count": 3,
     "metadata": {},
     "output_type": "execute_result"
    }
   ],
   "source": [
    "data"
   ]
  },
  {
   "cell_type": "code",
   "execution_count": 4,
   "metadata": {},
   "outputs": [
    {
     "data": {
      "image/png": "iVBORw0KGgoAAAANSUhEUgAAAYUAAAD8CAYAAACYebj1AAAABHNCSVQICAgIfAhkiAAAAAlwSFlz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\nRK5CYII=\n",
      "text/plain": [
<<<<<<< Updated upstream
       "<matplotlib.figure.Figure at 0x11044cc18>"
=======
       "<matplotlib.figure.Figure at 0x10abd75f8>"
>>>>>>> Stashed changes
      ]
     },
     "metadata": {},
     "output_type": "display_data"
    }
   ],
   "source": [
    "ylim(0,0.1)\n",
    "xlim(0,0.1)\n",
    "plot(data.z, data.z, '.')\n",
    "show()"
   ]
  },
  {
   "cell_type": "code",
   "execution_count": 6,
   "metadata": {},
   "outputs": [
    {
     "data": {
      "text/plain": [
       "pandas.core.series.Series"
      ]
     },
     "execution_count": 6,
     "metadata": {},
     "output_type": "execute_result"
    }
   ],
   "source": [
    "type(data.modelMag_u)"
   ]
  },
  {
   "cell_type": "markdown",
   "metadata": {},
   "source": [
    "# Új adat"
   ]
  },
  {
   "cell_type": "code",
<<<<<<< Updated upstream
   "execution_count": 2,
=======
   "execution_count": 7,
>>>>>>> Stashed changes
   "metadata": {
    "collapsed": true
   },
   "outputs": [],
   "source": [
    "data1 = pd.read_csv('mydata_hbendeguz.csv')\n",
    "x1 = data1.modelMag_u\n",
    "x2 = data1.modelMag_g\n",
    "x3 = data1.modelMag_r\n",
    "x4 = data1.modelMag_i\n",
    "x5 = data1.modelMag_z"
   ]
  },
  {
   "cell_type": "markdown",
   "metadata": {},
   "source": [
    "# Új modell"
   ]
  },
  {
   "cell_type": "code",
<<<<<<< Updated upstream
   "execution_count": 106,
=======
   "execution_count": 8,
>>>>>>> Stashed changes
   "metadata": {
    "collapsed": true
   },
   "outputs": [],
   "source": [
    "#hyperparameters\n",
    "num_features = 5\n",
    "num_h1 = 500\n",
    "num_h2 = 250\n",
    "\n",
    "delta = tf.constant(0.1)\n",
    "learningrate = 0.012\n",
    "\n",
    "epoch = 100000\n",
    "num_total_data = 50000\n",
    "num_training_set = 40000\n",
    "num_test_set = num_total_data -num_training_set\n"
   ]
  },
  {
   "cell_type": "code",
<<<<<<< Updated upstream
   "execution_count": 107,
=======
   "execution_count": 9,
>>>>>>> Stashed changes
   "metadata": {
    "collapsed": true
   },
   "outputs": [],
   "source": [
    "xdata = tf.placeholder(dtype = tf.float32, shape = [num_features, 1])\n",
    "ydata = tf.placeholder(dtype = tf.float32, shape = [1])"
   ]
  },
  {
   "cell_type": "code",
<<<<<<< Updated upstream
   "execution_count": 108,
=======
   "execution_count": 10,
>>>>>>> Stashed changes
   "metadata": {
    "collapsed": true
   },
   "outputs": [],
   "source": [
    "weights = {'h1' : tf.Variable(tf.truncated_normal(shape = [num_features, num_h1]), dtype = tf.float32),\n",
    "          'h2' :tf.Variable(tf.truncated_normal(shape = [num_h1, num_h2]), dtype = tf.float32),\n",
    "          'out' : tf.Variable(tf.truncated_normal(shape = [num_h2, 1]), dtype = tf.float32)}\n",
    "biases = {'b1' :tf.Variable(tf.zeros(shape = [num_h1]), dtype = tf.float32),\n",
    "         'b2' :tf.Variable(tf.zeros(shape = [num_h2]), dtype = tf.float32),\n",
    "         'out' :tf.Variable(tf.zeros(shape = [1]), dtype = tf.float32)}"
   ]
  },
  {
   "cell_type": "code",
<<<<<<< Updated upstream
   "execution_count": 109,
=======
   "execution_count": 11,
>>>>>>> Stashed changes
   "metadata": {
    "collapsed": true
   },
   "outputs": [],
   "source": [
    "layer_1 = tf.nn.sigmoid(tf.add(tf.matmul(tf.transpose(xdata),(weights['h1'])), biases['b1']))\n",
    "layer_2 = tf.nn.sigmoid(tf.add(tf.matmul(layer_1, weights['h2']), biases['b2']))\n",
    "output = tf.add(tf.matmul(layer_2, weights['out']), biases['out'])"
   ]
  },
  {
   "cell_type": "code",
<<<<<<< Updated upstream
   "execution_count": 110,
=======
   "execution_count": 12,
>>>>>>> Stashed changes
   "metadata": {
    "collapsed": true
   },
   "outputs": [],
   "source": [
    "loss = tf.multiply(tf.square(delta), tf.sqrt(1. +tf.square((ydata - output)/delta)) - 1.)#tf.sqrt(np.abs(tf.square(output)-tf.square((ydata))))\n",
    "rmse = tf.reduce_mean(tf.square(ydata - output))\n",
    "my_optimizer = tf.train.GradientDescentOptimizer(learning_rate = learningrate)\n",
    "train_step = my_optimizer.minimize(loss)"
   ]
  },
  {
   "cell_type": "code",
<<<<<<< Updated upstream
   "execution_count": 111,
   "metadata": {
    "scrolled": false
   },
=======
   "execution_count": 13,
   "metadata": {},
>>>>>>> Stashed changes
   "outputs": [
    {
     "name": "stdout",
     "output_type": "stream",
     "text": [
<<<<<<< Updated upstream
      "[[0.0706163]] ,\n",
      "[[0.00172737]] ,\n",
      "[[0.00116135]] ,\n",
      "[[0.00088759]] ,\n",
      "[[0.00046246]] ,\n",
      "[[0.00070284]] ,\n",
      "[[0.00028916]] ,\n",
      "[[0.00032999]] ,\n",
      "[[0.00020984]] ,\n",
      "[[0.00064691]] ,\n"
=======
      "[[1.2278944]] ,\n",
      "[[5.722046e-08]] ,\n",
      "[[2.4414064e-06]] ,\n",
      "[[3.706217e-06]] ,\n",
      "[[8.46386e-08]] ,\n",
      "[[5.126e-08]] ,\n",
      "[[8.344651e-09]] ,\n",
      "[[5.909205e-06]] ,\n",
      "[[0.0002748]] ,\n",
      "[[8.836985e-06]] ,\n",
      "[[5.140305e-06]] ,\n",
      "[[2.7418139e-08]] ,\n",
      "[[2.384186e-09]] ,\n",
      "[[3.230572e-07]] ,\n",
      "[[5.757809e-07]] ,\n",
      "[[1.3101102e-06]] ,\n",
      "[[1.993537e-05]] ,\n",
      "[[1.6582013e-06]] ,\n",
      "[[3.5762788e-09]] ,\n",
      "[[0.00367435]] ,\n"
>>>>>>> Stashed changes
     ]
    }
   ],
   "source": [
    "init_op = tf.global_variables_initializer()\n",
    "sess = tf.Session()\n",
    "sess.run(init_op)\n",
    "\n",
    "w_v = []\n",
    "for i in range(epoch):\n",
    "    rand_index = np.random.choice(num_training_set)\n",
    "    x1rand = [x1[rand_index]]\n",
    "    x2rand = [x2[rand_index]]\n",
    "    x3rand = [x3[rand_index]]\n",
    "    x4rand = [x4[rand_index]]\n",
    "    x5rand = [x5[rand_index]]\n",
    "    \n",
    "    yrand = [data1.z[rand_index]]\n",
    "    sess.run(train_step, feed_dict = {xdata: [x1rand,x2rand, x3rand, x4rand, x5rand ], ydata : yrand})\n",
    "    if i % 10000 == 0 :\n",
    "        print((sess.run(loss,feed_dict = {xdata: [x1rand,x2rand, x3rand, x4rand, x5rand ], ydata : yrand}) ),',')"
   ]
  },
  {
   "cell_type": "code",
<<<<<<< Updated upstream
   "execution_count": 112,
=======
   "execution_count": 14,
>>>>>>> Stashed changes
   "metadata": {},
   "outputs": [
    {
     "name": "stdout",
     "output_type": "stream",
     "text": [
<<<<<<< Updated upstream
      "[[0.32796177]]\n",
      "0.2937405 6.152366e-05\n"
=======
      "[[0.2805781]]\n",
      "0.29678390000000004 6.312603000000001e-05\n"
>>>>>>> Stashed changes
     ]
    }
   ],
   "source": [
    "k = 45510\n",
    "\n",
    "\n",
    "\n",
    "result = sess.run(output, feed_dict = {xdata : reshape([x1[k], x2[k], x3[k], x4[k], x5[k]], (5,1)), ydata : reshape(data1.z[k], (1))})\n",
    "print(result)\n",
    "print(data1.z[k],data1.zErr[k] )"
   ]
  },
  {
   "cell_type": "code",
<<<<<<< Updated upstream
   "execution_count": 113,
=======
   "execution_count": 15,
>>>>>>> Stashed changes
   "metadata": {},
   "outputs": [
    {
     "data": {
<<<<<<< Updated upstream
      "image/png": "iVBORw0KGgoAAAANSUhEUgAAAXYAAAFpCAYAAACI3gMrAAAABHNCSVQICAgIfAhkiAAAAAlwSFlz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\n2AHAMQQ7ADiGYAcAxxDsAOCY/w+3M6cCn44AiQAAAABJRU5ErkJggg==\n",
      "text/plain": [
       "<matplotlib.figure.Figure at 0x1826746ba8>"
=======
      "image/png": "iVBORw0KGgoAAAANSUhEUgAAAYQAAAFpCAYAAACcZ1+PAAAABHNCSVQICAgIfAhkiAAAAAlwSFlz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\nQmCC\n",
      "text/plain": [
       "<matplotlib.figure.Figure at 0x10df90438>"
>>>>>>> Stashed changes
      ]
     },
     "metadata": {},
     "output_type": "display_data"
    }
   ],
   "source": [
    "r = zeros(num_total_data)\n",
    "for i in range(num_training_set, num_total_data):\n",
    "    r[i] = sess.run(output, feed_dict = {xdata : reshape([x1[i], x2[i], x3[i], x4[i], x5[i]], (5,1)), ydata : reshape(data1.z[i], (1))})\n",
    "figsize(6,6)\n",
    "#xlim(-1,2)\n",
    "#ylim(-1, 2)\n",
    "plot(data1.z[num_training_set:num_total_data], r[num_training_set:num_total_data], '.', data1.z, data1.z)\n",
    "show()"
   ]
  },
  {
   "cell_type": "code",
<<<<<<< Updated upstream
   "execution_count": 114,
=======
   "execution_count": 16,
>>>>>>> Stashed changes
   "metadata": {},
   "outputs": [
    {
     "data": {
<<<<<<< Updated upstream
      "image/png": "iVBORw0KGgoAAAANSUhEUgAAAXwAAAFpCAYAAACf/JPiAAAABHNCSVQICAgIfAhkiAAAAAlwSFlz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\n",
      "text/plain": [
       "<matplotlib.figure.Figure at 0x1826746e80>"
=======
      "image/png": "iVBORw0KGgoAAAANSUhEUgAAAXwAAAFpCAYAAACf/JPiAAAABHNCSVQICAgIfAhkiAAAAAlwSFlz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\nTbVKJ9HHzQAAAABJRU5ErkJggg==\n",
      "text/plain": [
       "<matplotlib.figure.Figure at 0x181ed105f8>"
>>>>>>> Stashed changes
      ]
     },
     "metadata": {},
     "output_type": "display_data"
    }
   ],
   "source": [
    "figsize(6,6)\n",
    "xlim(0,0.6)\n",
    "ylim(0, 0.6)\n",
    "x = linspace(0, 2, 1000)\n",
    "plot(data1.z[num_training_set:num_total_data:10], r[num_training_set:num_total_data:10],'.', x,x, x, x+0.05, 'b--', x, x-0.05,'b--' )\n",
    "show()\n"
   ]
  },
  {
   "cell_type": "code",
<<<<<<< Updated upstream
   "execution_count": 115,
=======
   "execution_count": 17,
>>>>>>> Stashed changes
   "metadata": {},
   "outputs": [
    {
     "data": {
<<<<<<< Updated upstream
      "image/png": "iVBORw0KGgoAAAANSUhEUgAAAX8AAAFpCAYAAAB0yyjhAAAABHNCSVQICAgIfAhkiAAAAAlwSFlz\nAAALEgAACxIB0t1+/AAAADl0RVh0U29mdHdhcmUAbWF0cGxvdGxpYiB2ZXJzaW9uIDIuMS4wLCBo\ndHRwOi8vbWF0cGxvdGxpYi5vcmcvpW3flQAAGWVJREFUeJzt3XuQVOWZx/HfI4xMVLxEBgtFHbTQ\nYsLohAzEjYVitIBoCkKIGzAXJlExUSyzm7JCdlMltWrFrESqjK4RI4UxGESiSJRdZdEtXa8MglwX\nQTPqCCUEV0Ipujg8+0cfoB17pk93n76+30/VVHeffs/pZ16Y3znnPZc2dxcAICyHlbsAAEDpEf4A\nECDCHwACRPgDQIAIfwAIEOEPAAEi/AEgQIQ/AASI8AeAABH+ABCgvuUuQJIGDBjgjY2N5S4DAKrK\nqlWr/uruDfnMWxHh39jYqPb29nKXAQBVxczezHdehn0AIECEPwAEiPAHgABVxJg/gNqxb98+dXZ2\n6qOPPip3KTWjvr5egwcPVl1dXWLLJPwBJKqzs1P9+/dXY2OjzKzc5VQ9d9euXbvU2dmpIUOGJLZc\nhn0AJOqjjz7S8ccfT/AnxMx0/PHHJ74nRfgDSBzBn6xi9GfW8Dezk83saTPbZGYbzOy6aPosM3vH\nzNZEPxenzfNzM9tqZpvNbFziVQNATLNmzdLs2bN7fH/JkiXauHFjCSuqDHHG/D+R9FN3f8XM+kta\nZWbLo/fmuPunetXMmiRNkfQFSSdK+k8zO8Pdu5IsHEB1aJz5eKLL67jlkkSXt2TJEn39619XU1NT\nosutdFm3/N19u7u/Ej3fI2mTpJN6mWWipIXu/rG7/0XSVkmjkigWAOK4+eabdeaZZ+qiiy7S5s2b\nJUn33HOPRo4cqbPPPluTJ0/Whx9+qOeff15Lly7V9ddfr5aWFr3++usZ29WinMb8zaxR0hclvRRN\nmmFma81snpkdF007SdLbabN1qveVBQAkZtWqVVq4cKFWr16thx9+WCtXrpQkffOb39TKlSv16quv\natiwYbr33nv1la98RRMmTNCtt96qNWvW6PTTT8/YrhbFDn8zO0rSnyT9xN3/JukuSadLapG0XdKv\nDzTNMLtnWN50M2s3s/adO3fmXDgAZPLss89q0qRJOuKII3T00UdrwoQJkqT169dr9OjRam5u1oIF\nC7Rhw4aM88dtV+1ihb+Z1SkV/Avc/WFJcvd33b3L3fdLukeHhnY6JZ2cNvtgSdu6L9Pd57p7q7u3\nNjTkdVM6AMgo09kxbW1tuuOOO7Ru3TrdcMMNPZ46GbddtYtzto9JulfSJne/LW36oLRmkyStj54v\nlTTFzPqZ2RBJQyW9nFzJANCz8847T4888oj27t2rPXv26M9//rMkac+ePRo0aJD27dunBQsWHGzf\nv39/7dmz5+DrntrVmjhn+5wr6XuS1pnZmmjaP0maamYtSg3pdEi6SpLcfYOZLZK0Uakzha7hTB8A\npTJixAh9+9vfVktLi0499VSNHj1aknTjjTfqy1/+sk499VQ1NzcfDPwpU6boyiuv1O23367Fixf3\n2K7WmPtnhuNLrrW11bmfP1AbNm3apGHDhpW7jJqTqV/NbJW7t+azPK7wBYAAEf4AECDCHwACRPgD\nQIAIfwAIEOEPAAEi/AEEa/78+dq27dANCK644opEbu/c0dGhBx54IOf52tratHjx4oI/Pw6+xhFA\ncc06JuHl7U5sUfPnz9fw4cN14oknSpJ+97vfJbLcA+F/2WWXJbK8YmDLH0DN+cMf/qBRo0appaVF\nV111lbq6utTW1qbhw4erublZc+bM0eLFi9Xe3q7vfOc7amlp0d69ezVmzBgduOD0qKOO0s9+9jN9\n6Utf0kUXXaSXX35ZY8aM0WmnnaalS5dKSoX86NGjNWLECI0YMULPP/+8JGnmzJl69tln1dLSojlz\n5qirq0vXX3+9Ro4cqbPOOkt33323pNT3886YMUNNTU265JJLtGPHjpL1EVv+AGrKpk2b9OCDD+q5\n555TXV2drr76at1000165513tH596hZk77//vo499ljdcccdmj17tlpbP3uR7AcffKAxY8boV7/6\nlSZNmqRf/OIXWr58uTZu3Khp06ZpwoQJGjhwoJYvX676+npt2bJFU6dOVXt7u2655RbNnj1bjz32\nmCRp7ty5OuaYY7Ry5Up9/PHHOvfcczV27FitXr1amzdv1rp16/Tuu++qqalJP/zhD0vST4Q/gJqy\nYsUKrVq1SiNHjpQk7d27V+PHj9cbb7yha6+9VpdcconGjh2bdTmHH364xo8fL0lqbm5Wv379VFdX\np+bmZnV0dEiS9u3bpxkzZmjNmjXq06ePXnvttYzLevLJJ7V27dqD4/m7d+/Wli1b9Mwzz2jq1Knq\n06ePTjzxRH31q19NoAfiIfwB1BR317Rp0/TLX/7yU9NvvvlmPfHEE7rzzju1aNEizZs3r9fl1NXV\nHbw19GGHHaZ+/fodfP7JJ59IkubMmaMTTjhBr776qvbv36/6+voea/rNb36jceM+/ZXmy5YtK9uX\n3TPmD6CmXHjhhVq8ePHB8fP33ntPb775pvbv36/Jkyfrxhtv1CuvvCLps7dzztXu3bs1aNAgHXbY\nYbr//vvV1dWVcbnjxo3TXXfdpX379kmSXnvtNX3wwQc677zztHDhQnV1dWn79u16+umn864lV2z5\nA6gpTU1NuummmzR27Fjt379fdXV1uu222zRp0iTt379fkg7uFbS1telHP/qRPve5z+mFF17I+bOu\nvvpqTZ48WQ899JAuuOACHXnkkZKks846S3379tXZZ5+ttrY2XXfddero6NCIESPk7mpoaNCSJUs0\nadIkPfXUU2pubtYZZ5yh888/P7mOyIJbOgNIFLd0Lg5u6QwAKBjhDwABIvwBIECEP4DEVcKxxFpS\njP4k/AEkqr6+Xrt27WIFkBB3165du3q8hiBfnOoJIFGDBw9WZ2endu7cWe5SakZ9fb0GDx6c6DIJ\nfwCJqqur05AhQ8pdBrJg2AcAAkT4A0CACH8ACBDhDwABIvwBIECEPwAEiPAHgAAR/gAQIMIfAAJE\n+ANAgAh/AAgQ4Q8AASL8ASBAhD8ABIjwB4AAEf4AECDCHwACRPgDQIAIfwAIUHDh3zjzcTXOfLzc\nZQBAWQUX/gAAwh8AgkT4A0CACH8ACBDhDwABIvwBIECEPwAEiPAHgAAR/gAQIMIfAAJE+ANAgLKG\nv5mdbGZPm9kmM9tgZtdF0z9vZsvNbEv0eFw03czsdjPbamZrzWxEsX8JAEBu4mz5fyLpp+4+TNI5\nkq4xsyZJMyWtcPehklZEryXpa5KGRj/TJd2VeNUAgIJkDX933+7ur0TP90jaJOkkSRMl3Rc1u0/S\nN6LnEyX93lNelHSsmQ1KvHIAQN5yGvM3s0ZJX5T0kqQT3H27lFpBSBoYNTtJ0ttps3VG0wAAFSJ2\n+JvZUZL+JOkn7v633ppmmOYZljfdzNrNrH3nzp1xywAAJCBW+JtZnVLBv8DdH44mv3tgOCd63BFN\n75R0ctrsgyVt675Md5/r7q3u3trQ0JBv/QCAPMQ528ck3Stpk7vflvbWUknToufTJD2aNv370Vk/\n50jafWB4CABQGfrGaHOupO9JWmdma6Jp/yTpFkmLzOxySW9JujR6b5mkiyVtlfShpB8kWjEAoGBZ\nw9/d/1uZx/El6cIM7V3SNQXWBQAooqCu8OWL2wEgJajwBwCkEP4AECDCHwACRPgDQIAIfwAIEOEP\nAAEi/AEgQIQ/AASI8AeAABH+ABAgwh8AAkT4A0CACH8ACBDhDwABIvwBIECEPwAEiPAHgAAR/gAQ\nIMIfAAJE+ANAgAh/AAgQ4Q8AASL8ASBAhD8ABIjwB4AAEf4AECDCHwACRPgDQIAIfwAIEOEPAAEi\n/AEgQIQ/AASI8AeAABH+ABAgwh8AAkT4A0CACH8ACBDhDwABIvwBIECEPwAEiPAHgAAR/gAQIMIf\nAAJE+ANAgAh/AAgQ4Q8AASL8ASBAhD8ABIjwB4AAEf4AECDCHwACRPgDQIAIfwAIUNbwN7N5ZrbD\nzNanTZtlZu+Y2Zro5+K0935uZlvNbLOZjStW4QCA/MXZ8p8vaXyG6XPcvSX6WSZJZtYkaYqkL0Tz\n/JuZ9UmqWABAMrKGv7s/I+m9mMubKGmhu3/s7n+RtFXSqALqAwAUQSFj/jPMbG00LHRcNO0kSW+n\ntemMpgEAKki+4X+XpNMltUjaLunX0XTL0NYzLcDMpptZu5m179y5M88yAAD5yCv83f1dd+9y9/2S\n7tGhoZ1OSSenNR0saVsPy5jr7q3u3trQ0JBPGQCAPOUV/mY2KO3lJEkHzgRaKmmKmfUzsyGShkp6\nubASAQBJ65utgZn9UdIYSQPMrFPSDZLGmFmLUkM6HZKukiR332BmiyRtlPSJpGvcvas4pQMA8pU1\n/N19aobJ9/bS/mZJNxdSFACguLjCFwACRPgDQIAIfwAIEOEPAAEi/AEgQIQ/AASI8AeAABH+ABAg\nwh8AAkT4A0CACH8ACBDhDwABIvwBIECEPwAEiPAHgAAR/gAQIMIfAAJE+ANAgAh/AAgQ4Q8AASL8\nASBAhD8ABIjwB4AAEf4AECDCHwACRPgDQIAIfwAIEOEPAAEi/AEgQIQ/AASI8AeAABH+ABAgwh8A\nAkT4A0CAqib8G2c+Xu4SAKBmVE34lxorGwC1jPAHgAAR/gAQIMIfAAJE+ANAgAh/AAgQ4Q8AASL8\nASBAhD8ABIjwB4AAEf4AECDCHwACRPgDQIAIfwAIEOEPAAEi/LtJv5Uzt3UGUKsIfwAIEOEPAAEi\n/AEgQFnD38zmmdkOM1ufNu3zZrbczLZEj8dF083MbjezrWa21sxGFLN4AEB+4mz5z5c0vtu0mZJW\nuPtQSSui15L0NUlDo5/pku5Kpsz4OEgLANllDX93f0bSe90mT5R0X/T8PknfSJv+e095UdKxZjYo\nqWIBAMnId8z/BHffLknR48Bo+kmS3k5r1xlNAwBUkKQP+FqGaZ6xodl0M2s3s/adO3cmXAYAoDf5\nhv+7B4Zzoscd0fROSSentRssaVumBbj7XHdvdffWhoaGPMsAAOQj3/BfKmla9HyapEfTpn8/Ouvn\nHEm7DwwPVRoODAMIWd9sDczsj5LGSBpgZp2SbpB0i6RFZna5pLckXRo1XybpYklbJX0o6QdFqBkA\nUKCs4e/uU3t468IMbV3SNYUWBQAoLq7wBYAAEf4AEKAgwp+DuwDwaUGEPwDg0wh/AAhQzYR/96Ed\nhnoAoGc1E/4AgPgIfwAIEOEPAAEi/AEgQIQ/AASI8M+AM4UA1Lqgw5+QBxCqoMMfAEJF+ANAgAh/\nAAgQ4Q8AASL8Y+DAMIBaQ/gDQIAIfwAIEOEfYWgHQEgI/yxYKQCoRYQ/AASI8AeAABH+ABAgwh8A\nAkT4A0CACH8ACBDhDwABIvwBIECEPwAEiPAHgAAFFf4d9ZeVuwQAqAhVFf7cZwcAklFV4Q8ASAbh\nDwABIvwBIEA1Gf4cGwCA3tVk+AMAekf4A0CAggz/ns73zzZcxHASgFoRZPgDQOgIfwAIUE2Ff77D\nMqWeDwDKrabCHwAQTzjhP+uYclcAABUjnPBPCEM9AGoB4Q8AASL8Yw4HscUPoJYQ/gAQIMI/Tdxv\n+mIvAEC1I/wBIECEPwAEqKDwN7MOM1tnZmvMrD2a9nkzW25mW6LH45IpNX+5fnE7X/QOoNYlseV/\ngbu3uHtr9HqmpBXuPlTSiug1AKCCFGPYZ6Kk+6Ln90n6RhE+o2JxMBhANSg0/F3Sk2a2ysymR9NO\ncPftkhQ9DizwMwpCGAPAZ/UtcP5z3X2bmQ2UtNzM/ifujNHKYroknXLKKQWWER/j+QBQ4Ja/u2+L\nHndIekTSKEnvmtkgSYoed/Qw71x3b3X31oaGhkLK6Bk3cwOAjPIOfzM70sz6H3guaayk9ZKWSpoW\nNZsm6dFCiwQAJKuQYZ8TJD1iZgeW84C7/4eZrZS0yMwul/SWpEsLLxMAkKS8w9/d35B0dobpuyRd\nWEhRpXJg/L+j/jI1fvRAmasBgNIJ9grfpA78cjYRgGoUbPgXitAHUM0IfwAIEOEPAAGq+fDnpm4A\n8Fk1Ef7FHH9nZQCgFtVE+AMAckP4A0CACP8e5Drcw6mfAKoJ4R8pZGy/t+BnpQCgEhH+CSLoAVSL\nmgv/9Pv1AAAyq7nwBwBkR/gXQePMxxkCAlDRCP8yYeUAoJwIfwAIUE2Gf6Uc7GXrHkClqsnwBwD0\njvAHgAAR/gAQoKoI/+5j59U6ll6tdQOoPVUR/pWk0IPJrAAAVALCHwACRPj3IqlTRmtl2ApA7ai6\n8K+14Ky13wdAdai68K9WmUL+wDRWAABKjfAHgAAR/gAQIMIfAAJE+ANAgKo6/Et1oLSj/rLPnPZZ\nKXcOBYB8VHX4d0cgA0A8NRX+AIB4qj/8Zx0jqbRb/emfxd4GgGpU0eFfaRc/EfQAakXFhn8uwV+u\nUI6zB8AKA0AlqtjwBwAUD+FfYdL3eHrb+0lqSIw7jgJhIvxxEMEPhIPwB4AAVW/4R6d4VotsB36z\nbXUX+n6x5fL55a4VQDWHPwAgb1UZ/pV2+mS2enKtt5AtY7aqAcRRkeEfN8AqbSVQLKU46ycuhneA\n2lCR4V+tDqyMMt0FNFO73lRzcMY9XRVA+VRc+PcWFrW0pR/3dyn3efhJf165fx8AKRUX/gCA4qv8\n8K+yUzoLVbS9myz9mGmopqfHuMvpbXqmdgwXAaVTUeHf0x98LQ33pMt2bKAYGmc+XnCwpq8M0peX\n83K7rZByvRYi7uexIgE+q6LCv9bk/NWPCe/lJBH03R1YYeWyou7eNtPdUHusM0OffKpt9D57DUBu\nqib808+kqWRJn/Ofi8aZj+e1/GIcZE9fZi57OJmCPf15T3sZHfWXxV55snIAqij8AQDJqcjwr/St\n+6Rl+n1764NsB2K7D/dkO7ia8TNjbEUn9e/UfS/hM3IYDsvpIPWsYyrqAjqglCoq/MtxALRSxLko\nrLeQzPQ6l2MMcVZAcVdSPX1uLvVn0mObnlYOGb7fOd8b5LEiQK0pWvib2Xgz22xmW81sZtYZAjul\nszeZjm/EWTnke0C5GFccH1j5dP8d4qwsCjkGkekz4yyX4wUITVHC38z6SLpT0tckNUmaamZNuSwj\n5L2AdJnCM5d+6SkMe1th5LNVnqRifV767xxnuCffq7ArQTFrijuMiMpWrC3/UZK2uvsb7v5/khZK\nmlikzwIA5KhY4X+SpLfTXndG0zLbtrpIZdS2fPeOkp4nnz2SQj8vbpuDuo3/53NgOdcrnHO5diG9\nfdaL2XIcIi3lFwX19vtnO56Sz1XfhVx13lubOCcMxLmOJp/rT0q1F2XunvxCzS6VNM7dr4hef0/S\nKHe/Nq3NdEnTo5fDJa1PvJDqNEDSX8tdRIWgLw6hLw6hLw4509375zNj36QriXRKOjnt9WBJ29Ib\nuPtcSXMlycza3b21SLVUFfriEPriEPriEPriEDNrz3feYg37rJQ01MyGmNnhkqZIWlqkzwIA5Kgo\nW/7u/omZzZD0hKQ+kua5+4ZifBYAIHfFGvaRuy+TtCxm87nFqqMK0ReH0BeH0BeH0BeH5N0XRTng\nCwCobBV1ewcAQGmUNPyz3fLBzPqZ2YPR+y+ZWWMp6yulGH3xj2a20czWmtkKMzu1HHWWQtxbgZjZ\nt8zMzaxmz/SI0xdm9vfR/40NZvZAqWsslRh/I6eY2dNmtjr6O7m4HHUWm5nNM7MdZpbxdHhLuT3q\np7VmNiLWgt29JD9KHfh9XdJpkg6X9Kqkpm5trpb02+j5FEkPlqq+Uv7E7IsLJB0RPf9xyH0Rtesv\n6RlJL0pqLXfdZfx/MVTSaknHRa8HlrvuMvbFXEk/jp43Seood91F6ovzJI2QtL6H9y+W9O+STNI5\nkl6Ks9xSbvnHueXDREn3Rc8XS7rQzKyENZZK1r5w96fd/cPo5YtKXStRi+LeCuRGSf8q6aNSFldi\ncfriSkl3uvv/SpK77yhxjaUSpy9c0tHR82PU7VqiWuHuz0h6r5cmEyX93lNelHSsmQ3KttxShn+c\nWz4cbOPun0jaLen4klRXWrnd/kK6XKk1ey3K2hdm9kVJJ7v7Y6UsrAzi/L84Q9IZZvacmb1oZuNL\nVl1pxemLWZK+a2adSp1ZeK3ClGueSCriqZ4ZZNqC736qUZw2tSD272lm35XUKun8olZUPr32hZkd\nJmmOpLZSFVRGcf5f9FVq6GeMUnuDz5rZcHd/v8i1lVqcvpgqab67/9rM/k7S/VFf7C9+eRUlr9ws\n5ZZ/1ls+pLcxs75K7cr1trtTreL0hczsIkn/LGmCu39cotpKLVtf9Ffq3k//ZWYdSo1pLq3Rg75x\n/0Yedfd97v4XSZuVWhnUmjh9cbmkRZLk7i9Iqlfqvj+hiZUn3ZUy/OPc8mGppGnR829JesqjIxo1\nJmtfREMddysV/LU6ritl6Qt33+3uA9y90d0blTr+McHd876nSQWL8zeyRKmTAWRmA5QaBnqjpFWW\nRpy+eEvShZJkZsOUCv+dJa2yMiyV9P3orJ9zJO129+3ZZirZsI/3cMsHM/sXSe3uvlTSvUrtum1V\naot/SqnqK6WYfXGrpKMkPRQd837L3SeUregiidkXQYjZF09IGmtmGyV1Sbre3XeVr+riiNkXP5V0\nj5n9g1LDHG21uLFoZn9UaphvQHR84wZJdZLk7r9V6njHxZK2SvpQ0g9iLbcG+woAkAVX+AJAgAh/\nAAgQ4Q8AASL8ASBAhD8ABIjwB4AAEf4AECDCHwAC9P8E04fgFAgfDgAAAABJRU5ErkJggg==\n",
      "text/plain": [
       "<matplotlib.figure.Figure at 0x18267a2a58>"
=======
      "image/png": "iVBORw0KGgoAAAANSUhEUgAAAX8AAAFpCAYAAAB0yyjhAAAABHNCSVQICAgIfAhkiAAAAAlwSFlz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\n",
      "text/plain": [
       "<matplotlib.figure.Figure at 0x181ed10cc0>"
>>>>>>> Stashed changes
      ]
     },
     "metadata": {},
     "output_type": "display_data"
    }
   ],
   "source": [
    "xlim(0,1)\n",
    "\n",
    "\n",
    "a = hist(data1.z[num_training_set:num_total_data], 750, label ='data')\n",
    "b = hist(r[num_training_set:num_total_data], 15000, label = 'estimated')\n",
    "\n",
    "legend(loc='upper right')\n",
    "show()"
   ]
  },
  {
   "cell_type": "code",
   "execution_count": 133,
   "metadata": {},
   "outputs": [
    {
     "data": {
      "text/plain": [
       "1.0890502787359055"
      ]
     },
     "execution_count": 133,
     "metadata": {},
     "output_type": "execute_result"
    }
   ],
   "source": [
    "(data1.z[45000]-r[45000])/data1.z[45000]*100"
   ]
  },
  {
   "cell_type": "code",
   "execution_count": 101,
   "metadata": {},
   "outputs": [
    {
     "name": "stdout",
     "output_type": "stream",
     "text": [
      "0.0022120567\n"
     ]
    }
   ],
   "source": [
    "print(sess.run(rmse, feed_dict = {xdata : reshape([x1[i], x2[i], x3[i], x4[i], x5[i]], (5,1)), ydata : reshape(data1.z[i], (1))}))"
   ]
  },
  {
   "cell_type": "code",
   "execution_count": 102,
   "metadata": {
    "scrolled": true
   },
   "outputs": [
    {
     "name": "stdout",
     "output_type": "stream",
     "text": [
      "393074061044901888 0.1839446 -0.9794612526893616 19.50977 26.984240000000003 28.0878 21.9928\n",
      "388453088400271360 0.12144010000000001 -2.1963233947753906 25.13331 19.17024 25.21419 24.58418\n",
      "396394862548641792 0.3333751 -1.3077194690704346 28.210440000000002 28.60963 29.26865 17.26175\n",
      "396398434367596544 0.579963 -1.3077194690704346 28.210440000000002 28.60963 29.26865 17.26175\n",
      "350182386752841728 0.12374289999999999 -7.46321439743042 28.7491 17.05015 16.74788 15.39492\n",
      "381846947696240640 0.08701199 -5.779307842254639 29.3403 17.646279999999997 16.66575 18.822110000000002\n",
      "351320106812336128 0.1152974 -1.1409193277359009 19.18795 28.395909999999997 25.156589999999998 25.18671\n",
      "370537926955657216 0.39956679999999994 2.579726457595825 17.18251 18.03531 16.74354 17.772679999999998\n",
      "388519883731658752 0.05857534 -1.1262742280960083 23.49626 25.29659 24.86955 16.91856\n"
     ]
    }
   ],
   "source": [
    "c = 0\n",
    "for i in range(num_training_set, num_total_data):\n",
    "    r[i] = sess.run(output, feed_dict = {xdata : reshape([x1[i], x2[i], x3[i], x4[i], x5[i]], (5,1)), ydata : reshape(data1.z[i], (1))})\n",
    "    if abs(r[i]-data1.z[i]) > 1:\n",
    "        print(data1.SpecObjID[i], data1.z[i], r[i], data1.modelMag_u[i],data1.modelMag_g[i], data1.modelMag_r[i], data1.modelMag_i[i]  )\n",
    "        c=c+1"
   ]
  },
  {
   "cell_type": "code",
   "execution_count": 76,
   "metadata": {},
   "outputs": [
    {
     "data": {
      "image/png": "iVBORw0KGgoAAAANSUhEUgAAAYoAAAFpCAYAAACCrm88AAAABHNCSVQICAgIfAhkiAAAAAlwSFlz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\nPzqC5sEPbwjlAAAAAElFTkSuQmCC\n",
      "text/plain": [
       "<matplotlib.figure.Figure at 0x18270269e8>"
      ]
     },
     "metadata": {},
     "output_type": "display_data"
    }
   ],
   "source": [
    "xlim(0, 25)\n",
    "a = hist(data1.modelMag_g, bins =  20000)"
   ]
  },
  {
   "cell_type": "code",
   "execution_count": 15,
   "metadata": {},
   "outputs": [
    {
     "name": "stdout",
     "output_type": "stream",
     "text": [
      "7\n"
     ]
    }
   ],
   "source": [
    "print(c)"
   ]
  },
  {
   "cell_type": "code",
   "execution_count": 16,
   "metadata": {},
   "outputs": [
    {
     "data": {
      "text/plain": [
       "7.511545178271485"
      ]
     },
     "execution_count": 16,
     "metadata": {},
     "output_type": "execute_result"
    }
   ],
   "source": [
    "max(abs(data1.z-r))"
   ]
  },
  {
   "cell_type": "code",
   "execution_count": null,
   "metadata": {
    "collapsed": true
   },
   "outputs": [],
   "source": [
    "b =[[[0.59539145]] ,\n",
    "[[0.00113958]] ,\n",
    "[[5.182028e-06]] ,\n",
    "[[0.00055654]] ,\n",
    "[[0.00052539]] ,\n",
    "[[0.00052115]] ,\n",
    "[[4.5875313e-05]] ,\n",
    "[[0.0004656]] ,\n",
    "[[3.6597254e-07]] ,\n",
    "[[0.00037451]] ,\n",
    "[[0.00019549]] ,\n",
    "[[0.00024385]] ,\n",
    "[[0.00043429]] ,\n",
    "[[1.4908314e-05]] ,\n",
    "[[0.00038074]] ,\n",
    "[[0.00010128]] ,\n",
    "[[0.00021127]] ,\n",
    "[[4.4584277e-07]] ,\n",
    "[[0.00053595]] ,\n",
    "[[0.00024191]] ,\n",
    "[[0.00021455]] ,\n",
    "[[0.00040808]] ,\n",
    "[[4.209757e-05]] ,\n",
    "[[0.00027517]] ,\n",
    "[[8.875132e-05]] ,\n",
    "[[1.6740561e-05]] ,\n",
    "[[1.41704095e-05]] ,\n",
    "[[2.0234585e-05]] ,\n",
    "[[3.397465e-07]] ,\n",
    "[[3.5656692e-05]] ,\n",
    "[[0.00021072]] ,\n",
    "[[0.00025931]] ,\n",
    "[[1.5665293e-05]] ,\n",
    "[[0.00018006]] ,\n",
    "[[0.00020324]] ,\n",
    "[[0.00019323]] ,\n",
    "[[0.00011263]] ,\n",
    "[[0.00128215]] ,\n",
    "[[2.8504135e-05]] ,\n",
    "[[6.6995625e-07]] ]\n",
    "a = reshape((b), (40,1))\n",
    "plot(a[1:], marker = 'o')"
   ]
  },
  {
   "cell_type": "code",
   "execution_count": null,
   "metadata": {
    "collapsed": true
   },
   "outputs": [],
   "source": [
    "a = pd.read_csv('MyTable_1_hbendeguz.csv')\n",
    "a"
   ]
  },
  {
   "cell_type": "markdown",
   "metadata": {},
   "source": [
    "# Régi, nem túl jól működő"
   ]
  },
  {
   "cell_type": "code",
   "execution_count": 177,
   "metadata": {
    "collapsed": true
   },
   "outputs": [],
   "source": [
    "w = tf.Variable(tf.truncated_normal(shape = [4, 4]), dtype = tf.float32)\n",
    "b = tf.Variable(tf.zeros(shape = [4,1]), dtype = tf.float32)\n",
    "w2 = tf.Variable(tf.truncated_normal(shape = [4, 1]), dtype = tf.float32)\n",
    "b2 = tf.Variable(tf.zeros(shape = [1]), dtype = tf.float32)"
   ]
  },
  {
   "cell_type": "code",
   "execution_count": 183,
   "metadata": {},
   "outputs": [
    {
     "ename": "ValueError",
     "evalue": "Dimensions must be equal, but are 4 and 5 for 'MatMul_35' (op: 'MatMul') with input shapes: [4,4], [5,1].",
     "output_type": "error",
     "traceback": [
      "\u001b[0;31m---------------------------------------------------------------------------\u001b[0m",
      "\u001b[0;31mInvalidArgumentError\u001b[0m                      Traceback (most recent call last)",
      "\u001b[0;32m/anaconda3/lib/python3.6/site-packages/tensorflow/python/framework/common_shapes.py\u001b[0m in \u001b[0;36m_call_cpp_shape_fn_impl\u001b[0;34m(op, input_tensors_needed, input_tensors_as_shapes_needed, require_shape_fn)\u001b[0m\n\u001b[1;32m    685\u001b[0m \u001b[0;34m\u001b[0m\u001b[0m\n\u001b[0;32m--> 686\u001b[0;31m   \u001b[0;31m# Convert TensorShapeProto values in output_shapes.\u001b[0m\u001b[0;34m\u001b[0m\u001b[0;34m\u001b[0m\u001b[0m\n\u001b[0m\u001b[1;32m    687\u001b[0m   result_protos = [\n",
      "\u001b[0;32m/anaconda3/lib/python3.6/site-packages/tensorflow/python/framework/errors_impl.py\u001b[0m in \u001b[0;36m__exit__\u001b[0;34m(self, type_arg, value_arg, traceback_arg)\u001b[0m\n",
      "\u001b[0;31mInvalidArgumentError\u001b[0m: Dimensions must be equal, but are 4 and 5 for 'MatMul_35' (op: 'MatMul') with input shapes: [4,4], [5,1].",
      "\nDuring handling of the above exception, another exception occurred:\n",
      "\u001b[0;31mValueError\u001b[0m                                Traceback (most recent call last)",
      "\u001b[0;32m<ipython-input-183-7ed50f495b91>\u001b[0m in \u001b[0;36m<module>\u001b[0;34m()\u001b[0m\n\u001b[0;32m----> 1\u001b[0;31m \u001b[0mfirst_layer\u001b[0m \u001b[0;34m=\u001b[0m \u001b[0mtf\u001b[0m\u001b[0;34m.\u001b[0m\u001b[0mnn\u001b[0m\u001b[0;34m.\u001b[0m\u001b[0msigmoid\u001b[0m\u001b[0;34m(\u001b[0m\u001b[0mtf\u001b[0m\u001b[0;34m.\u001b[0m\u001b[0madd\u001b[0m\u001b[0;34m(\u001b[0m\u001b[0mtf\u001b[0m\u001b[0;34m.\u001b[0m\u001b[0mmatmul\u001b[0m\u001b[0;34m(\u001b[0m\u001b[0mw\u001b[0m\u001b[0;34m,\u001b[0m\u001b[0mxdata\u001b[0m\u001b[0;34m)\u001b[0m\u001b[0;34m,\u001b[0m\u001b[0mb\u001b[0m\u001b[0;34m)\u001b[0m\u001b[0;34m)\u001b[0m\u001b[0;34m+\u001b[0m\u001b[0;36m1\u001b[0m\u001b[0;34m\u001b[0m\u001b[0m\n\u001b[0m\u001b[1;32m      2\u001b[0m \u001b[0msecond_layer\u001b[0m \u001b[0;34m=\u001b[0m \u001b[0mtf\u001b[0m\u001b[0;34m.\u001b[0m\u001b[0madd\u001b[0m\u001b[0;34m(\u001b[0m\u001b[0mtf\u001b[0m\u001b[0;34m.\u001b[0m\u001b[0mtensordot\u001b[0m\u001b[0;34m(\u001b[0m\u001b[0mtf\u001b[0m\u001b[0;34m.\u001b[0m\u001b[0mtranspose\u001b[0m\u001b[0;34m(\u001b[0m\u001b[0mw2\u001b[0m\u001b[0;34m)\u001b[0m\u001b[0;34m,\u001b[0m \u001b[0mfirst_layer\u001b[0m\u001b[0;34m,\u001b[0m \u001b[0;36m1\u001b[0m\u001b[0;34m)\u001b[0m\u001b[0;34m,\u001b[0m\u001b[0mb2\u001b[0m\u001b[0;34m)\u001b[0m\u001b[0;34m\u001b[0m\u001b[0m\n",
      "\u001b[0;32m/anaconda3/lib/python3.6/site-packages/tensorflow/python/ops/math_ops.py\u001b[0m in \u001b[0;36mmatmul\u001b[0;34m(a, b, transpose_a, transpose_b, adjoint_a, adjoint_b, a_is_sparse, b_is_sparse, name)\u001b[0m\n\u001b[1;32m   2020\u001b[0m     \u001b[0;32mif\u001b[0m \u001b[0misinstance\u001b[0m\u001b[0;34m(\u001b[0m\u001b[0mx\u001b[0m\u001b[0;34m,\u001b[0m \u001b[0msparse_tensor\u001b[0m\u001b[0;34m.\u001b[0m\u001b[0mSparseTensor\u001b[0m\u001b[0;34m)\u001b[0m\u001b[0;34m:\u001b[0m\u001b[0;34m\u001b[0m\u001b[0m\n\u001b[1;32m   2021\u001b[0m       \u001b[0mx_tanh\u001b[0m \u001b[0;34m=\u001b[0m \u001b[0mgen_math_ops\u001b[0m\u001b[0;34m.\u001b[0m\u001b[0m_tanh\u001b[0m\u001b[0;34m(\u001b[0m\u001b[0mx\u001b[0m\u001b[0;34m.\u001b[0m\u001b[0mvalues\u001b[0m\u001b[0;34m,\u001b[0m \u001b[0mname\u001b[0m\u001b[0;34m=\u001b[0m\u001b[0mname\u001b[0m\u001b[0;34m)\u001b[0m\u001b[0;34m\u001b[0m\u001b[0m\n\u001b[0;32m-> 2022\u001b[0;31m       return sparse_tensor.SparseTensor(\n\u001b[0m\u001b[1;32m   2023\u001b[0m           indices=x.indices, values=x_tanh, dense_shape=x.dense_shape)\n\u001b[1;32m   2024\u001b[0m     \u001b[0;32melse\u001b[0m\u001b[0;34m:\u001b[0m\u001b[0;34m\u001b[0m\u001b[0m\n",
      "\u001b[0;32m/anaconda3/lib/python3.6/site-packages/tensorflow/python/ops/gen_math_ops.py\u001b[0m in \u001b[0;36m_mat_mul\u001b[0;34m(a, b, transpose_a, transpose_b, name)\u001b[0m\n\u001b[1;32m   2514\u001b[0m       \u001b[0mA\u001b[0m \u001b[0;36m1\u001b[0m\u001b[0;34m-\u001b[0m\u001b[0mD\u001b[0m \u001b[0mtensor\u001b[0m\u001b[0;34m.\u001b[0m \u001b[0mHas\u001b[0m \u001b[0msame\u001b[0m \u001b[0mrank\u001b[0m \u001b[0;32mas\u001b[0m\u001b[0;31m \u001b[0m\u001b[0;31m`\u001b[0m\u001b[0msegment_ids\u001b[0m\u001b[0;31m`\u001b[0m\u001b[0;34m.\u001b[0m\u001b[0;34m\u001b[0m\u001b[0m\n\u001b[1;32m   2515\u001b[0m     \u001b[0msegment_ids\u001b[0m\u001b[0;34m:\u001b[0m \u001b[0mA\u001b[0m\u001b[0;31m \u001b[0m\u001b[0;31m`\u001b[0m\u001b[0mTensor\u001b[0m\u001b[0;31m`\u001b[0m \u001b[0mof\u001b[0m \u001b[0mtype\u001b[0m\u001b[0;31m \u001b[0m\u001b[0;31m`\u001b[0m\u001b[0mint32\u001b[0m\u001b[0;31m`\u001b[0m\u001b[0;34m.\u001b[0m\u001b[0;34m\u001b[0m\u001b[0m\n\u001b[0;32m-> 2516\u001b[0;31m       \u001b[0mA\u001b[0m \u001b[0;36m1\u001b[0m\u001b[0;34m-\u001b[0m\u001b[0mD\u001b[0m \u001b[0mtensor\u001b[0m\u001b[0;34m.\u001b[0m \u001b[0mValues\u001b[0m \u001b[0mshould\u001b[0m \u001b[0mbe\u001b[0m \u001b[0msorted\u001b[0m \u001b[0;32mand\u001b[0m \u001b[0mcan\u001b[0m \u001b[0mbe\u001b[0m \u001b[0mrepeated\u001b[0m\u001b[0;34m.\u001b[0m\u001b[0;34m\u001b[0m\u001b[0m\n\u001b[0m\u001b[1;32m   2517\u001b[0m     \u001b[0mname\u001b[0m\u001b[0;34m:\u001b[0m \u001b[0mA\u001b[0m \u001b[0mname\u001b[0m \u001b[0;32mfor\u001b[0m \u001b[0mthe\u001b[0m \u001b[0moperation\u001b[0m \u001b[0;34m(\u001b[0m\u001b[0moptional\u001b[0m\u001b[0;34m)\u001b[0m\u001b[0;34m.\u001b[0m\u001b[0;34m\u001b[0m\u001b[0m\n\u001b[1;32m   2518\u001b[0m \u001b[0;34m\u001b[0m\u001b[0m\n",
      "\u001b[0;32m/anaconda3/lib/python3.6/site-packages/tensorflow/python/framework/op_def_library.py\u001b[0m in \u001b[0;36m_apply_op_helper\u001b[0;34m(self, op_type_name, name, **keywords)\u001b[0m\n",
      "\u001b[0;32m/anaconda3/lib/python3.6/site-packages/tensorflow/python/framework/ops.py\u001b[0m in \u001b[0;36mcreate_op\u001b[0;34m(self, op_type, inputs, dtypes, input_types, name, attrs, op_def, compute_shapes, compute_device)\u001b[0m\n\u001b[1;32m   3160\u001b[0m         \u001b[0mself\u001b[0m\u001b[0;34m.\u001b[0m\u001b[0m_old_stack\u001b[0m \u001b[0;34m=\u001b[0m \u001b[0mself\u001b[0m\u001b[0;34m.\u001b[0m\u001b[0m_graph\u001b[0m\u001b[0;34m.\u001b[0m\u001b[0m_control_dependencies_stack\u001b[0m\u001b[0;34m\u001b[0m\u001b[0m\n\u001b[1;32m   3161\u001b[0m         \u001b[0mself\u001b[0m\u001b[0;34m.\u001b[0m\u001b[0m_graph\u001b[0m\u001b[0;34m.\u001b[0m\u001b[0m_control_dependencies_stack\u001b[0m \u001b[0;34m=\u001b[0m \u001b[0;34m[\u001b[0m\u001b[0;34m]\u001b[0m\u001b[0;34m\u001b[0m\u001b[0m\n\u001b[0;32m-> 3162\u001b[0;31m         \u001b[0;31m# Clear the control_flow_context too.\u001b[0m\u001b[0;34m\u001b[0m\u001b[0;34m\u001b[0m\u001b[0m\n\u001b[0m\u001b[1;32m   3163\u001b[0m         \u001b[0mself\u001b[0m\u001b[0;34m.\u001b[0m\u001b[0m_old_control_flow_context\u001b[0m \u001b[0;34m=\u001b[0m \u001b[0mself\u001b[0m\u001b[0;34m.\u001b[0m\u001b[0m_graph\u001b[0m\u001b[0;34m.\u001b[0m\u001b[0m_get_control_flow_context\u001b[0m\u001b[0;34m(\u001b[0m\u001b[0;34m)\u001b[0m\u001b[0;34m\u001b[0m\u001b[0m\n\u001b[1;32m   3164\u001b[0m         \u001b[0mself\u001b[0m\u001b[0;34m.\u001b[0m\u001b[0m_graph\u001b[0m\u001b[0;34m.\u001b[0m\u001b[0m_set_control_flow_context\u001b[0m\u001b[0;34m(\u001b[0m\u001b[0;32mNone\u001b[0m\u001b[0;34m)\u001b[0m\u001b[0;34m\u001b[0m\u001b[0m\n",
      "\u001b[0;32m/anaconda3/lib/python3.6/site-packages/tensorflow/python/framework/ops.py\u001b[0m in \u001b[0;36m_create_op_helper\u001b[0;34m(self, op, compute_shapes, compute_device)\u001b[0m\n\u001b[1;32m   3206\u001b[0m     \u001b[0mcontrol_dependencies\u001b[0m\u001b[0;34m(\u001b[0m\u001b[0;34m...\u001b[0m\u001b[0;34m)\u001b[0m\u001b[0;34m:\u001b[0m\u001b[0;31m`\u001b[0m \u001b[0mblock\u001b[0m \u001b[0mmay\u001b[0m \u001b[0mhave\u001b[0m \u001b[0mdata\u001b[0m \u001b[0mdependencies\u001b[0m \u001b[0mthat\u001b[0m \u001b[0mmake\u001b[0m\u001b[0;34m\u001b[0m\u001b[0m\n\u001b[1;32m   3207\u001b[0m     \u001b[0mthe\u001b[0m \u001b[0mexplicit\u001b[0m \u001b[0mapproach\u001b[0m \u001b[0mredundant\u001b[0m\u001b[0;34m.\u001b[0m\u001b[0;34m\u001b[0m\u001b[0m\n\u001b[0;32m-> 3208\u001b[0;31m \u001b[0;34m\u001b[0m\u001b[0m\n\u001b[0m\u001b[1;32m   3209\u001b[0m     \u001b[0mArgs\u001b[0m\u001b[0;34m:\u001b[0m\u001b[0;34m\u001b[0m\u001b[0m\n\u001b[1;32m   3210\u001b[0m       \u001b[0minput_tensors\u001b[0m\u001b[0;34m:\u001b[0m \u001b[0mThe\u001b[0m \u001b[0mdirect\u001b[0m \u001b[0mdata\u001b[0m \u001b[0mdependencies\u001b[0m \u001b[0;32mfor\u001b[0m \u001b[0man\u001b[0m \u001b[0mop\u001b[0m \u001b[0mto\u001b[0m \u001b[0mbe\u001b[0m \u001b[0mcreated\u001b[0m\u001b[0;34m.\u001b[0m\u001b[0;34m\u001b[0m\u001b[0m\n",
      "\u001b[0;32m/anaconda3/lib/python3.6/site-packages/tensorflow/python/framework/ops.py\u001b[0m in \u001b[0;36mset_shapes_for_outputs\u001b[0;34m(op)\u001b[0m\n\u001b[1;32m   2425\u001b[0m     \u001b[0;32mif\u001b[0m \u001b[0mallow_tensor\u001b[0m \u001b[0;32mand\u001b[0m \u001b[0mallow_operation\u001b[0m\u001b[0;34m:\u001b[0m\u001b[0;34m\u001b[0m\u001b[0m\n\u001b[1;32m   2426\u001b[0m       \u001b[0mtypes_str\u001b[0m \u001b[0;34m=\u001b[0m \u001b[0;34m\"Tensor or Operation\"\u001b[0m\u001b[0;34m\u001b[0m\u001b[0m\n\u001b[0;32m-> 2427\u001b[0;31m     \u001b[0;32melif\u001b[0m \u001b[0mallow_tensor\u001b[0m\u001b[0;34m:\u001b[0m\u001b[0;34m\u001b[0m\u001b[0m\n\u001b[0m\u001b[1;32m   2428\u001b[0m       \u001b[0mtypes_str\u001b[0m \u001b[0;34m=\u001b[0m \u001b[0;34m\"Tensor\"\u001b[0m\u001b[0;34m\u001b[0m\u001b[0m\n\u001b[1;32m   2429\u001b[0m     \u001b[0;32melif\u001b[0m \u001b[0mallow_operation\u001b[0m\u001b[0;34m:\u001b[0m\u001b[0;34m\u001b[0m\u001b[0m\n",
      "\u001b[0;32m/anaconda3/lib/python3.6/site-packages/tensorflow/python/framework/ops.py\u001b[0m in \u001b[0;36m_set_shapes_for_outputs\u001b[0;34m(op)\u001b[0m\n\u001b[1;32m   2398\u001b[0m       \u001b[0mallow_operation\u001b[0m\u001b[0;34m:\u001b[0m \u001b[0mIf\u001b[0m \u001b[0mtrue\u001b[0m\u001b[0;34m,\u001b[0m\u001b[0;31m \u001b[0m\u001b[0;31m`\u001b[0m\u001b[0mobj\u001b[0m\u001b[0;31m`\u001b[0m \u001b[0mmay\u001b[0m \u001b[0mrefer\u001b[0m \u001b[0mto\u001b[0m \u001b[0man\u001b[0m\u001b[0;31m \u001b[0m\u001b[0;31m`\u001b[0m\u001b[0mOperation\u001b[0m\u001b[0;31m`\u001b[0m\u001b[0;34m.\u001b[0m\u001b[0;34m\u001b[0m\u001b[0m\n\u001b[1;32m   2399\u001b[0m \u001b[0;34m\u001b[0m\u001b[0m\n\u001b[0;32m-> 2400\u001b[0;31m     \u001b[0mReturns\u001b[0m\u001b[0;34m:\u001b[0m\u001b[0;34m\u001b[0m\u001b[0m\n\u001b[0m\u001b[1;32m   2401\u001b[0m       \u001b[0mThe\u001b[0m\u001b[0;31m \u001b[0m\u001b[0;31m`\u001b[0m\u001b[0mTensor\u001b[0m\u001b[0;31m`\u001b[0m \u001b[0;32mor\u001b[0m\u001b[0;31m \u001b[0m\u001b[0;31m`\u001b[0m\u001b[0mOperation\u001b[0m\u001b[0;31m`\u001b[0m \u001b[0;32min\u001b[0m \u001b[0mthe\u001b[0m \u001b[0mGraph\u001b[0m \u001b[0mcorresponding\u001b[0m \u001b[0mto\u001b[0m\u001b[0;31m \u001b[0m\u001b[0;31m`\u001b[0m\u001b[0mobj\u001b[0m\u001b[0;31m`\u001b[0m\u001b[0;34m.\u001b[0m\u001b[0;34m\u001b[0m\u001b[0m\n\u001b[1;32m   2402\u001b[0m \u001b[0;34m\u001b[0m\u001b[0m\n",
      "\u001b[0;32m/anaconda3/lib/python3.6/site-packages/tensorflow/python/framework/ops.py\u001b[0m in \u001b[0;36mcall_with_requiring\u001b[0;34m(op)\u001b[0m\n\u001b[1;32m   2328\u001b[0m       node_def.attr[\"_gradient_op_type\"].CopyFrom(\n\u001b[1;32m   2329\u001b[0m           attr_value_pb2.AttrValue(s=compat.as_bytes(mapped_op_type)))\n\u001b[0;32m-> 2330\u001b[0;31m     \u001b[0;32mexcept\u001b[0m \u001b[0mKeyError\u001b[0m\u001b[0;34m:\u001b[0m\u001b[0;34m\u001b[0m\u001b[0m\n\u001b[0m\u001b[1;32m   2331\u001b[0m       \u001b[0;32mpass\u001b[0m\u001b[0;34m\u001b[0m\u001b[0m\n\u001b[1;32m   2332\u001b[0m \u001b[0;34m\u001b[0m\u001b[0m\n",
      "\u001b[0;32m/anaconda3/lib/python3.6/site-packages/tensorflow/python/framework/common_shapes.py\u001b[0m in \u001b[0;36mcall_cpp_shape_fn\u001b[0;34m(op, require_shape_fn)\u001b[0m\n\u001b[1;32m    625\u001b[0m     \u001b[0;32mfor\u001b[0m \u001b[0midx\u001b[0m \u001b[0;32min\u001b[0m \u001b[0mp\u001b[0m\u001b[0;34m.\u001b[0m\u001b[0minput_tensors_as_shapes_needed\u001b[0m\u001b[0;34m:\u001b[0m\u001b[0;34m\u001b[0m\u001b[0m\n\u001b[1;32m    626\u001b[0m       \u001b[0;32mif\u001b[0m \u001b[0midx\u001b[0m \u001b[0;32mnot\u001b[0m \u001b[0;32min\u001b[0m \u001b[0minput_tensors_as_shapes_needed\u001b[0m\u001b[0;34m:\u001b[0m\u001b[0;34m\u001b[0m\u001b[0m\n\u001b[0;32m--> 627\u001b[0;31m         \u001b[0minput_tensors_as_shapes_needed\u001b[0m\u001b[0;34m.\u001b[0m\u001b[0mappend\u001b[0m\u001b[0;34m(\u001b[0m\u001b[0midx\u001b[0m\u001b[0;34m)\u001b[0m\u001b[0;34m\u001b[0m\u001b[0m\n\u001b[0m\u001b[1;32m    628\u001b[0m         \u001b[0mchanged\u001b[0m \u001b[0;34m=\u001b[0m \u001b[0;32mTrue\u001b[0m\u001b[0;34m\u001b[0m\u001b[0m\n\u001b[1;32m    629\u001b[0m     \u001b[0;32mif\u001b[0m \u001b[0;32mnot\u001b[0m \u001b[0mchanged\u001b[0m\u001b[0;34m:\u001b[0m\u001b[0;34m\u001b[0m\u001b[0m\n",
      "\u001b[0;32m/anaconda3/lib/python3.6/site-packages/tensorflow/python/framework/common_shapes.py\u001b[0m in \u001b[0;36m_call_cpp_shape_fn_impl\u001b[0;34m(op, input_tensors_needed, input_tensors_as_shapes_needed, require_shape_fn)\u001b[0m\n\u001b[1;32m    689\u001b[0m       \u001b[0;32mfor\u001b[0m \u001b[0ms\u001b[0m \u001b[0;32min\u001b[0m \u001b[0moutput_shapes\u001b[0m\u001b[0;34m\u001b[0m\u001b[0m\n\u001b[1;32m    690\u001b[0m   ]\n\u001b[0;32m--> 691\u001b[0;31m   \u001b[0mresult\u001b[0m \u001b[0;34m=\u001b[0m \u001b[0;34m[\u001b[0m\u001b[0mr\u001b[0m\u001b[0;34m.\u001b[0m\u001b[0mshape\u001b[0m \u001b[0;32mfor\u001b[0m \u001b[0mr\u001b[0m \u001b[0;32min\u001b[0m \u001b[0mresult_protos\u001b[0m\u001b[0;34m]\u001b[0m\u001b[0;34m\u001b[0m\u001b[0m\n\u001b[0m\u001b[1;32m    692\u001b[0m   \u001b[0mresult_handle_shapes\u001b[0m \u001b[0;34m=\u001b[0m \u001b[0;34m[\u001b[0m\u001b[0mr\u001b[0m\u001b[0;34m.\u001b[0m\u001b[0mhandle_shape\u001b[0m \u001b[0;32mfor\u001b[0m \u001b[0mr\u001b[0m \u001b[0;32min\u001b[0m \u001b[0mresult_protos\u001b[0m\u001b[0;34m]\u001b[0m\u001b[0;34m\u001b[0m\u001b[0m\n\u001b[1;32m    693\u001b[0m   \u001b[0mresult_handle_dtypes\u001b[0m \u001b[0;34m=\u001b[0m \u001b[0;34m[\u001b[0m\u001b[0mr\u001b[0m\u001b[0;34m.\u001b[0m\u001b[0mhandle_dtype\u001b[0m \u001b[0;32mfor\u001b[0m \u001b[0mr\u001b[0m \u001b[0;32min\u001b[0m \u001b[0mresult_protos\u001b[0m\u001b[0;34m]\u001b[0m\u001b[0;34m\u001b[0m\u001b[0m\n",
      "\u001b[0;31mValueError\u001b[0m: Dimensions must be equal, but are 4 and 5 for 'MatMul_35' (op: 'MatMul') with input shapes: [4,4], [5,1]."
     ]
    }
   ],
   "source": [
    "first_layer = tf.nn.sigmoid(tf.add(tf.matmul(w,xdata),b))+1\n",
    "second_layer = tf.add(tf.tensordot(tf.transpose(w2), first_layer, 1),b2)"
   ]
  },
  {
   "cell_type": "code",
   "execution_count": null,
   "metadata": {
    "collapsed": true
   },
   "outputs": [],
   "source": [
    "first_layer"
   ]
  },
  {
   "cell_type": "code",
   "execution_count": null,
   "metadata": {
    "collapsed": true
   },
   "outputs": [],
   "source": [
    "second_layer"
   ]
  },
  {
   "cell_type": "code",
   "execution_count": null,
   "metadata": {
    "collapsed": true
   },
   "outputs": [],
   "source": [
    "loss = tf.sqrt(np.abs(tf.square(second_layer)-tf.square((ydata))))\n",
    "my_optimizer = tf.train.AdamOptimizer(learning_rate = 0.00009)\n",
    "train_step = my_optimizer.minimize(loss)"
   ]
  },
  {
   "cell_type": "code",
   "execution_count": null,
   "metadata": {
    "collapsed": true
   },
   "outputs": [],
   "source": [
    "init_op = tf.global_variables_initializer()\n",
    "\n",
    "sess = tf.Session()\n",
    "sess.run(init_op)\n",
    "epoch = 80000\n",
    "w_v = []\n",
    "for i in range(epoch):\n",
    "    rand_index = np.random.choice(2000)\n",
    "    x1rand = [x1[rand_index]]\n",
    "    x2rand = [x2[rand_index]]\n",
    "    x3rand = [x3[rand_index]]\n",
    "    x4rand = [x4[rand_index]]\n",
    "    \n",
    "    yrand = [data.z[rand_index]]\n",
    "    sess.run(train_step, feed_dict = {xdata: [x1rand,x2rand, x3rand, x4rand ], ydata : yrand})\n",
    "    "
   ]
  },
  {
   "cell_type": "code",
   "execution_count": null,
   "metadata": {
    "collapsed": true
   },
   "outputs": [],
   "source": [
    "#print(sess.run(w), sess.run(b))\n",
    "result = sess.run(second_layer, feed_dict = {xdata : reshape([x1[3], x2[3], x3[3], x4[3]], (4,1)), ydata : reshape(data.z[3], (1))})"
   ]
  },
  {
   "cell_type": "code",
   "execution_count": null,
   "metadata": {
    "collapsed": true
   },
   "outputs": [],
   "source": [
    "data.z[3]"
   ]
  },
  {
   "cell_type": "code",
   "execution_count": null,
   "metadata": {
    "collapsed": true
   },
   "outputs": [],
   "source": [
    "print(str(result))"
   ]
  },
  {
   "cell_type": "code",
   "execution_count": null,
   "metadata": {
    "collapsed": true
   },
   "outputs": [],
   "source": [
    "r = zeros(2000)\n",
    "for i in range(2000):\n",
    "    r[i] = sess.run(second_layer, feed_dict = {xdata : reshape([x1[i], x2[i], x3[i], x4[i]], (4,1)), ydata : reshape(data.z[i], (1))})\n"
   ]
  },
  {
   "cell_type": "code",
   "execution_count": null,
   "metadata": {
    "collapsed": true
   },
   "outputs": [],
   "source": [
    "figsize(6,6)\n",
    "xlim(0,0.35)\n",
    "ylim(0, 0.35)\n",
    "plot(data.z[:2000], r, '.')"
   ]
  },
  {
   "cell_type": "code",
   "execution_count": null,
   "metadata": {
    "collapsed": true
   },
   "outputs": [],
   "source": [
    "a = hist(data.z, 1000)"
   ]
  },
  {
   "cell_type": "code",
   "execution_count": null,
   "metadata": {
    "collapsed": true
   },
   "outputs": [],
   "source": []
  }
 ],
 "metadata": {
  "kernelspec": {
   "display_name": "Python 3",
   "language": "python",
   "name": "python3"
  },
  "language_info": {
   "codemirror_mode": {
    "name": "ipython",
    "version": 3
   },
   "file_extension": ".py",
   "mimetype": "text/x-python",
   "name": "python",
   "nbconvert_exporter": "python",
   "pygments_lexer": "ipython3",
   "version": "3.6.3"
  }
 },
 "nbformat": 4,
 "nbformat_minor": 2
}
