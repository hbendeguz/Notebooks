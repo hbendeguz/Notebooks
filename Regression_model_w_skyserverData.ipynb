{
 "cells": [
  {
   "cell_type": "code",
   "execution_count": 1,
   "metadata": {},
   "outputs": [
    {
     "name": "stdout",
     "output_type": "stream",
     "text": [
      "Populating the interactive namespace from numpy and matplotlib\n"
     ]
    },
    {
     "name": "stderr",
     "output_type": "stream",
     "text": [
      "/anaconda3/lib/python3.6/site-packages/h5py/__init__.py:34: FutureWarning: Conversion of the second argument of issubdtype from `float` to `np.floating` is deprecated. In future, it will be treated as `np.float64 == np.dtype(float).type`.\n",
      "  from ._conv import register_converters as _register_converters\n"
     ]
    }
   ],
   "source": [
    "%pylab inline\n",
    "import pandas as pd\n",
    "import tensorflow as tf"
   ]
  },
  {
   "cell_type": "code",
   "execution_count": 2,
   "metadata": {
    "collapsed": true
   },
   "outputs": [],
   "source": [
    "data = pd.read_csv('cjDatag.csv')"
   ]
  },
  {
   "cell_type": "code",
   "execution_count": 3,
   "metadata": {},
   "outputs": [
    {
     "data": {
      "text/html": [
       "<div>\n",
       "<style>\n",
       "    .dataframe thead tr:only-child th {\n",
       "        text-align: right;\n",
       "    }\n",
       "\n",
       "    .dataframe thead th {\n",
       "        text-align: left;\n",
       "    }\n",
       "\n",
       "    .dataframe tbody tr th {\n",
       "        vertical-align: top;\n",
       "    }\n",
       "</style>\n",
       "<table border=\"1\" class=\"dataframe\">\n",
       "  <thead>\n",
       "    <tr style=\"text-align: right;\">\n",
       "      <th></th>\n",
       "      <th>SpecObjID</th>\n",
       "      <th>z</th>\n",
       "      <th>zErr</th>\n",
       "      <th>modelMag_u</th>\n",
       "      <th>modelMag_g</th>\n",
       "      <th>modelMag_r</th>\n",
       "      <th>modelMag_i</th>\n",
       "      <th>modelMag_z</th>\n",
       "    </tr>\n",
       "  </thead>\n",
       "  <tbody>\n",
       "    <tr>\n",
       "      <th>0</th>\n",
       "      <td>299489676975171584</td>\n",
       "      <td>0.021275</td>\n",
       "      <td>0.000009</td>\n",
       "      <td>17.15042</td>\n",
       "      <td>15.49709</td>\n",
       "      <td>14.67401</td>\n",
       "      <td>14.23429</td>\n",
       "      <td>13.90754</td>\n",
       "    </tr>\n",
       "    <tr>\n",
       "      <th>1</th>\n",
       "      <td>299489677444933632</td>\n",
       "      <td>0.021222</td>\n",
       "      <td>0.000009</td>\n",
       "      <td>17.15042</td>\n",
       "      <td>15.49709</td>\n",
       "      <td>14.67401</td>\n",
       "      <td>14.23429</td>\n",
       "      <td>13.90754</td>\n",
       "    </tr>\n",
       "    <tr>\n",
       "      <th>2</th>\n",
       "      <td>299489951853078528</td>\n",
       "      <td>0.213925</td>\n",
       "      <td>0.000052</td>\n",
       "      <td>20.43201</td>\n",
       "      <td>18.64892</td>\n",
       "      <td>17.46552</td>\n",
       "      <td>16.99866</td>\n",
       "      <td>16.67051</td>\n",
       "    </tr>\n",
       "    <tr>\n",
       "      <th>3</th>\n",
       "      <td>299489952322840576</td>\n",
       "      <td>0.203783</td>\n",
       "      <td>0.000039</td>\n",
       "      <td>21.33477</td>\n",
       "      <td>19.1311</td>\n",
       "      <td>17.71072</td>\n",
       "      <td>17.14913</td>\n",
       "      <td>16.75609</td>\n",
       "    </tr>\n",
       "    <tr>\n",
       "      <th>4</th>\n",
       "      <td>299490501608892416</td>\n",
       "      <td>0.126554</td>\n",
       "      <td>0.000062</td>\n",
       "      <td>20.77302</td>\n",
       "      <td>18.64713</td>\n",
       "      <td>17.30827</td>\n",
       "      <td>16.71435</td>\n",
       "      <td>16.21529</td>\n",
       "    </tr>\n",
       "    <tr>\n",
       "      <th>5</th>\n",
       "      <td>299490502078654464</td>\n",
       "      <td>0.064656</td>\n",
       "      <td>0.000021</td>\n",
       "      <td>19.50913</td>\n",
       "      <td>17.59275</td>\n",
       "      <td>16.67357</td>\n",
       "      <td>16.20524</td>\n",
       "      <td>15.83744</td>\n",
       "    </tr>\n",
       "    <tr>\n",
       "      <th>6</th>\n",
       "      <td>299490776486799360</td>\n",
       "      <td>0.448645</td>\n",
       "      <td>0.000168</td>\n",
       "      <td>25.34187</td>\n",
       "      <td>21.41487</td>\n",
       "      <td>19.63125</td>\n",
       "      <td>18.82388</td>\n",
       "      <td>18.31009</td>\n",
       "    </tr>\n",
       "    <tr>\n",
       "      <th>7</th>\n",
       "      <td>299491051364706304</td>\n",
       "      <td>0.055988</td>\n",
       "      <td>0.000011</td>\n",
       "      <td>null</td>\n",
       "      <td>null</td>\n",
       "      <td>null</td>\n",
       "      <td>null</td>\n",
       "      <td>null</td>\n",
       "    </tr>\n",
       "    <tr>\n",
       "      <th>8</th>\n",
       "      <td>299491051834468352</td>\n",
       "      <td>0.052654</td>\n",
       "      <td>0.000009</td>\n",
       "      <td>19.48928</td>\n",
       "      <td>18.32375</td>\n",
       "      <td>17.8396</td>\n",
       "      <td>17.52613</td>\n",
       "      <td>17.42273</td>\n",
       "    </tr>\n",
       "    <tr>\n",
       "      <th>9</th>\n",
       "      <td>299491326712375296</td>\n",
       "      <td>0.213861</td>\n",
       "      <td>0.000040</td>\n",
       "      <td>20.43201</td>\n",
       "      <td>18.64892</td>\n",
       "      <td>17.46552</td>\n",
       "      <td>16.99866</td>\n",
       "      <td>16.67051</td>\n",
       "    </tr>\n",
       "    <tr>\n",
       "      <th>10</th>\n",
       "      <td>299491601120520192</td>\n",
       "      <td>0.090633</td>\n",
       "      <td>0.000027</td>\n",
       "      <td>19.06631</td>\n",
       "      <td>17.28672</td>\n",
       "      <td>16.36084</td>\n",
       "      <td>15.93414</td>\n",
       "      <td>15.64183</td>\n",
       "    </tr>\n",
       "    <tr>\n",
       "      <th>11</th>\n",
       "      <td>299491876468189184</td>\n",
       "      <td>0.448220</td>\n",
       "      <td>0.000107</td>\n",
       "      <td>25.34187</td>\n",
       "      <td>21.41487</td>\n",
       "      <td>19.63125</td>\n",
       "      <td>18.82388</td>\n",
       "      <td>18.31009</td>\n",
       "    </tr>\n",
       "    <tr>\n",
       "      <th>12</th>\n",
       "      <td>299492150876334080</td>\n",
       "      <td>0.089337</td>\n",
       "      <td>0.000036</td>\n",
       "      <td>20.72383</td>\n",
       "      <td>18.48659</td>\n",
       "      <td>17.46213</td>\n",
       "      <td>19.39146</td>\n",
       "      <td>16.40343</td>\n",
       "    </tr>\n",
       "    <tr>\n",
       "      <th>13</th>\n",
       "      <td>299492151346096128</td>\n",
       "      <td>0.371128</td>\n",
       "      <td>0.000069</td>\n",
       "      <td>22.20296</td>\n",
       "      <td>20.35373</td>\n",
       "      <td>18.53101</td>\n",
       "      <td>17.95463</td>\n",
       "      <td>17.54962</td>\n",
       "    </tr>\n",
       "    <tr>\n",
       "      <th>14</th>\n",
       "      <td>299492425754241024</td>\n",
       "      <td>0.203769</td>\n",
       "      <td>0.000051</td>\n",
       "      <td>21.33477</td>\n",
       "      <td>19.1311</td>\n",
       "      <td>17.71072</td>\n",
       "      <td>17.14913</td>\n",
       "      <td>16.75609</td>\n",
       "    </tr>\n",
       "    <tr>\n",
       "      <th>15</th>\n",
       "      <td>299492426224003072</td>\n",
       "      <td>0.121270</td>\n",
       "      <td>0.000028</td>\n",
       "      <td>19.96076</td>\n",
       "      <td>17.99332</td>\n",
       "      <td>16.84476</td>\n",
       "      <td>16.36045</td>\n",
       "      <td>15.93532</td>\n",
       "    </tr>\n",
       "    <tr>\n",
       "      <th>16</th>\n",
       "      <td>299492700632147968</td>\n",
       "      <td>0.065024</td>\n",
       "      <td>0.000011</td>\n",
       "      <td>19.06883</td>\n",
       "      <td>17.61594</td>\n",
       "      <td>16.96992</td>\n",
       "      <td>16.57557</td>\n",
       "      <td>16.34017</td>\n",
       "    </tr>\n",
       "    <tr>\n",
       "      <th>17</th>\n",
       "      <td>299492701101910016</td>\n",
       "      <td>0.055981</td>\n",
       "      <td>0.000010</td>\n",
       "      <td>null</td>\n",
       "      <td>null</td>\n",
       "      <td>null</td>\n",
       "      <td>null</td>\n",
       "      <td>null</td>\n",
       "    </tr>\n",
       "    <tr>\n",
       "      <th>18</th>\n",
       "      <td>299492975510054912</td>\n",
       "      <td>0.121316</td>\n",
       "      <td>0.000032</td>\n",
       "      <td>19.96076</td>\n",
       "      <td>17.99332</td>\n",
       "      <td>16.84476</td>\n",
       "      <td>16.36045</td>\n",
       "      <td>15.93532</td>\n",
       "    </tr>\n",
       "    <tr>\n",
       "      <th>19</th>\n",
       "      <td>299492975979816960</td>\n",
       "      <td>0.097086</td>\n",
       "      <td>0.000029</td>\n",
       "      <td>20.31863</td>\n",
       "      <td>18.5103</td>\n",
       "      <td>17.61213</td>\n",
       "      <td>17.2037</td>\n",
       "      <td>16.89944</td>\n",
       "    </tr>\n",
       "    <tr>\n",
       "      <th>20</th>\n",
       "      <td>299493250857723904</td>\n",
       "      <td>0.064779</td>\n",
       "      <td>0.000008</td>\n",
       "      <td>null</td>\n",
       "      <td>null</td>\n",
       "      <td>null</td>\n",
       "      <td>null</td>\n",
       "      <td>null</td>\n",
       "    </tr>\n",
       "    <tr>\n",
       "      <th>21</th>\n",
       "      <td>299493525265868800</td>\n",
       "      <td>0.064777</td>\n",
       "      <td>0.000008</td>\n",
       "      <td>null</td>\n",
       "      <td>null</td>\n",
       "      <td>null</td>\n",
       "      <td>null</td>\n",
       "      <td>null</td>\n",
       "    </tr>\n",
       "    <tr>\n",
       "      <th>22</th>\n",
       "      <td>299493800143775744</td>\n",
       "      <td>0.052659</td>\n",
       "      <td>0.000009</td>\n",
       "      <td>19.48928</td>\n",
       "      <td>18.32375</td>\n",
       "      <td>17.8396</td>\n",
       "      <td>17.52613</td>\n",
       "      <td>17.42273</td>\n",
       "    </tr>\n",
       "    <tr>\n",
       "      <th>23</th>\n",
       "      <td>299493800613537792</td>\n",
       "      <td>0.126590</td>\n",
       "      <td>0.000049</td>\n",
       "      <td>20.77302</td>\n",
       "      <td>18.64713</td>\n",
       "      <td>17.30827</td>\n",
       "      <td>16.71435</td>\n",
       "      <td>16.21529</td>\n",
       "    </tr>\n",
       "    <tr>\n",
       "      <th>24</th>\n",
       "      <td>299494075021682688</td>\n",
       "      <td>0.064589</td>\n",
       "      <td>0.000016</td>\n",
       "      <td>19.50913</td>\n",
       "      <td>17.59275</td>\n",
       "      <td>16.67357</td>\n",
       "      <td>16.20524</td>\n",
       "      <td>15.83744</td>\n",
       "    </tr>\n",
       "    <tr>\n",
       "      <th>25</th>\n",
       "      <td>299494075491444736</td>\n",
       "      <td>0.064959</td>\n",
       "      <td>0.000009</td>\n",
       "      <td>19.06883</td>\n",
       "      <td>17.61594</td>\n",
       "      <td>16.96992</td>\n",
       "      <td>16.57557</td>\n",
       "      <td>16.34017</td>\n",
       "    </tr>\n",
       "    <tr>\n",
       "      <th>26</th>\n",
       "      <td>299494349899589632</td>\n",
       "      <td>0.371249</td>\n",
       "      <td>0.000088</td>\n",
       "      <td>22.20296</td>\n",
       "      <td>20.35373</td>\n",
       "      <td>18.53101</td>\n",
       "      <td>17.95463</td>\n",
       "      <td>17.54962</td>\n",
       "    </tr>\n",
       "    <tr>\n",
       "      <th>27</th>\n",
       "      <td>299494350369351680</td>\n",
       "      <td>0.084292</td>\n",
       "      <td>0.000026</td>\n",
       "      <td>19.9029</td>\n",
       "      <td>18.33512</td>\n",
       "      <td>17.60977</td>\n",
       "      <td>17.20725</td>\n",
       "      <td>17.14689</td>\n",
       "    </tr>\n",
       "    <tr>\n",
       "      <th>28</th>\n",
       "      <td>299494624777496576</td>\n",
       "      <td>0.084396</td>\n",
       "      <td>0.000028</td>\n",
       "      <td>19.9029</td>\n",
       "      <td>18.33512</td>\n",
       "      <td>17.60977</td>\n",
       "      <td>17.20725</td>\n",
       "      <td>17.14689</td>\n",
       "    </tr>\n",
       "    <tr>\n",
       "      <th>29</th>\n",
       "      <td>299494625247258624</td>\n",
       "      <td>0.089312</td>\n",
       "      <td>0.000028</td>\n",
       "      <td>20.72383</td>\n",
       "      <td>18.48659</td>\n",
       "      <td>17.46213</td>\n",
       "      <td>19.39146</td>\n",
       "      <td>16.40343</td>\n",
       "    </tr>\n",
       "    <tr>\n",
       "      <th>...</th>\n",
       "      <td>...</td>\n",
       "      <td>...</td>\n",
       "      <td>...</td>\n",
       "      <td>...</td>\n",
       "      <td>...</td>\n",
       "      <td>...</td>\n",
       "      <td>...</td>\n",
       "      <td>...</td>\n",
       "    </tr>\n",
       "    <tr>\n",
       "      <th>1970</th>\n",
       "      <td>301873143826376704</td>\n",
       "      <td>0.081902</td>\n",
       "      <td>0.000011</td>\n",
       "      <td>19.82655</td>\n",
       "      <td>18.26493</td>\n",
       "      <td>17.41296</td>\n",
       "      <td>16.96146</td>\n",
       "      <td>16.65476</td>\n",
       "    </tr>\n",
       "    <tr>\n",
       "      <th>1971</th>\n",
       "      <td>301873418704283648</td>\n",
       "      <td>0.090345</td>\n",
       "      <td>0.000016</td>\n",
       "      <td>19.14646</td>\n",
       "      <td>17.20663</td>\n",
       "      <td>16.24115</td>\n",
       "      <td>15.81905</td>\n",
       "      <td>15.46948</td>\n",
       "    </tr>\n",
       "    <tr>\n",
       "      <th>1972</th>\n",
       "      <td>301873693582190592</td>\n",
       "      <td>0.169247</td>\n",
       "      <td>0.000029</td>\n",
       "      <td>20.53472</td>\n",
       "      <td>18.34488</td>\n",
       "      <td>17.13918</td>\n",
       "      <td>16.66674</td>\n",
       "      <td>16.3278</td>\n",
       "    </tr>\n",
       "    <tr>\n",
       "      <th>1973</th>\n",
       "      <td>301873968460097536</td>\n",
       "      <td>0.045772</td>\n",
       "      <td>0.000014</td>\n",
       "      <td>19.08747</td>\n",
       "      <td>17.59223</td>\n",
       "      <td>16.59731</td>\n",
       "      <td>16.15837</td>\n",
       "      <td>15.80311</td>\n",
       "    </tr>\n",
       "    <tr>\n",
       "      <th>1974</th>\n",
       "      <td>301874518215911424</td>\n",
       "      <td>0.077439</td>\n",
       "      <td>0.000018</td>\n",
       "      <td>19.38962</td>\n",
       "      <td>18.11589</td>\n",
       "      <td>17.59585</td>\n",
       "      <td>17.26856</td>\n",
       "      <td>17.03682</td>\n",
       "    </tr>\n",
       "    <tr>\n",
       "      <th>1975</th>\n",
       "      <td>301874793093818368</td>\n",
       "      <td>0.092592</td>\n",
       "      <td>0.000020</td>\n",
       "      <td>19.3824</td>\n",
       "      <td>17.81743</td>\n",
       "      <td>17.24421</td>\n",
       "      <td>16.97999</td>\n",
       "      <td>16.73932</td>\n",
       "    </tr>\n",
       "    <tr>\n",
       "      <th>1976</th>\n",
       "      <td>301875342849632256</td>\n",
       "      <td>0.200706</td>\n",
       "      <td>0.000037</td>\n",
       "      <td>21.50749</td>\n",
       "      <td>19.26019</td>\n",
       "      <td>17.96152</td>\n",
       "      <td>17.46728</td>\n",
       "      <td>17.08267</td>\n",
       "    </tr>\n",
       "    <tr>\n",
       "      <th>1977</th>\n",
       "      <td>301875617727539200</td>\n",
       "      <td>0.064825</td>\n",
       "      <td>0.000004</td>\n",
       "      <td>17.63496</td>\n",
       "      <td>16.28238</td>\n",
       "      <td>15.63926</td>\n",
       "      <td>15.17294</td>\n",
       "      <td>14.92673</td>\n",
       "    </tr>\n",
       "    <tr>\n",
       "      <th>1978</th>\n",
       "      <td>301875892605446144</td>\n",
       "      <td>0.080548</td>\n",
       "      <td>0.000018</td>\n",
       "      <td>18.94049</td>\n",
       "      <td>17.05787</td>\n",
       "      <td>16.12683</td>\n",
       "      <td>15.71725</td>\n",
       "      <td>15.36048</td>\n",
       "    </tr>\n",
       "    <tr>\n",
       "      <th>1979</th>\n",
       "      <td>301876167483353088</td>\n",
       "      <td>0.047310</td>\n",
       "      <td>0.000015</td>\n",
       "      <td>19.23683</td>\n",
       "      <td>17.53239</td>\n",
       "      <td>16.65579</td>\n",
       "      <td>16.19401</td>\n",
       "      <td>15.81507</td>\n",
       "    </tr>\n",
       "    <tr>\n",
       "      <th>1980</th>\n",
       "      <td>301876442361260032</td>\n",
       "      <td>0.092810</td>\n",
       "      <td>0.000016</td>\n",
       "      <td>19.13611</td>\n",
       "      <td>17.13307</td>\n",
       "      <td>16.15467</td>\n",
       "      <td>15.72316</td>\n",
       "      <td>15.36087</td>\n",
       "    </tr>\n",
       "    <tr>\n",
       "      <th>1981</th>\n",
       "      <td>301876717239166976</td>\n",
       "      <td>0.193295</td>\n",
       "      <td>0.000046</td>\n",
       "      <td>20.6156</td>\n",
       "      <td>18.96371</td>\n",
       "      <td>17.65038</td>\n",
       "      <td>17.14089</td>\n",
       "      <td>16.731</td>\n",
       "    </tr>\n",
       "    <tr>\n",
       "      <th>1982</th>\n",
       "      <td>301876992117073920</td>\n",
       "      <td>0.311795</td>\n",
       "      <td>0.000060</td>\n",
       "      <td>22.34599</td>\n",
       "      <td>19.73191</td>\n",
       "      <td>18.12682</td>\n",
       "      <td>17.5287</td>\n",
       "      <td>17.13712</td>\n",
       "    </tr>\n",
       "    <tr>\n",
       "      <th>1983</th>\n",
       "      <td>301877266994980864</td>\n",
       "      <td>0.056478</td>\n",
       "      <td>0.000011</td>\n",
       "      <td>18.24126</td>\n",
       "      <td>16.35715</td>\n",
       "      <td>15.50788</td>\n",
       "      <td>15.08795</td>\n",
       "      <td>14.76713</td>\n",
       "    </tr>\n",
       "    <tr>\n",
       "      <th>1984</th>\n",
       "      <td>301877541872887808</td>\n",
       "      <td>0.202720</td>\n",
       "      <td>0.000010</td>\n",
       "      <td>19.28498</td>\n",
       "      <td>18.26913</td>\n",
       "      <td>17.56581</td>\n",
       "      <td>17.1694</td>\n",
       "      <td>16.91188</td>\n",
       "    </tr>\n",
       "    <tr>\n",
       "      <th>1985</th>\n",
       "      <td>301877816750794752</td>\n",
       "      <td>0.092007</td>\n",
       "      <td>0.000017</td>\n",
       "      <td>19.80788</td>\n",
       "      <td>17.91154</td>\n",
       "      <td>17.00562</td>\n",
       "      <td>16.61553</td>\n",
       "      <td>16.31289</td>\n",
       "    </tr>\n",
       "    <tr>\n",
       "      <th>1986</th>\n",
       "      <td>301878091628701696</td>\n",
       "      <td>0.200093</td>\n",
       "      <td>0.000028</td>\n",
       "      <td>20.68685</td>\n",
       "      <td>18.75606</td>\n",
       "      <td>17.49601</td>\n",
       "      <td>16.95911</td>\n",
       "      <td>16.63282</td>\n",
       "    </tr>\n",
       "    <tr>\n",
       "      <th>1987</th>\n",
       "      <td>301878366506608640</td>\n",
       "      <td>0.140001</td>\n",
       "      <td>0.000009</td>\n",
       "      <td>19.24116</td>\n",
       "      <td>18.21097</td>\n",
       "      <td>17.6187</td>\n",
       "      <td>17.29213</td>\n",
       "      <td>17.10987</td>\n",
       "    </tr>\n",
       "    <tr>\n",
       "      <th>1988</th>\n",
       "      <td>301878641384515584</td>\n",
       "      <td>0.168816</td>\n",
       "      <td>0.000025</td>\n",
       "      <td>19.56976</td>\n",
       "      <td>18.05537</td>\n",
       "      <td>17.0743</td>\n",
       "      <td>16.64312</td>\n",
       "      <td>16.31248</td>\n",
       "    </tr>\n",
       "    <tr>\n",
       "      <th>1989</th>\n",
       "      <td>301878916262422528</td>\n",
       "      <td>0.087147</td>\n",
       "      <td>0.000036</td>\n",
       "      <td>20.23092</td>\n",
       "      <td>18.42286</td>\n",
       "      <td>17.5577</td>\n",
       "      <td>17.14909</td>\n",
       "      <td>16.8349</td>\n",
       "    </tr>\n",
       "    <tr>\n",
       "      <th>1990</th>\n",
       "      <td>301879191140329472</td>\n",
       "      <td>0.159765</td>\n",
       "      <td>0.000035</td>\n",
       "      <td>20.95228</td>\n",
       "      <td>18.8164</td>\n",
       "      <td>17.6451</td>\n",
       "      <td>17.15571</td>\n",
       "      <td>16.82502</td>\n",
       "    </tr>\n",
       "    <tr>\n",
       "      <th>1991</th>\n",
       "      <td>301880015774050304</td>\n",
       "      <td>0.044834</td>\n",
       "      <td>0.000014</td>\n",
       "      <td>17.52606</td>\n",
       "      <td>15.85473</td>\n",
       "      <td>15.10012</td>\n",
       "      <td>14.74038</td>\n",
       "      <td>14.44261</td>\n",
       "    </tr>\n",
       "    <tr>\n",
       "      <th>1992</th>\n",
       "      <td>301880290651957248</td>\n",
       "      <td>0.087654</td>\n",
       "      <td>0.000025</td>\n",
       "      <td>20.67507</td>\n",
       "      <td>18.73854</td>\n",
       "      <td>17.7736</td>\n",
       "      <td>17.35561</td>\n",
       "      <td>16.97374</td>\n",
       "    </tr>\n",
       "    <tr>\n",
       "      <th>1993</th>\n",
       "      <td>301880840407771136</td>\n",
       "      <td>0.124675</td>\n",
       "      <td>0.000008</td>\n",
       "      <td>20.1242</td>\n",
       "      <td>18.74868</td>\n",
       "      <td>17.95619</td>\n",
       "      <td>17.51089</td>\n",
       "      <td>17.18803</td>\n",
       "    </tr>\n",
       "    <tr>\n",
       "      <th>1994</th>\n",
       "      <td>301881115285678080</td>\n",
       "      <td>0.091498</td>\n",
       "      <td>0.000022</td>\n",
       "      <td>20.07271</td>\n",
       "      <td>18.07217</td>\n",
       "      <td>17.08549</td>\n",
       "      <td>16.6485</td>\n",
       "      <td>16.28031</td>\n",
       "    </tr>\n",
       "    <tr>\n",
       "      <th>1995</th>\n",
       "      <td>301881390163585024</td>\n",
       "      <td>0.092464</td>\n",
       "      <td>0.000020</td>\n",
       "      <td>19.55867</td>\n",
       "      <td>17.65646</td>\n",
       "      <td>16.74422</td>\n",
       "      <td>16.336</td>\n",
       "      <td>16.0367</td>\n",
       "    </tr>\n",
       "    <tr>\n",
       "      <th>1996</th>\n",
       "      <td>301881665041491968</td>\n",
       "      <td>0.065155</td>\n",
       "      <td>0.000017</td>\n",
       "      <td>19.87674</td>\n",
       "      <td>18.00967</td>\n",
       "      <td>17.13327</td>\n",
       "      <td>16.70855</td>\n",
       "      <td>16.42297</td>\n",
       "    </tr>\n",
       "    <tr>\n",
       "      <th>1997</th>\n",
       "      <td>301881939919398912</td>\n",
       "      <td>0.171811</td>\n",
       "      <td>0.000031</td>\n",
       "      <td>20.5569</td>\n",
       "      <td>18.50233</td>\n",
       "      <td>17.2457</td>\n",
       "      <td>16.74503</td>\n",
       "      <td>16.36036</td>\n",
       "    </tr>\n",
       "    <tr>\n",
       "      <th>1998</th>\n",
       "      <td>301882214797305856</td>\n",
       "      <td>0.062150</td>\n",
       "      <td>0.000013</td>\n",
       "      <td>19.10498</td>\n",
       "      <td>17.66437</td>\n",
       "      <td>17.12715</td>\n",
       "      <td>16.81515</td>\n",
       "      <td>16.61157</td>\n",
       "    </tr>\n",
       "    <tr>\n",
       "      <th>1999</th>\n",
       "      <td>301882489675212800</td>\n",
       "      <td>0.172407</td>\n",
       "      <td>0.000038</td>\n",
       "      <td>21.17658</td>\n",
       "      <td>18.95518</td>\n",
       "      <td>17.72259</td>\n",
       "      <td>17.24442</td>\n",
       "      <td>16.88841</td>\n",
       "    </tr>\n",
       "  </tbody>\n",
       "</table>\n",
       "<p>2000 rows × 8 columns</p>\n",
       "</div>"
      ],
      "text/plain": [
       "               SpecObjID         z      zErr modelMag_u modelMag_g modelMag_r  \\\n",
       "0     299489676975171584  0.021275  0.000009   17.15042   15.49709   14.67401   \n",
       "1     299489677444933632  0.021222  0.000009   17.15042   15.49709   14.67401   \n",
       "2     299489951853078528  0.213925  0.000052   20.43201   18.64892   17.46552   \n",
       "3     299489952322840576  0.203783  0.000039   21.33477    19.1311   17.71072   \n",
       "4     299490501608892416  0.126554  0.000062   20.77302   18.64713   17.30827   \n",
       "5     299490502078654464  0.064656  0.000021   19.50913   17.59275   16.67357   \n",
       "6     299490776486799360  0.448645  0.000168   25.34187   21.41487   19.63125   \n",
       "7     299491051364706304  0.055988  0.000011       null       null       null   \n",
       "8     299491051834468352  0.052654  0.000009   19.48928   18.32375    17.8396   \n",
       "9     299491326712375296  0.213861  0.000040   20.43201   18.64892   17.46552   \n",
       "10    299491601120520192  0.090633  0.000027   19.06631   17.28672   16.36084   \n",
       "11    299491876468189184  0.448220  0.000107   25.34187   21.41487   19.63125   \n",
       "12    299492150876334080  0.089337  0.000036   20.72383   18.48659   17.46213   \n",
       "13    299492151346096128  0.371128  0.000069   22.20296   20.35373   18.53101   \n",
       "14    299492425754241024  0.203769  0.000051   21.33477    19.1311   17.71072   \n",
       "15    299492426224003072  0.121270  0.000028   19.96076   17.99332   16.84476   \n",
       "16    299492700632147968  0.065024  0.000011   19.06883   17.61594   16.96992   \n",
       "17    299492701101910016  0.055981  0.000010       null       null       null   \n",
       "18    299492975510054912  0.121316  0.000032   19.96076   17.99332   16.84476   \n",
       "19    299492975979816960  0.097086  0.000029   20.31863    18.5103   17.61213   \n",
       "20    299493250857723904  0.064779  0.000008       null       null       null   \n",
       "21    299493525265868800  0.064777  0.000008       null       null       null   \n",
       "22    299493800143775744  0.052659  0.000009   19.48928   18.32375    17.8396   \n",
       "23    299493800613537792  0.126590  0.000049   20.77302   18.64713   17.30827   \n",
       "24    299494075021682688  0.064589  0.000016   19.50913   17.59275   16.67357   \n",
       "25    299494075491444736  0.064959  0.000009   19.06883   17.61594   16.96992   \n",
       "26    299494349899589632  0.371249  0.000088   22.20296   20.35373   18.53101   \n",
       "27    299494350369351680  0.084292  0.000026    19.9029   18.33512   17.60977   \n",
       "28    299494624777496576  0.084396  0.000028    19.9029   18.33512   17.60977   \n",
       "29    299494625247258624  0.089312  0.000028   20.72383   18.48659   17.46213   \n",
       "...                  ...       ...       ...        ...        ...        ...   \n",
       "1970  301873143826376704  0.081902  0.000011   19.82655   18.26493   17.41296   \n",
       "1971  301873418704283648  0.090345  0.000016   19.14646   17.20663   16.24115   \n",
       "1972  301873693582190592  0.169247  0.000029   20.53472   18.34488   17.13918   \n",
       "1973  301873968460097536  0.045772  0.000014   19.08747   17.59223   16.59731   \n",
       "1974  301874518215911424  0.077439  0.000018   19.38962   18.11589   17.59585   \n",
       "1975  301874793093818368  0.092592  0.000020    19.3824   17.81743   17.24421   \n",
       "1976  301875342849632256  0.200706  0.000037   21.50749   19.26019   17.96152   \n",
       "1977  301875617727539200  0.064825  0.000004   17.63496   16.28238   15.63926   \n",
       "1978  301875892605446144  0.080548  0.000018   18.94049   17.05787   16.12683   \n",
       "1979  301876167483353088  0.047310  0.000015   19.23683   17.53239   16.65579   \n",
       "1980  301876442361260032  0.092810  0.000016   19.13611   17.13307   16.15467   \n",
       "1981  301876717239166976  0.193295  0.000046    20.6156   18.96371   17.65038   \n",
       "1982  301876992117073920  0.311795  0.000060   22.34599   19.73191   18.12682   \n",
       "1983  301877266994980864  0.056478  0.000011   18.24126   16.35715   15.50788   \n",
       "1984  301877541872887808  0.202720  0.000010   19.28498   18.26913   17.56581   \n",
       "1985  301877816750794752  0.092007  0.000017   19.80788   17.91154   17.00562   \n",
       "1986  301878091628701696  0.200093  0.000028   20.68685   18.75606   17.49601   \n",
       "1987  301878366506608640  0.140001  0.000009   19.24116   18.21097    17.6187   \n",
       "1988  301878641384515584  0.168816  0.000025   19.56976   18.05537    17.0743   \n",
       "1989  301878916262422528  0.087147  0.000036   20.23092   18.42286    17.5577   \n",
       "1990  301879191140329472  0.159765  0.000035   20.95228    18.8164    17.6451   \n",
       "1991  301880015774050304  0.044834  0.000014   17.52606   15.85473   15.10012   \n",
       "1992  301880290651957248  0.087654  0.000025   20.67507   18.73854    17.7736   \n",
       "1993  301880840407771136  0.124675  0.000008    20.1242   18.74868   17.95619   \n",
       "1994  301881115285678080  0.091498  0.000022   20.07271   18.07217   17.08549   \n",
       "1995  301881390163585024  0.092464  0.000020   19.55867   17.65646   16.74422   \n",
       "1996  301881665041491968  0.065155  0.000017   19.87674   18.00967   17.13327   \n",
       "1997  301881939919398912  0.171811  0.000031    20.5569   18.50233    17.2457   \n",
       "1998  301882214797305856  0.062150  0.000013   19.10498   17.66437   17.12715   \n",
       "1999  301882489675212800  0.172407  0.000038   21.17658   18.95518   17.72259   \n",
       "\n",
       "     modelMag_i modelMag_z  \n",
       "0      14.23429   13.90754  \n",
       "1      14.23429   13.90754  \n",
       "2      16.99866   16.67051  \n",
       "3      17.14913   16.75609  \n",
       "4      16.71435   16.21529  \n",
       "5      16.20524   15.83744  \n",
       "6      18.82388   18.31009  \n",
       "7          null       null  \n",
       "8      17.52613   17.42273  \n",
       "9      16.99866   16.67051  \n",
       "10     15.93414   15.64183  \n",
       "11     18.82388   18.31009  \n",
       "12     19.39146   16.40343  \n",
       "13     17.95463   17.54962  \n",
       "14     17.14913   16.75609  \n",
       "15     16.36045   15.93532  \n",
       "16     16.57557   16.34017  \n",
       "17         null       null  \n",
       "18     16.36045   15.93532  \n",
       "19      17.2037   16.89944  \n",
       "20         null       null  \n",
       "21         null       null  \n",
       "22     17.52613   17.42273  \n",
       "23     16.71435   16.21529  \n",
       "24     16.20524   15.83744  \n",
       "25     16.57557   16.34017  \n",
       "26     17.95463   17.54962  \n",
       "27     17.20725   17.14689  \n",
       "28     17.20725   17.14689  \n",
       "29     19.39146   16.40343  \n",
       "...         ...        ...  \n",
       "1970   16.96146   16.65476  \n",
       "1971   15.81905   15.46948  \n",
       "1972   16.66674    16.3278  \n",
       "1973   16.15837   15.80311  \n",
       "1974   17.26856   17.03682  \n",
       "1975   16.97999   16.73932  \n",
       "1976   17.46728   17.08267  \n",
       "1977   15.17294   14.92673  \n",
       "1978   15.71725   15.36048  \n",
       "1979   16.19401   15.81507  \n",
       "1980   15.72316   15.36087  \n",
       "1981   17.14089     16.731  \n",
       "1982    17.5287   17.13712  \n",
       "1983   15.08795   14.76713  \n",
       "1984    17.1694   16.91188  \n",
       "1985   16.61553   16.31289  \n",
       "1986   16.95911   16.63282  \n",
       "1987   17.29213   17.10987  \n",
       "1988   16.64312   16.31248  \n",
       "1989   17.14909    16.8349  \n",
       "1990   17.15571   16.82502  \n",
       "1991   14.74038   14.44261  \n",
       "1992   17.35561   16.97374  \n",
       "1993   17.51089   17.18803  \n",
       "1994    16.6485   16.28031  \n",
       "1995     16.336    16.0367  \n",
       "1996   16.70855   16.42297  \n",
       "1997   16.74503   16.36036  \n",
       "1998   16.81515   16.61157  \n",
       "1999   17.24442   16.88841  \n",
       "\n",
       "[2000 rows x 8 columns]"
      ]
     },
     "execution_count": 3,
     "metadata": {},
     "output_type": "execute_result"
    }
   ],
   "source": [
    "data"
   ]
  },
  {
   "cell_type": "code",
   "execution_count": 4,
   "metadata": {},
   "outputs": [
    {
     "data": {
      "image/png": "[encoded data removed]",
      "text/plain": [
       "<matplotlib.figure.Figure at 0x11044cc18>"
      ]
     },
     "metadata": {},
     "output_type": "display_data"
    }
   ],
   "source": [
    "ylim(0,0.1)\n",
    "xlim(0,0.1)\n",
    "plot(data.z, data.z, '.')\n",
    "show()"
   ]
  },
  {
   "cell_type": "code",
   "execution_count": 6,
   "metadata": {},
   "outputs": [
    {
     "data": {
      "text/plain": [
       "pandas.core.series.Series"
      ]
     },
     "execution_count": 6,
     "metadata": {},
     "output_type": "execute_result"
    }
   ],
   "source": [
    "type(data.modelMag_u)"
   ]
  },
  {
   "cell_type": "markdown",
   "metadata": {},
   "source": [
    "# Új adat"
   ]
  },
  {
   "cell_type": "code",
   "execution_count": 2,
   "metadata": {
    "collapsed": true
   },
   "outputs": [],
   "source": [
    "data1 = pd.read_csv('mydata_hbendeguz.csv')\n",
    "x1 = data1.modelMag_u\n",
    "x2 = data1.modelMag_g\n",
    "x3 = data1.modelMag_r\n",
    "x4 = data1.modelMag_i\n",
    "x5 = data1.modelMag_z"
   ]
  },
  {
   "cell_type": "markdown",
   "metadata": {},
   "source": [
    "# Új modell"
   ]
  },
  {
   "cell_type": "code",
   "execution_count": 106,
   "metadata": {
    "collapsed": true
   },
   "outputs": [],
   "source": [
    "#hyperparameters\n",
    "num_features = 5\n",
    "num_h1 = 500\n",
    "num_h2 = 250\n",
    "\n",
    "delta = tf.constant(0.1)\n",
    "learningrate = 0.012\n",
    "\n",
    "epoch = 100000\n",
    "num_total_data = 50000\n",
    "num_training_set = 40000\n",
    "num_test_set = num_total_data -num_training_set\n"
   ]
  },
  {
   "cell_type": "code",
   "execution_count": 107,
   "metadata": {
    "collapsed": true
   },
   "outputs": [],
   "source": [
    "xdata = tf.placeholder(dtype = tf.float32, shape = [num_features, 1])\n",
    "ydata = tf.placeholder(dtype = tf.float32, shape = [1])"
   ]
  },
  {
   "cell_type": "code",
   "execution_count": 108,
   "metadata": {
    "collapsed": true
   },
   "outputs": [],
   "source": [
    "weights = {'h1' : tf.Variable(tf.truncated_normal(shape = [num_features, num_h1]), dtype = tf.float32),\n",
    "          'h2' :tf.Variable(tf.truncated_normal(shape = [num_h1, num_h2]), dtype = tf.float32),\n",
    "          'out' : tf.Variable(tf.truncated_normal(shape = [num_h2, 1]), dtype = tf.float32)}\n",
    "biases = {'b1' :tf.Variable(tf.zeros(shape = [num_h1]), dtype = tf.float32),\n",
    "         'b2' :tf.Variable(tf.zeros(shape = [num_h2]), dtype = tf.float32),\n",
    "         'out' :tf.Variable(tf.zeros(shape = [1]), dtype = tf.float32)}"
   ]
  },
  {
   "cell_type": "code",
   "execution_count": 109,
   "metadata": {
    "collapsed": true
   },
   "outputs": [],
   "source": [
    "layer_1 = tf.nn.sigmoid(tf.add(tf.matmul(tf.transpose(xdata),(weights['h1'])), biases['b1']))\n",
    "layer_2 = tf.nn.sigmoid(tf.add(tf.matmul(layer_1, weights['h2']), biases['b2']))\n",
    "output = tf.add(tf.matmul(layer_2, weights['out']), biases['out'])"
   ]
  },
  {
   "cell_type": "code",
   "execution_count": 110,
   "metadata": {
    "collapsed": true
   },
   "outputs": [],
   "source": [
    "loss = tf.multiply(tf.square(delta), tf.sqrt(1. +tf.square((ydata - output)/delta)) - 1.)#tf.sqrt(np.abs(tf.square(output)-tf.square((ydata))))\n",
    "rmse = tf.reduce_mean(tf.square(ydata - output))\n",
    "my_optimizer = tf.train.GradientDescentOptimizer(learning_rate = learningrate)\n",
    "train_step = my_optimizer.minimize(loss)"
   ]
  },
  {
   "cell_type": "code",
   "execution_count": 111,
   "metadata": {
    "scrolled": false
   },
   "outputs": [
    {
     "name": "stdout",
     "output_type": "stream",
     "text": [
      "[[0.0706163]] ,\n",
      "[[0.00172737]] ,\n",
      "[[0.00116135]] ,\n",
      "[[0.00088759]] ,\n",
      "[[0.00046246]] ,\n",
      "[[0.00070284]] ,\n",
      "[[0.00028916]] ,\n",
      "[[0.00032999]] ,\n",
      "[[0.00020984]] ,\n",
      "[[0.00064691]] ,\n"
     ]
    }
   ],
   "source": [
    "init_op = tf.global_variables_initializer()\n",
    "sess = tf.Session()\n",
    "sess.run(init_op)\n",
    "\n",
    "w_v = []\n",
    "for i in range(epoch):\n",
    "    rand_index = np.random.choice(num_training_set)\n",
    "    x1rand = [x1[rand_index]]\n",
    "    x2rand = [x2[rand_index]]\n",
    "    x3rand = [x3[rand_index]]\n",
    "    x4rand = [x4[rand_index]]\n",
    "    x5rand = [x5[rand_index]]\n",
    "    \n",
    "    yrand = [data1.z[rand_index]]\n",
    "    sess.run(train_step, feed_dict = {xdata: [x1rand,x2rand, x3rand, x4rand, x5rand ], ydata : yrand})\n",
    "    if i % 10000 == 0 :\n",
    "        print((sess.run(loss,feed_dict = {xdata: [x1rand,x2rand, x3rand, x4rand, x5rand ], ydata : yrand}) ),',')"
   ]
  },
  {
   "cell_type": "code",
   "execution_count": 112,
   "metadata": {},
   "outputs": [
    {
     "name": "stdout",
     "output_type": "stream",
     "text": [
      "[[0.32796177]]\n",
      "0.2937405 6.152366e-05\n"
     ]
    }
   ],
   "source": [
    "k = 45510\n",
    "\n",
    "\n",
    "\n",
    "result = sess.run(output, feed_dict = {xdata : reshape([x1[k], x2[k], x3[k], x4[k], x5[k]], (5,1)), ydata : reshape(data1.z[k], (1))})\n",
    "print(result)\n",
    "print(data1.z[k],data1.zErr[k] )"
   ]
  },
  {
   "cell_type": "code",
   "execution_count": 113,
   "metadata": {},
   "outputs": [
    {
     "data": {
      "image/png": "[encoded data removed]",
      "text/plain": [
       "<matplotlib.figure.Figure at 0x1826746ba8>"
      ]
     },
     "metadata": {},
     "output_type": "display_data"
    }
   ],
   "source": [
    "r = zeros(num_total_data)\n",
    "for i in range(num_training_set, num_total_data):\n",
    "    r[i] = sess.run(output, feed_dict = {xdata : reshape([x1[i], x2[i], x3[i], x4[i], x5[i]], (5,1)), ydata : reshape(data1.z[i], (1))})\n",
    "figsize(6,6)\n",
    "#xlim(-1,2)\n",
    "#ylim(-1, 2)\n",
    "plot(data1.z[num_training_set:num_total_data], r[num_training_set:num_total_data], '.', data1.z, data1.z)\n",
    "show()"
   ]
  },
  {
   "cell_type": "code",
   "execution_count": 114,
   "metadata": {},
   "outputs": [
    {
     "data": {
      "image/png": "[encoded data removed]",
      "text/plain": [
       "<matplotlib.figure.Figure at 0x1826746e80>"
      ]
     },
     "metadata": {},
     "output_type": "display_data"
    }
   ],
   "source": [
    "figsize(6,6)\n",
    "xlim(0,0.6)\n",
    "ylim(0, 0.6)\n",
    "x = linspace(0, 2, 1000)\n",
    "plot(data1.z[num_training_set:num_total_data:10], r[num_training_set:num_total_data:10],'.', x,x, x, x+0.05, 'b--', x, x-0.05,'b--' )\n",
    "show()\n"
   ]
  },
  {
   "cell_type": "code",
   "execution_count": 115,
   "metadata": {},
   "outputs": [
    {
     "data": {
      "image/png": "[encoded data removed]",
      "text/plain": [
       "<matplotlib.figure.Figure at 0x18267a2a58>"
      ]
     },
     "metadata": {},
     "output_type": "display_data"
    }
   ],
   "source": [
    "xlim(0,1)\n",
    "\n",
    "\n",
    "a = hist(data1.z[num_training_set:num_total_data], 750, label ='data')\n",
    "b = hist(r[num_training_set:num_total_data], 15000, label = 'estimated')\n",
    "\n",
    "legend(loc='upper right')\n",
    "show()"
   ]
  },
  {
   "cell_type": "code",
   "execution_count": 133,
   "metadata": {},
   "outputs": [
    {
     "data": {
      "text/plain": [
       "1.0890502787359055"
      ]
     },
     "execution_count": 133,
     "metadata": {},
     "output_type": "execute_result"
    }
   ],
   "source": [
    "(data1.z[45000]-r[45000])/data1.z[45000]*100"
   ]
  },
  {
   "cell_type": "code",
   "execution_count": 101,
   "metadata": {},
   "outputs": [
    {
     "name": "stdout",
     "output_type": "stream",
     "text": [
      "0.0022120567\n"
     ]
    }
   ],
   "source": [
    "print(sess.run(rmse, feed_dict = {xdata : reshape([x1[i], x2[i], x3[i], x4[i], x5[i]], (5,1)), ydata : reshape(data1.z[i], (1))}))"
   ]
  },
  {
   "cell_type": "code",
   "execution_count": 102,
   "metadata": {
    "scrolled": true
   },
   "outputs": [
    {
     "name": "stdout",
     "output_type": "stream",
     "text": [
      "393074061044901888 0.1839446 -0.9794612526893616 19.50977 26.984240000000003 28.0878 21.9928\n",
      "388453088400271360 0.12144010000000001 -2.1963233947753906 25.13331 19.17024 25.21419 24.58418\n",
      "396394862548641792 0.3333751 -1.3077194690704346 28.210440000000002 28.60963 29.26865 17.26175\n",
      "396398434367596544 0.579963 -1.3077194690704346 28.210440000000002 28.60963 29.26865 17.26175\n",
      "350182386752841728 0.12374289999999999 -7.46321439743042 28.7491 17.05015 16.74788 15.39492\n",
      "381846947696240640 0.08701199 -5.779307842254639 29.3403 17.646279999999997 16.66575 18.822110000000002\n",
      "351320106812336128 0.1152974 -1.1409193277359009 19.18795 28.395909999999997 25.156589999999998 25.18671\n",
      "370537926955657216 0.39956679999999994 2.579726457595825 17.18251 18.03531 16.74354 17.772679999999998\n",
      "388519883731658752 0.05857534 -1.1262742280960083 23.49626 25.29659 24.86955 16.91856\n"
     ]
    }
   ],
   "source": [
    "c = 0\n",
    "for i in range(num_training_set, num_total_data):\n",
    "    r[i] = sess.run(output, feed_dict = {xdata : reshape([x1[i], x2[i], x3[i], x4[i], x5[i]], (5,1)), ydata : reshape(data1.z[i], (1))})\n",
    "    if abs(r[i]-data1.z[i]) > 1:\n",
    "        print(data1.SpecObjID[i], data1.z[i], r[i], data1.modelMag_u[i],data1.modelMag_g[i], data1.modelMag_r[i], data1.modelMag_i[i]  )\n",
    "        c=c+1"
   ]
  },
  {
   "cell_type": "code",
   "execution_count": 76,
   "metadata": {},
   "outputs": [
    {
     "data": {
      "image/png": "[encoded data removed]",
      "text/plain": [
       "<matplotlib.figure.Figure at 0x18270269e8>"
      ]
     },
     "metadata": {},
     "output_type": "display_data"
    }
   ],
   "source": [
    "xlim(0, 25)\n",
    "a = hist(data1.modelMag_g, bins =  20000)"
   ]
  },
  {
   "cell_type": "code",
   "execution_count": 15,
   "metadata": {},
   "outputs": [
    {
     "name": "stdout",
     "output_type": "stream",
     "text": [
      "7\n"
     ]
    }
   ],
   "source": [
    "print(c)"
   ]
  },
  {
   "cell_type": "code",
   "execution_count": 16,
   "metadata": {},
   "outputs": [
    {
     "data": {
      "text/plain": [
       "7.511545178271485"
      ]
     },
     "execution_count": 16,
     "metadata": {},
     "output_type": "execute_result"
    }
   ],
   "source": [
    "max(abs(data1.z-r))"
   ]
  },
  {
   "cell_type": "code",
   "execution_count": null,
   "metadata": {
    "collapsed": true
   },
   "outputs": [],
   "source": [
    "b =[[[0.59539145]] ,\n",
    "[[0.00113958]] ,\n",
    "[[5.182028e-06]] ,\n",
    "[[0.00055654]] ,\n",
    "[[0.00052539]] ,\n",
    "[[0.00052115]] ,\n",
    "[[4.5875313e-05]] ,\n",
    "[[0.0004656]] ,\n",
    "[[3.6597254e-07]] ,\n",
    "[[0.00037451]] ,\n",
    "[[0.00019549]] ,\n",
    "[[0.00024385]] ,\n",
    "[[0.00043429]] ,\n",
    "[[1.4908314e-05]] ,\n",
    "[[0.00038074]] ,\n",
    "[[0.00010128]] ,\n",
    "[[0.00021127]] ,\n",
    "[[4.4584277e-07]] ,\n",
    "[[0.00053595]] ,\n",
    "[[0.00024191]] ,\n",
    "[[0.00021455]] ,\n",
    "[[0.00040808]] ,\n",
    "[[4.209757e-05]] ,\n",
    "[[0.00027517]] ,\n",
    "[[8.875132e-05]] ,\n",
    "[[1.6740561e-05]] ,\n",
    "[[1.41704095e-05]] ,\n",
    "[[2.0234585e-05]] ,\n",
    "[[3.397465e-07]] ,\n",
    "[[3.5656692e-05]] ,\n",
    "[[0.00021072]] ,\n",
    "[[0.00025931]] ,\n",
    "[[1.5665293e-05]] ,\n",
    "[[0.00018006]] ,\n",
    "[[0.00020324]] ,\n",
    "[[0.00019323]] ,\n",
    "[[0.00011263]] ,\n",
    "[[0.00128215]] ,\n",
    "[[2.8504135e-05]] ,\n",
    "[[6.6995625e-07]] ]\n",
    "a = reshape((b), (40,1))\n",
    "plot(a[1:], marker = 'o')"
   ]
  },
  {
   "cell_type": "code",
   "execution_count": null,
   "metadata": {
    "collapsed": true
   },
   "outputs": [],
   "source": [
    "a = pd.read_csv('MyTable_1_hbendeguz.csv')\n",
    "a"
   ]
  },
  {
   "cell_type": "markdown",
   "metadata": {},
   "source": [
    "# Régi, nem túl jól működő"
   ]
  },
  {
   "cell_type": "code",
   "execution_count": 177,
   "metadata": {
    "collapsed": true
   },
   "outputs": [],
   "source": [
    "w = tf.Variable(tf.truncated_normal(shape = [4, 4]), dtype = tf.float32)\n",
    "b = tf.Variable(tf.zeros(shape = [4,1]), dtype = tf.float32)\n",
    "w2 = tf.Variable(tf.truncated_normal(shape = [4, 1]), dtype = tf.float32)\n",
    "b2 = tf.Variable(tf.zeros(shape = [1]), dtype = tf.float32)"
   ]
  },
  {
   "cell_type": "code",
   "execution_count": 183,
   "metadata": {},
   "outputs": [
    {
     "ename": "ValueError",
     "evalue": "Dimensions must be equal, but are 4 and 5 for 'MatMul_35' (op: 'MatMul') with input shapes: [4,4], [5,1].",
     "output_type": "error",
     "traceback": [
      "\u001b[0;31m---------------------------------------------------------------------------\u001b[0m",
      "\u001b[0;31mInvalidArgumentError\u001b[0m                      Traceback (most recent call last)",
      "\u001b[0;32m/anaconda3/lib/python3.6/site-packages/tensorflow/python/framework/common_shapes.py\u001b[0m in \u001b[0;36m_call_cpp_shape_fn_impl\u001b[0;34m(op, input_tensors_needed, input_tensors_as_shapes_needed, require_shape_fn)\u001b[0m\n\u001b[1;32m    685\u001b[0m \u001b[0;34m\u001b[0m\u001b[0m\n\u001b[0;32m--> 686\u001b[0;31m   \u001b[0;31m# Convert TensorShapeProto values in output_shapes.\u001b[0m\u001b[0;34m\u001b[0m\u001b[0;34m\u001b[0m\u001b[0m\n\u001b[0m\u001b[1;32m    687\u001b[0m   result_protos = [\n",
      "\u001b[0;32m/anaconda3/lib/python3.6/site-packages/tensorflow/python/framework/errors_impl.py\u001b[0m in \u001b[0;36m__exit__\u001b[0;34m(self, type_arg, value_arg, traceback_arg)\u001b[0m\n",
      "\u001b[0;31mInvalidArgumentError\u001b[0m: Dimensions must be equal, but are 4 and 5 for 'MatMul_35' (op: 'MatMul') with input shapes: [4,4], [5,1].",
      "\nDuring handling of the above exception, another exception occurred:\n",
      "\u001b[0;31mValueError\u001b[0m                                Traceback (most recent call last)",
      "\u001b[0;32m<ipython-input-183-7ed50f495b91>\u001b[0m in \u001b[0;36m<module>\u001b[0;34m()\u001b[0m\n\u001b[0;32m----> 1\u001b[0;31m \u001b[0mfirst_layer\u001b[0m \u001b[0;34m=\u001b[0m \u001b[0mtf\u001b[0m\u001b[0;34m.\u001b[0m\u001b[0mnn\u001b[0m\u001b[0;34m.\u001b[0m\u001b[0msigmoid\u001b[0m\u001b[0;34m(\u001b[0m\u001b[0mtf\u001b[0m\u001b[0;34m.\u001b[0m\u001b[0madd\u001b[0m\u001b[0;34m(\u001b[0m\u001b[0mtf\u001b[0m\u001b[0;34m.\u001b[0m\u001b[0mmatmul\u001b[0m\u001b[0;34m(\u001b[0m\u001b[0mw\u001b[0m\u001b[0;34m,\u001b[0m\u001b[0mxdata\u001b[0m\u001b[0;34m)\u001b[0m\u001b[0;34m,\u001b[0m\u001b[0mb\u001b[0m\u001b[0;34m)\u001b[0m\u001b[0;34m)\u001b[0m\u001b[0;34m+\u001b[0m\u001b[0;36m1\u001b[0m\u001b[0;34m\u001b[0m\u001b[0m\n\u001b[0m\u001b[1;32m      2\u001b[0m \u001b[0msecond_layer\u001b[0m \u001b[0;34m=\u001b[0m \u001b[0mtf\u001b[0m\u001b[0;34m.\u001b[0m\u001b[0madd\u001b[0m\u001b[0;34m(\u001b[0m\u001b[0mtf\u001b[0m\u001b[0;34m.\u001b[0m\u001b[0mtensordot\u001b[0m\u001b[0;34m(\u001b[0m\u001b[0mtf\u001b[0m\u001b[0;34m.\u001b[0m\u001b[0mtranspose\u001b[0m\u001b[0;34m(\u001b[0m\u001b[0mw2\u001b[0m\u001b[0;34m)\u001b[0m\u001b[0;34m,\u001b[0m \u001b[0mfirst_layer\u001b[0m\u001b[0;34m,\u001b[0m \u001b[0;36m1\u001b[0m\u001b[0;34m)\u001b[0m\u001b[0;34m,\u001b[0m\u001b[0mb2\u001b[0m\u001b[0;34m)\u001b[0m\u001b[0;34m\u001b[0m\u001b[0m\n",
      "\u001b[0;32m/anaconda3/lib/python3.6/site-packages/tensorflow/python/ops/math_ops.py\u001b[0m in \u001b[0;36mmatmul\u001b[0;34m(a, b, transpose_a, transpose_b, adjoint_a, adjoint_b, a_is_sparse, b_is_sparse, name)\u001b[0m\n\u001b[1;32m   2020\u001b[0m     \u001b[0;32mif\u001b[0m \u001b[0misinstance\u001b[0m\u001b[0;34m(\u001b[0m\u001b[0mx\u001b[0m\u001b[0;34m,\u001b[0m \u001b[0msparse_tensor\u001b[0m\u001b[0;34m.\u001b[0m\u001b[0mSparseTensor\u001b[0m\u001b[0;34m)\u001b[0m\u001b[0;34m:\u001b[0m\u001b[0;34m\u001b[0m\u001b[0m\n\u001b[1;32m   2021\u001b[0m       \u001b[0mx_tanh\u001b[0m \u001b[0;34m=\u001b[0m \u001b[0mgen_math_ops\u001b[0m\u001b[0;34m.\u001b[0m\u001b[0m_tanh\u001b[0m\u001b[0;34m(\u001b[0m\u001b[0mx\u001b[0m\u001b[0;34m.\u001b[0m\u001b[0mvalues\u001b[0m\u001b[0;34m,\u001b[0m \u001b[0mname\u001b[0m\u001b[0;34m=\u001b[0m\u001b[0mname\u001b[0m\u001b[0;34m)\u001b[0m\u001b[0;34m\u001b[0m\u001b[0m\n\u001b[0;32m-> 2022\u001b[0;31m       return sparse_tensor.SparseTensor(\n\u001b[0m\u001b[1;32m   2023\u001b[0m           indices=x.indices, values=x_tanh, dense_shape=x.dense_shape)\n\u001b[1;32m   2024\u001b[0m     \u001b[0;32melse\u001b[0m\u001b[0;34m:\u001b[0m\u001b[0;34m\u001b[0m\u001b[0m\n",
      "\u001b[0;32m/anaconda3/lib/python3.6/site-packages/tensorflow/python/ops/gen_math_ops.py\u001b[0m in \u001b[0;36m_mat_mul\u001b[0;34m(a, b, transpose_a, transpose_b, name)\u001b[0m\n\u001b[1;32m   2514\u001b[0m       \u001b[0mA\u001b[0m \u001b[0;36m1\u001b[0m\u001b[0;34m-\u001b[0m\u001b[0mD\u001b[0m \u001b[0mtensor\u001b[0m\u001b[0;34m.\u001b[0m \u001b[0mHas\u001b[0m \u001b[0msame\u001b[0m \u001b[0mrank\u001b[0m \u001b[0;32mas\u001b[0m\u001b[0;31m \u001b[0m\u001b[0;31m`\u001b[0m\u001b[0msegment_ids\u001b[0m\u001b[0;31m`\u001b[0m\u001b[0;34m.\u001b[0m\u001b[0;34m\u001b[0m\u001b[0m\n\u001b[1;32m   2515\u001b[0m     \u001b[0msegment_ids\u001b[0m\u001b[0;34m:\u001b[0m \u001b[0mA\u001b[0m\u001b[0;31m \u001b[0m\u001b[0;31m`\u001b[0m\u001b[0mTensor\u001b[0m\u001b[0;31m`\u001b[0m \u001b[0mof\u001b[0m \u001b[0mtype\u001b[0m\u001b[0;31m \u001b[0m\u001b[0;31m`\u001b[0m\u001b[0mint32\u001b[0m\u001b[0;31m`\u001b[0m\u001b[0;34m.\u001b[0m\u001b[0;34m\u001b[0m\u001b[0m\n\u001b[0;32m-> 2516\u001b[0;31m       \u001b[0mA\u001b[0m \u001b[0;36m1\u001b[0m\u001b[0;34m-\u001b[0m\u001b[0mD\u001b[0m \u001b[0mtensor\u001b[0m\u001b[0;34m.\u001b[0m \u001b[0mValues\u001b[0m \u001b[0mshould\u001b[0m \u001b[0mbe\u001b[0m \u001b[0msorted\u001b[0m \u001b[0;32mand\u001b[0m \u001b[0mcan\u001b[0m \u001b[0mbe\u001b[0m \u001b[0mrepeated\u001b[0m\u001b[0;34m.\u001b[0m\u001b[0;34m\u001b[0m\u001b[0m\n\u001b[0m\u001b[1;32m   2517\u001b[0m     \u001b[0mname\u001b[0m\u001b[0;34m:\u001b[0m \u001b[0mA\u001b[0m \u001b[0mname\u001b[0m \u001b[0;32mfor\u001b[0m \u001b[0mthe\u001b[0m \u001b[0moperation\u001b[0m \u001b[0;34m(\u001b[0m\u001b[0moptional\u001b[0m\u001b[0;34m)\u001b[0m\u001b[0;34m.\u001b[0m\u001b[0;34m\u001b[0m\u001b[0m\n\u001b[1;32m   2518\u001b[0m \u001b[0;34m\u001b[0m\u001b[0m\n",
      "\u001b[0;32m/anaconda3/lib/python3.6/site-packages/tensorflow/python/framework/op_def_library.py\u001b[0m in \u001b[0;36m_apply_op_helper\u001b[0;34m(self, op_type_name, name, **keywords)\u001b[0m\n",
      "\u001b[0;32m/anaconda3/lib/python3.6/site-packages/tensorflow/python/framework/ops.py\u001b[0m in \u001b[0;36mcreate_op\u001b[0;34m(self, op_type, inputs, dtypes, input_types, name, attrs, op_def, compute_shapes, compute_device)\u001b[0m\n\u001b[1;32m   3160\u001b[0m         \u001b[0mself\u001b[0m\u001b[0;34m.\u001b[0m\u001b[0m_old_stack\u001b[0m \u001b[0;34m=\u001b[0m \u001b[0mself\u001b[0m\u001b[0;34m.\u001b[0m\u001b[0m_graph\u001b[0m\u001b[0;34m.\u001b[0m\u001b[0m_control_dependencies_stack\u001b[0m\u001b[0;34m\u001b[0m\u001b[0m\n\u001b[1;32m   3161\u001b[0m         \u001b[0mself\u001b[0m\u001b[0;34m.\u001b[0m\u001b[0m_graph\u001b[0m\u001b[0;34m.\u001b[0m\u001b[0m_control_dependencies_stack\u001b[0m \u001b[0;34m=\u001b[0m \u001b[0;34m[\u001b[0m\u001b[0;34m]\u001b[0m\u001b[0;34m\u001b[0m\u001b[0m\n\u001b[0;32m-> 3162\u001b[0;31m         \u001b[0;31m# Clear the control_flow_context too.\u001b[0m\u001b[0;34m\u001b[0m\u001b[0;34m\u001b[0m\u001b[0m\n\u001b[0m\u001b[1;32m   3163\u001b[0m         \u001b[0mself\u001b[0m\u001b[0;34m.\u001b[0m\u001b[0m_old_control_flow_context\u001b[0m \u001b[0;34m=\u001b[0m \u001b[0mself\u001b[0m\u001b[0;34m.\u001b[0m\u001b[0m_graph\u001b[0m\u001b[0;34m.\u001b[0m\u001b[0m_get_control_flow_context\u001b[0m\u001b[0;34m(\u001b[0m\u001b[0;34m)\u001b[0m\u001b[0;34m\u001b[0m\u001b[0m\n\u001b[1;32m   3164\u001b[0m         \u001b[0mself\u001b[0m\u001b[0;34m.\u001b[0m\u001b[0m_graph\u001b[0m\u001b[0;34m.\u001b[0m\u001b[0m_set_control_flow_context\u001b[0m\u001b[0;34m(\u001b[0m\u001b[0;32mNone\u001b[0m\u001b[0;34m)\u001b[0m\u001b[0;34m\u001b[0m\u001b[0m\n",
      "\u001b[0;32m/anaconda3/lib/python3.6/site-packages/tensorflow/python/framework/ops.py\u001b[0m in \u001b[0;36m_create_op_helper\u001b[0;34m(self, op, compute_shapes, compute_device)\u001b[0m\n\u001b[1;32m   3206\u001b[0m     \u001b[0mcontrol_dependencies\u001b[0m\u001b[0;34m(\u001b[0m\u001b[0;34m...\u001b[0m\u001b[0;34m)\u001b[0m\u001b[0;34m:\u001b[0m\u001b[0;31m`\u001b[0m \u001b[0mblock\u001b[0m \u001b[0mmay\u001b[0m \u001b[0mhave\u001b[0m \u001b[0mdata\u001b[0m \u001b[0mdependencies\u001b[0m \u001b[0mthat\u001b[0m \u001b[0mmake\u001b[0m\u001b[0;34m\u001b[0m\u001b[0m\n\u001b[1;32m   3207\u001b[0m     \u001b[0mthe\u001b[0m \u001b[0mexplicit\u001b[0m \u001b[0mapproach\u001b[0m \u001b[0mredundant\u001b[0m\u001b[0;34m.\u001b[0m\u001b[0;34m\u001b[0m\u001b[0m\n\u001b[0;32m-> 3208\u001b[0;31m \u001b[0;34m\u001b[0m\u001b[0m\n\u001b[0m\u001b[1;32m   3209\u001b[0m     \u001b[0mArgs\u001b[0m\u001b[0;34m:\u001b[0m\u001b[0;34m\u001b[0m\u001b[0m\n\u001b[1;32m   3210\u001b[0m       \u001b[0minput_tensors\u001b[0m\u001b[0;34m:\u001b[0m \u001b[0mThe\u001b[0m \u001b[0mdirect\u001b[0m \u001b[0mdata\u001b[0m \u001b[0mdependencies\u001b[0m \u001b[0;32mfor\u001b[0m \u001b[0man\u001b[0m \u001b[0mop\u001b[0m \u001b[0mto\u001b[0m \u001b[0mbe\u001b[0m \u001b[0mcreated\u001b[0m\u001b[0;34m.\u001b[0m\u001b[0;34m\u001b[0m\u001b[0m\n",
      "\u001b[0;32m/anaconda3/lib/python3.6/site-packages/tensorflow/python/framework/ops.py\u001b[0m in \u001b[0;36mset_shapes_for_outputs\u001b[0;34m(op)\u001b[0m\n\u001b[1;32m   2425\u001b[0m     \u001b[0;32mif\u001b[0m \u001b[0mallow_tensor\u001b[0m \u001b[0;32mand\u001b[0m \u001b[0mallow_operation\u001b[0m\u001b[0;34m:\u001b[0m\u001b[0;34m\u001b[0m\u001b[0m\n\u001b[1;32m   2426\u001b[0m       \u001b[0mtypes_str\u001b[0m \u001b[0;34m=\u001b[0m \u001b[0;34m\"Tensor or Operation\"\u001b[0m\u001b[0;34m\u001b[0m\u001b[0m\n\u001b[0;32m-> 2427\u001b[0;31m     \u001b[0;32melif\u001b[0m \u001b[0mallow_tensor\u001b[0m\u001b[0;34m:\u001b[0m\u001b[0;34m\u001b[0m\u001b[0m\n\u001b[0m\u001b[1;32m   2428\u001b[0m       \u001b[0mtypes_str\u001b[0m \u001b[0;34m=\u001b[0m \u001b[0;34m\"Tensor\"\u001b[0m\u001b[0;34m\u001b[0m\u001b[0m\n\u001b[1;32m   2429\u001b[0m     \u001b[0;32melif\u001b[0m \u001b[0mallow_operation\u001b[0m\u001b[0;34m:\u001b[0m\u001b[0;34m\u001b[0m\u001b[0m\n",
      "\u001b[0;32m/anaconda3/lib/python3.6/site-packages/tensorflow/python/framework/ops.py\u001b[0m in \u001b[0;36m_set_shapes_for_outputs\u001b[0;34m(op)\u001b[0m\n\u001b[1;32m   2398\u001b[0m       \u001b[0mallow_operation\u001b[0m\u001b[0;34m:\u001b[0m \u001b[0mIf\u001b[0m \u001b[0mtrue\u001b[0m\u001b[0;34m,\u001b[0m\u001b[0;31m \u001b[0m\u001b[0;31m`\u001b[0m\u001b[0mobj\u001b[0m\u001b[0;31m`\u001b[0m \u001b[0mmay\u001b[0m \u001b[0mrefer\u001b[0m \u001b[0mto\u001b[0m \u001b[0man\u001b[0m\u001b[0;31m \u001b[0m\u001b[0;31m`\u001b[0m\u001b[0mOperation\u001b[0m\u001b[0;31m`\u001b[0m\u001b[0;34m.\u001b[0m\u001b[0;34m\u001b[0m\u001b[0m\n\u001b[1;32m   2399\u001b[0m \u001b[0;34m\u001b[0m\u001b[0m\n\u001b[0;32m-> 2400\u001b[0;31m     \u001b[0mReturns\u001b[0m\u001b[0;34m:\u001b[0m\u001b[0;34m\u001b[0m\u001b[0m\n\u001b[0m\u001b[1;32m   2401\u001b[0m       \u001b[0mThe\u001b[0m\u001b[0;31m \u001b[0m\u001b[0;31m`\u001b[0m\u001b[0mTensor\u001b[0m\u001b[0;31m`\u001b[0m \u001b[0;32mor\u001b[0m\u001b[0;31m \u001b[0m\u001b[0;31m`\u001b[0m\u001b[0mOperation\u001b[0m\u001b[0;31m`\u001b[0m \u001b[0;32min\u001b[0m \u001b[0mthe\u001b[0m \u001b[0mGraph\u001b[0m \u001b[0mcorresponding\u001b[0m \u001b[0mto\u001b[0m\u001b[0;31m \u001b[0m\u001b[0;31m`\u001b[0m\u001b[0mobj\u001b[0m\u001b[0;31m`\u001b[0m\u001b[0;34m.\u001b[0m\u001b[0;34m\u001b[0m\u001b[0m\n\u001b[1;32m   2402\u001b[0m \u001b[0;34m\u001b[0m\u001b[0m\n",
      "\u001b[0;32m/anaconda3/lib/python3.6/site-packages/tensorflow/python/framework/ops.py\u001b[0m in \u001b[0;36mcall_with_requiring\u001b[0;34m(op)\u001b[0m\n\u001b[1;32m   2328\u001b[0m       node_def.attr[\"_gradient_op_type\"].CopyFrom(\n\u001b[1;32m   2329\u001b[0m           attr_value_pb2.AttrValue(s=compat.as_bytes(mapped_op_type)))\n\u001b[0;32m-> 2330\u001b[0;31m     \u001b[0;32mexcept\u001b[0m \u001b[0mKeyError\u001b[0m\u001b[0;34m:\u001b[0m\u001b[0;34m\u001b[0m\u001b[0m\n\u001b[0m\u001b[1;32m   2331\u001b[0m       \u001b[0;32mpass\u001b[0m\u001b[0;34m\u001b[0m\u001b[0m\n\u001b[1;32m   2332\u001b[0m \u001b[0;34m\u001b[0m\u001b[0m\n",
      "\u001b[0;32m/anaconda3/lib/python3.6/site-packages/tensorflow/python/framework/common_shapes.py\u001b[0m in \u001b[0;36mcall_cpp_shape_fn\u001b[0;34m(op, require_shape_fn)\u001b[0m\n\u001b[1;32m    625\u001b[0m     \u001b[0;32mfor\u001b[0m \u001b[0midx\u001b[0m \u001b[0;32min\u001b[0m \u001b[0mp\u001b[0m\u001b[0;34m.\u001b[0m\u001b[0minput_tensors_as_shapes_needed\u001b[0m\u001b[0;34m:\u001b[0m\u001b[0;34m\u001b[0m\u001b[0m\n\u001b[1;32m    626\u001b[0m       \u001b[0;32mif\u001b[0m \u001b[0midx\u001b[0m \u001b[0;32mnot\u001b[0m \u001b[0;32min\u001b[0m \u001b[0minput_tensors_as_shapes_needed\u001b[0m\u001b[0;34m:\u001b[0m\u001b[0;34m\u001b[0m\u001b[0m\n\u001b[0;32m--> 627\u001b[0;31m         \u001b[0minput_tensors_as_shapes_needed\u001b[0m\u001b[0;34m.\u001b[0m\u001b[0mappend\u001b[0m\u001b[0;34m(\u001b[0m\u001b[0midx\u001b[0m\u001b[0;34m)\u001b[0m\u001b[0;34m\u001b[0m\u001b[0m\n\u001b[0m\u001b[1;32m    628\u001b[0m         \u001b[0mchanged\u001b[0m \u001b[0;34m=\u001b[0m \u001b[0;32mTrue\u001b[0m\u001b[0;34m\u001b[0m\u001b[0m\n\u001b[1;32m    629\u001b[0m     \u001b[0;32mif\u001b[0m \u001b[0;32mnot\u001b[0m \u001b[0mchanged\u001b[0m\u001b[0;34m:\u001b[0m\u001b[0;34m\u001b[0m\u001b[0m\n",
      "\u001b[0;32m/anaconda3/lib/python3.6/site-packages/tensorflow/python/framework/common_shapes.py\u001b[0m in \u001b[0;36m_call_cpp_shape_fn_impl\u001b[0;34m(op, input_tensors_needed, input_tensors_as_shapes_needed, require_shape_fn)\u001b[0m\n\u001b[1;32m    689\u001b[0m       \u001b[0;32mfor\u001b[0m \u001b[0ms\u001b[0m \u001b[0;32min\u001b[0m \u001b[0moutput_shapes\u001b[0m\u001b[0;34m\u001b[0m\u001b[0m\n\u001b[1;32m    690\u001b[0m   ]\n\u001b[0;32m--> 691\u001b[0;31m   \u001b[0mresult\u001b[0m \u001b[0;34m=\u001b[0m \u001b[0;34m[\u001b[0m\u001b[0mr\u001b[0m\u001b[0;34m.\u001b[0m\u001b[0mshape\u001b[0m \u001b[0;32mfor\u001b[0m \u001b[0mr\u001b[0m \u001b[0;32min\u001b[0m \u001b[0mresult_protos\u001b[0m\u001b[0;34m]\u001b[0m\u001b[0;34m\u001b[0m\u001b[0m\n\u001b[0m\u001b[1;32m    692\u001b[0m   \u001b[0mresult_handle_shapes\u001b[0m \u001b[0;34m=\u001b[0m \u001b[0;34m[\u001b[0m\u001b[0mr\u001b[0m\u001b[0;34m.\u001b[0m\u001b[0mhandle_shape\u001b[0m \u001b[0;32mfor\u001b[0m \u001b[0mr\u001b[0m \u001b[0;32min\u001b[0m \u001b[0mresult_protos\u001b[0m\u001b[0;34m]\u001b[0m\u001b[0;34m\u001b[0m\u001b[0m\n\u001b[1;32m    693\u001b[0m   \u001b[0mresult_handle_dtypes\u001b[0m \u001b[0;34m=\u001b[0m \u001b[0;34m[\u001b[0m\u001b[0mr\u001b[0m\u001b[0;34m.\u001b[0m\u001b[0mhandle_dtype\u001b[0m \u001b[0;32mfor\u001b[0m \u001b[0mr\u001b[0m \u001b[0;32min\u001b[0m \u001b[0mresult_protos\u001b[0m\u001b[0;34m]\u001b[0m\u001b[0;34m\u001b[0m\u001b[0m\n",
      "\u001b[0;31mValueError\u001b[0m: Dimensions must be equal, but are 4 and 5 for 'MatMul_35' (op: 'MatMul') with input shapes: [4,4], [5,1]."
     ]
    }
   ],
   "source": [
    "first_layer = tf.nn.sigmoid(tf.add(tf.matmul(w,xdata),b))+1\n",
    "second_layer = tf.add(tf.tensordot(tf.transpose(w2), first_layer, 1),b2)"
   ]
  },
  {
   "cell_type": "code",
   "execution_count": null,
   "metadata": {
    "collapsed": true
   },
   "outputs": [],
   "source": [
    "first_layer"
   ]
  },
  {
   "cell_type": "code",
   "execution_count": null,
   "metadata": {
    "collapsed": true
   },
   "outputs": [],
   "source": [
    "second_layer"
   ]
  },
  {
   "cell_type": "code",
   "execution_count": null,
   "metadata": {
    "collapsed": true
   },
   "outputs": [],
   "source": [
    "loss = tf.sqrt(np.abs(tf.square(second_layer)-tf.square((ydata))))\n",
    "my_optimizer = tf.train.AdamOptimizer(learning_rate = 0.00009)\n",
    "train_step = my_optimizer.minimize(loss)"
   ]
  },
  {
   "cell_type": "code",
   "execution_count": null,
   "metadata": {
    "collapsed": true
   },
   "outputs": [],
   "source": [
    "init_op = tf.global_variables_initializer()\n",
    "\n",
    "sess = tf.Session()\n",
    "sess.run(init_op)\n",
    "epoch = 80000\n",
    "w_v = []\n",
    "for i in range(epoch):\n",
    "    rand_index = np.random.choice(2000)\n",
    "    x1rand = [x1[rand_index]]\n",
    "    x2rand = [x2[rand_index]]\n",
    "    x3rand = [x3[rand_index]]\n",
    "    x4rand = [x4[rand_index]]\n",
    "    \n",
    "    yrand = [data.z[rand_index]]\n",
    "    sess.run(train_step, feed_dict = {xdata: [x1rand,x2rand, x3rand, x4rand ], ydata : yrand})\n",
    "    "
   ]
  },
  {
   "cell_type": "code",
   "execution_count": null,
   "metadata": {
    "collapsed": true
   },
   "outputs": [],
   "source": [
    "#print(sess.run(w), sess.run(b))\n",
    "result = sess.run(second_layer, feed_dict = {xdata : reshape([x1[3], x2[3], x3[3], x4[3]], (4,1)), ydata : reshape(data.z[3], (1))})"
   ]
  },
  {
   "cell_type": "code",
   "execution_count": null,
   "metadata": {
    "collapsed": true
   },
   "outputs": [],
   "source": [
    "data.z[3]"
   ]
  },
  {
   "cell_type": "code",
   "execution_count": null,
   "metadata": {
    "collapsed": true
   },
   "outputs": [],
   "source": [
    "print(str(result))"
   ]
  },
  {
   "cell_type": "code",
   "execution_count": null,
   "metadata": {
    "collapsed": true
   },
   "outputs": [],
   "source": [
    "r = zeros(2000)\n",
    "for i in range(2000):\n",
    "    r[i] = sess.run(second_layer, feed_dict = {xdata : reshape([x1[i], x2[i], x3[i], x4[i]], (4,1)), ydata : reshape(data.z[i], (1))})\n"
   ]
  },
  {
   "cell_type": "code",
   "execution_count": null,
   "metadata": {
    "collapsed": true
   },
   "outputs": [],
   "source": [
    "figsize(6,6)\n",
    "xlim(0,0.35)\n",
    "ylim(0, 0.35)\n",
    "plot(data.z[:2000], r, '.')"
   ]
  },
  {
   "cell_type": "code",
   "execution_count": null,
   "metadata": {
    "collapsed": true
   },
   "outputs": [],
   "source": [
    "a = hist(data.z, 1000)"
   ]
  },
  {
   "cell_type": "code",
   "execution_count": null,
   "metadata": {
    "collapsed": true
   },
   "outputs": [],
   "source": []
  }
 ],
 "metadata": {
  "kernelspec": {
   "display_name": "Python 3",
   "language": "python",
   "name": "python3"
  },
  "language_info": {
   "codemirror_mode": {
    "name": "ipython",
    "version": 3
   },
   "file_extension": ".py",
   "mimetype": "text/x-python",
   "name": "python",
   "nbconvert_exporter": "python",
   "pygments_lexer": "ipython3",
   "version": "3.6.3"
  }
 },
 "nbformat": 4,
 "nbformat_minor": 2
}
